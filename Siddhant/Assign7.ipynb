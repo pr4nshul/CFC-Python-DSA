{
 "cells": [
  {
   "cell_type": "markdown",
   "id": "liable-meter",
   "metadata": {},
   "source": [
    "    1. Leetcode LinkedList Problems:\n",
    "    a. https://leetcode.com/problems/convert-binary-number-in-a-linked-list-to-integer/\n",
    "    b. https://leetcode.com/problems/reverse-linked-list/\n",
    "    c. https://leetcode.com/problems/reverse-linked-list-ii/\n",
    "    d. https://leetcode.com/problems/middle-of-the-linked-list/\n",
    "    e. https://leetcode.com/problems/merge-two-sorted-lists/\n",
    "    f. https://leetcode.com/problems/reorder-list/\n",
    "    g. https://leetcode.com/problems/delete-node-in-a-linked-list/\n",
    "    h. https://leetcode.com/problems/remove-nth-node-from-end-of-list\n",
    "    i. https://leetcode.com/problems/swapping-nodes-in-a-linked-list/\n",
    "    j. https://leetcode.com/problems/add-two-numbers/\n",
    "    k. https://leetcode.com/problems/add-two-numbers-ii/\n",
    "    l. https://leetcode.com/problems/palindrome-linked-list/\n",
    "    m. https://leetcode.com/problems/intersection-of-two-linked-lists/\n",
    "    n. https://leetcode.com/problems/linked-list-cycle/\n",
    "    o. https://leetcode.com/problems/linked-list-cycle-ii/\n",
    "    p. https://leetcode.com/problems/reverse-nodes-in-k-group/\n",
    "    q. https://leetcode.com/problems/flatten-a-multilevel-doubly-linked-list/\n",
    "    r. https://leetcode.com/problems/rotate-list/\n",
    "    s. https://leetcode.com/problems/copy-list-with-random-pointer"
   ]
  },
  {
   "cell_type": "markdown",
   "id": "prerequisite-receiver",
   "metadata": {},
   "source": [
    "a. https://leetcode.com/problems/convert-binary-number-in-a-linked-list-to-integer/"
   ]
  },
  {
   "cell_type": "code",
   "execution_count": null,
   "id": "underlying-dressing",
   "metadata": {},
   "outputs": [],
   "source": [
    "# Definition for singly-linked list.\n",
    "# class ListNode:\n",
    "#     def __init__(self, val=0, next=None):\n",
    "#         self.val = val\n",
    "#         self.next = next\n",
    "class Solution:\n",
    "    def getDecimalValue(self, head: ListNode) -> int:\n",
    "\n",
    "        num = 0\n",
    "        size = self.getLength(head) - 1\n",
    "        while head is not None:\n",
    "            num = num + (head.val)*(2**size)\n",
    "            size -= 1\n",
    "            head = head.next\n",
    "        \n",
    "        return num\n",
    "    \n",
    "    def getLength(self, head):\n",
    "        \n",
    "        temp = head \n",
    "        length = 0\n",
    "        while temp:\n",
    "            length += 1\n",
    "            temp = temp.next \n",
    "        return length\n",
    "    "
   ]
  },
  {
   "cell_type": "markdown",
   "id": "written-trainer",
   "metadata": {},
   "source": [
    "b. https://leetcode.com/problems/reverse-linked-list/"
   ]
  },
  {
   "cell_type": "code",
   "execution_count": null,
   "id": "specified-textbook",
   "metadata": {},
   "outputs": [],
   "source": [
    "# Definition for singly-linked list.\n",
    "# class ListNode:\n",
    "#     def __init__(self, val=0, next=None):\n",
    "#         self.val = val\n",
    "#         self.next = next\n",
    "class Solution:\n",
    "    def reverseList(self, head: ListNode) -> ListNode:\n",
    "        temp = head\n",
    "        stacks = []\n",
    "        while temp != None:\n",
    "            stacks.append(temp.val)\n",
    "            temp = temp.next\n",
    "            \n",
    "        revtemp = head\n",
    "        while revtemp != None:\n",
    "            revtemp.val = stacks.pop()\n",
    "            revtemp = revtemp.next\n",
    "        return head\n",
    "        "
   ]
  },
  {
   "cell_type": "code",
   "execution_count": null,
   "id": "distributed-purse",
   "metadata": {},
   "outputs": [],
   "source": [
    "# Definition for singly-linked list.\n",
    "# class ListNode:\n",
    "#     def __init__(self, val=0, next=None):\n",
    "#         self.val = val\n",
    "#         self.next = next\n",
    "class Solution:\n",
    "    def reverseList(self, head: ListNode) -> ListNode:\n",
    "        \n",
    "        \n",
    "        prev, curr, nex = None, head, None\n",
    "        \n",
    "        \n",
    "        while curr is not None:\n",
    "            nex = curr.next\n",
    "            curr.next = prev\n",
    "            prev = curr\n",
    "            curr = nex \n",
    "        head = prev\n",
    "        \n",
    "        return head \n",
    "        "
   ]
  },
  {
   "cell_type": "markdown",
   "id": "ecological-frontier",
   "metadata": {},
   "source": [
    "c. https://leetcode.com/problems/reverse-linked-list-ii/"
   ]
  },
  {
   "cell_type": "code",
   "execution_count": null,
   "id": "partial-married",
   "metadata": {},
   "outputs": [],
   "source": [
    "# Definition for singly-linked list.\n",
    "# class ListNode:\n",
    "#     def __init__(self, val=0, next=None):\n",
    "#         self.val = val\n",
    "#         self.next = next\n",
    "class Solution:\n",
    "    def reverseBetween(self, head: ListNode, left: int, right: int) -> ListNode:\n",
    "        \n",
    "        \n",
    "        temp = head\n",
    "        arr = []\n",
    "        while temp is not None:\n",
    "            arr.append(temp.val)\n",
    "            temp = temp.next\n",
    "            \n",
    "        revlist = (arr[left - 1: right])[::-1]\n",
    "        \n",
    "        for i in range(len(revlist)):\n",
    "            arr[i + left - 1] = revlist[i]\n",
    "        \n",
    "        temp = head \n",
    "        for item in arr:\n",
    "            temp.val = item\n",
    "            temp = temp.next\n",
    "            \n",
    "        return head"
   ]
  },
  {
   "cell_type": "markdown",
   "id": "lightweight-shannon",
   "metadata": {},
   "source": [
    "d. https://leetcode.com/problems/middle-of-the-linked-list/"
   ]
  },
  {
   "cell_type": "code",
   "execution_count": null,
   "id": "hybrid-sense",
   "metadata": {},
   "outputs": [],
   "source": [
    "# Definition for singly-linked list.\n",
    "# class ListNode:\n",
    "#     def __init__(self, val=0, next=None):\n",
    "#         self.val = val\n",
    "#         self.next = next\n",
    "class Solution:\n",
    "    def middleNode(self, head: ListNode) -> ListNode:\n",
    "        slow, fast = head, head\n",
    "        \n",
    "        while fast is not None and fast.next is not None:\n",
    "            fast = fast.next.next \n",
    "            slow = slow.next\n",
    "        return slow"
   ]
  },
  {
   "cell_type": "markdown",
   "id": "equipped-judgment",
   "metadata": {},
   "source": [
    "e. https://leetcode.com/problems/merge-two-sorted-lists/"
   ]
  },
  {
   "cell_type": "code",
   "execution_count": null,
   "id": "dirty-comparative",
   "metadata": {},
   "outputs": [],
   "source": [
    "# Definition for singly-linked list.\n",
    "# class ListNode:\n",
    "#     def __init__(self, val=0, next=None):\n",
    "#         self.val = val\n",
    "#         self.next = next\n",
    "class Solution:\n",
    "    def mergeTwoLists(self, l1: ListNode, l2: ListNode) -> ListNode:\n",
    "    \n",
    "        head, node = None, None\n",
    "        # i'll be return head of the linkedlist\n",
    "        while l1 is not None and l2 is not None:\n",
    "            \n",
    "            if l1.val >= l2.val:\n",
    "                if head == None:\n",
    "                    head = l2\n",
    "                    node = head\n",
    "                else:\n",
    "                    node.next = l2\n",
    "                    node = node.next\n",
    "                l2 = l2.next\n",
    "            else:\n",
    "                if head == None:\n",
    "                    head = l1\n",
    "                    node = head\n",
    "                else:\n",
    "                    node.next = l1\n",
    "                    node = node.next\n",
    "                l1 = l1.next\n",
    "        \n",
    "        if l1 != None:\n",
    "            if head == None:\n",
    "                head = l1\n",
    "            else:\n",
    "                node.next = l1\n",
    "\n",
    "        if l2 != None:\n",
    "            if head == None:\n",
    "                head = l2\n",
    "            else:\n",
    "                node.next = l2\n",
    "                \n",
    "        return head"
   ]
  },
  {
   "cell_type": "markdown",
   "id": "prescribed-behalf",
   "metadata": {},
   "source": [
    "f. https://leetcode.com/problems/reorder-list/"
   ]
  },
  {
   "cell_type": "code",
   "execution_count": null,
   "id": "described-sector",
   "metadata": {},
   "outputs": [],
   "source": [
    "# Definition for singly-linked list.\n",
    "# class ListNode:\n",
    "#     def __init__(self, val=0, next=None):\n",
    "#         self.val = val\n",
    "#         self.next = next\n",
    "class Solution:\n",
    "    def reorderList(self, head: ListNode) -> None:\n",
    "        \"\"\"\n",
    "        Do not return anything, modify head in-place instead.\n",
    "        \"\"\"\n",
    "        temp = head \n",
    "        listHead = []\n",
    "        while temp is not None:\n",
    "            listHead.append(temp.val)\n",
    "            temp = temp.next\n",
    "            \n",
    "        start, end = 0, len(listHead)\n",
    "        mid = start + (end - start) // 2\n",
    "        leftNodes = listHead[:mid] # node till mid\n",
    "        rightNodes = (listHead[mid:])[::-1] # reverse the nth node till the mid \n",
    "        \n",
    "        result = []\n",
    "        idx = 0\n",
    "        while idx < mid:\n",
    "            result.append(leftNodes[idx])\n",
    "            result.append(rightNodes[idx])\n",
    "            idx += 1\n",
    "        result.extend(leftNodes[idx:])\n",
    "        result.extend(rightNodes[idx:])\n",
    "                \n",
    "        resultHead = head\n",
    "        for i in range(len(result)):\n",
    "            resultHead.val = result[i]\n",
    "            resultHead = resultHead.next     "
   ]
  },
  {
   "cell_type": "markdown",
   "id": "integral-castle",
   "metadata": {},
   "source": [
    "g. https://leetcode.com/problems/delete-node-in-a-linked-list/\n"
   ]
  },
  {
   "cell_type": "code",
   "execution_count": null,
   "id": "shared-glance",
   "metadata": {},
   "outputs": [],
   "source": [
    "# Definition for singly-linked list.\n",
    "# class ListNode:\n",
    "#     def __init__(self, x):\n",
    "#         self.val = x\n",
    "#         self.next = None\n",
    "\n",
    "class Solution:\n",
    "    def deleteNode(self, node):\n",
    "        \"\"\"\n",
    "        :type node: ListNode\n",
    "        :rtype: void Do not return anything, modify node in-place instead.\n",
    "        \"\"\"\n",
    "        nextNode = node.next.val\n",
    "        node.val  = nextNode\n",
    "        node.next  = node.next.next"
   ]
  },
  {
   "cell_type": "markdown",
   "id": "prescribed-douglas",
   "metadata": {},
   "source": [
    "h. https://leetcode.com/problems/remove-nth-node-from-end-of-list\n"
   ]
  },
  {
   "cell_type": "code",
   "execution_count": null,
   "id": "partial-utilization",
   "metadata": {},
   "outputs": [],
   "source": [
    "# Definition for singly-linked list.\n",
    "class ListNode:\n",
    "    def __init__(self, val=0, next=None):\n",
    "        self.val = val\n",
    "        self.next = next\n",
    "class Solution:\n",
    "    def removeNthFromEnd(self, head: ListNode, n: int):\n",
    "        if head is None:\n",
    "            return None\n",
    "        elif n == head:\n",
    "            \n",
    "        else:\n",
    "            NodeLength = self.getLength(head)\n",
    "\n",
    "            Nodepos = NodeLength - n -1\n",
    "            temp = head\n",
    "            while Nodepos != 0:\n",
    "                temp = temp.next\n",
    "                Nodepos -= 1\n",
    "            if temp is not None:\n",
    "                temp.next = temp.next.next\n",
    "            return head\n",
    "\n",
    "\n",
    "    def getLength(self, head):\n",
    "            \n",
    "        temp = head\n",
    "        length = 0 \n",
    "        while temp is not None:\n",
    "            length += 1\n",
    "            temp = temp.next\n",
    "        return length\n",
    "\n"
   ]
  },
  {
   "cell_type": "markdown",
   "id": "martial-advice",
   "metadata": {},
   "source": [
    "i. https://leetcode.com/problems/swapping-nodes-in-a-linked-list/\n"
   ]
  },
  {
   "cell_type": "code",
   "execution_count": null,
   "id": "compact-shaft",
   "metadata": {},
   "outputs": [],
   "source": [
    "# Definition for singly-linked list.\n",
    "# class ListNode:\n",
    "#     def __init__(self, val=0, next=None):\n",
    "#         self.val = val\n",
    "#         self.next = next\n",
    "class Solution:\n",
    "    def swapNodes(self, head: ListNode, k: int) -> ListNode:\n",
    "        \n",
    "        \n",
    "        result = []\n",
    "        temp = head\n",
    "        while temp is not None:\n",
    "            result.append(temp.val)\n",
    "            temp = temp.next\n",
    "        \n",
    "        result[k - 1], result[-k] = result[-k], result[k - 1]\n",
    "        temp = head\n",
    "        for num in result:\n",
    "            temp.val = num\n",
    "            temp = temp.next\n",
    "            \n",
    "        return head        "
   ]
  },
  {
   "cell_type": "markdown",
   "id": "explicit-tanzania",
   "metadata": {},
   "source": [
    "j. https://leetcode.com/problems/add-two-numbers/\n"
   ]
  },
  {
   "cell_type": "code",
   "execution_count": null,
   "id": "referenced-jacob",
   "metadata": {},
   "outputs": [],
   "source": []
  },
  {
   "cell_type": "markdown",
   "id": "complex-america",
   "metadata": {},
   "source": [
    "k. https://leetcode.com/problems/add-two-numbers-ii/\n"
   ]
  },
  {
   "cell_type": "code",
   "execution_count": null,
   "id": "mental-filename",
   "metadata": {},
   "outputs": [],
   "source": [
    "# Definition for singly-linked list.\n",
    "# class ListNode:\n",
    "#     def __init__(self, val=0, next=None):\n",
    "#         self.val = val\n",
    "#         self.next = next\n",
    "class Solution:\n",
    "    def addTwoNumbers(self, l1: ListNode, l2: ListNode) -> ListNode:\n",
    "        head = None\n",
    "        num1, num2 = 0, 0\n",
    "\n",
    "        len1 = self.getlength(l1) - 1\n",
    "        while len1 >= 0:\n",
    "            num1 = num1 + (l1.val) * (10**len1)\n",
    "            l1 = l1.next\n",
    "            len1 -= 1\n",
    "        print(num1)\n",
    "\n",
    "        len2 = self.getlength(l2) - 1\n",
    "        while len2 >= 0:\n",
    "            num2 = num2 + (l2.val)*(10**len2)\n",
    "            l2 = l2.next\n",
    "            len2 -= 1\n",
    "        print(num2)\n",
    "        ans = num1 + num2\n",
    "\n",
    "        head = None\n",
    "        for i in reversed(str(ans)):\n",
    "            node = ListNode(int(i))\n",
    "            node.next = head\n",
    "            head = node\n",
    "            \n",
    "        return head\n",
    "        \n",
    "    def getlength(self, head):\n",
    "        temp = head\n",
    "        length = 0\n",
    "        while temp is not None:\n",
    "            length += 1\n",
    "            temp = temp.next\n",
    "        return length\n",
    "        "
   ]
  },
  {
   "cell_type": "markdown",
   "id": "isolated-sustainability",
   "metadata": {},
   "source": [
    "l. https://leetcode.com/problems/palindrome-linked-list/\n"
   ]
  },
  {
   "cell_type": "code",
   "execution_count": null,
   "id": "vulnerable-eleven",
   "metadata": {},
   "outputs": [],
   "source": [
    "# Definition for singly-linked list.\n",
    "# class ListNode:\n",
    "#     def __init__(self, val=0, next=None):\n",
    "#         self.val = val\n",
    "#         self.next = next\n",
    "class Solution:\n",
    "    def isPalindrome(self, head: ListNode) -> bool:\n",
    "        \n",
    "        \n",
    "        temp = []\n",
    "        while head != None:\n",
    "            temp.append(head.val)\n",
    "            head = head.next\n",
    "            \n",
    "        return temp == temp[::-1]"
   ]
  },
  {
   "cell_type": "markdown",
   "id": "developmental-auckland",
   "metadata": {},
   "source": [
    "m. https://leetcode.com/problems/intersection-of-two-linked-lists/\n"
   ]
  },
  {
   "cell_type": "code",
   "execution_count": null,
   "id": "useful-reverse",
   "metadata": {},
   "outputs": [],
   "source": [
    "# Definition for singly-linked list.\n",
    "# class ListNode:\n",
    "#     def __init__(self, x):\n",
    "#         self.val = x\n",
    "#         self.next = None\n",
    "\n",
    "class Solution:\n",
    "    def getIntersectionNode(self, headA: ListNode, headB: ListNode) -> ListNode:\n",
    "        \n",
    "        \n",
    "        temp1, temp2 = headA, headB\n",
    "        while temp1 != temp2:\n",
    "            if temp1:\n",
    "                temp1 = temp1.next\n",
    "            else:\n",
    "                temp1 = headB\n",
    "            if temp2:\n",
    "                temp2 = temp2.next\n",
    "            else:\n",
    "                temp2 = headA\n",
    "        return temp2"
   ]
  },
  {
   "cell_type": "markdown",
   "id": "assumed-railway",
   "metadata": {},
   "source": [
    "n. https://leetcode.com/problems/linked-list-cycle/\n"
   ]
  },
  {
   "cell_type": "code",
   "execution_count": null,
   "id": "interracial-behavior",
   "metadata": {},
   "outputs": [],
   "source": [
    "# Definition for singly-linked list.\n",
    "# class ListNode:\n",
    "#     def __init__(self, x):\n",
    "#         self.val = x\n",
    "#         self.next = None\n",
    "\n",
    "class Solution:\n",
    "    def hasCycle(self, head: ListNode) -> bool:\n",
    "        slow, fast = head, head \n",
    "        if head is None:\n",
    "            return False\n",
    "        \n",
    "        if head.next is None:\n",
    "            return False\n",
    "        \n",
    "        while slow is not None and fast is not None and fast.next is not None:    \n",
    "            fast = fast.next.next\n",
    "            slow = slow.next \n",
    "            if fast == slow:\n",
    "                return True\n",
    "        return False\n",
    "    "
   ]
  },
  {
   "cell_type": "markdown",
   "id": "prompt-expansion",
   "metadata": {},
   "source": [
    "o. https://leetcode.com/problems/linked-list-cycle-ii/\n"
   ]
  },
  {
   "cell_type": "code",
   "execution_count": null,
   "id": "fleet-rescue",
   "metadata": {},
   "outputs": [],
   "source": [
    "# Definition for singly-linked list.\n",
    "# class ListNode:\n",
    "#     def __init__(self, x):\n",
    "#         self.val = x\n",
    "#         self.next = None\n",
    "\n",
    "class Solution:\n",
    "    def detectCycle(self, head: ListNode) -> ListNode:\n",
    "        \n",
    "        slow, fast = head, head\n",
    "        while fast is not None and fast.next is not None:\n",
    "            slow = slow.next\n",
    "            fast = fast.next.next\n",
    "            if slow == fast:\n",
    "                break\n",
    "                \n",
    "        if not fast or not fast.next:\n",
    "            return None\n",
    "        \n",
    "        while head != slow:\n",
    "            # this occuting simulataneously\n",
    "            head, slow = head.next, slow.next\n",
    "        \n",
    "        return slow"
   ]
  },
  {
   "cell_type": "markdown",
   "id": "checked-uncle",
   "metadata": {},
   "source": [
    "p. https://leetcode.com/problems/reverse-nodes-in-k-group/"
   ]
  },
  {
   "cell_type": "code",
   "execution_count": null,
   "id": "accomplished-cooler",
   "metadata": {},
   "outputs": [],
   "source": []
  },
  {
   "cell_type": "markdown",
   "id": "rubber-class",
   "metadata": {},
   "source": [
    "q. https://leetcode.com/problems/flatten-a-multilevel-doubly-linked-list/"
   ]
  },
  {
   "cell_type": "code",
   "execution_count": null,
   "id": "christian-english",
   "metadata": {},
   "outputs": [],
   "source": []
  },
  {
   "cell_type": "markdown",
   "id": "modified-brunswick",
   "metadata": {},
   "source": [
    "r. https://leetcode.com/problems/rotate-list/"
   ]
  },
  {
   "cell_type": "code",
   "execution_count": null,
   "id": "prospective-killing",
   "metadata": {},
   "outputs": [],
   "source": [
    "# Definition for singly-linked list.\n",
    "# class ListNode:\n",
    "#     def __init__(self, val=0, next=None):\n",
    "#         self.val = val\n",
    "#         self.next = next\n",
    "class Solution:\n",
    "    def rotateRight(self, head: ListNode, k: int) -> ListNode:\n",
    "        if head == None:\n",
    "            return head\n",
    "        \n",
    "        length = self.getLength(head)\n",
    "        k = k % length\n",
    "        \n",
    "        if k == 0:\n",
    "            return head\n",
    "        \n",
    "        curr, prev = None, head\n",
    "        itera = length - k - 1\n",
    "        # reach the node before eliminating the next part of list\n",
    "        while prev is not None and itera > 0:\n",
    "            prev = prev.next\n",
    "            itera -= 1\n",
    "            \n",
    "        # curr is head of rotated list\n",
    "        curr = prev.next\n",
    "        # the node just before the pivoted is the Tail\n",
    "        prev.next = None\n",
    "        \n",
    "        # for the Tail to join the list\n",
    "        rotTail = curr \n",
    "        for _ in range(k - 1):\n",
    "            rotTail = rotTail.next\n",
    "        rotTail.next = head\n",
    "        head = curr\n",
    "        return head\n",
    "            \n",
    "\n",
    "    def getLength(self, head):\n",
    "        temp = head\n",
    "        length = 0\n",
    "        while temp:\n",
    "            length += 1\n",
    "            temp = temp.next\n",
    "            \n",
    "        return length"
   ]
  },
  {
   "cell_type": "markdown",
   "id": "criminal-halifax",
   "metadata": {},
   "source": [
    "s. https://leetcode.com/problems/copy-list-with-random-pointer"
   ]
  },
  {
   "cell_type": "code",
   "execution_count": null,
   "id": "quality-porter",
   "metadata": {},
   "outputs": [],
   "source": []
  },
  {
   "cell_type": "code",
   "execution_count": null,
   "id": "applied-jaguar",
   "metadata": {},
   "outputs": [],
   "source": []
  },
  {
   "cell_type": "code",
   "execution_count": null,
   "id": "hundred-malpractice",
   "metadata": {},
   "outputs": [],
   "source": []
  }
 ],
 "metadata": {
  "kernelspec": {
   "display_name": "Python 3",
   "language": "python",
   "name": "python3"
  },
  "language_info": {
   "codemirror_mode": {
    "name": "ipython",
    "version": 3
   },
   "file_extension": ".py",
   "mimetype": "text/x-python",
   "name": "python",
   "nbconvert_exporter": "python",
   "pygments_lexer": "ipython3",
   "version": "3.9.1"
  }
 },
 "nbformat": 4,
 "nbformat_minor": 5
}
