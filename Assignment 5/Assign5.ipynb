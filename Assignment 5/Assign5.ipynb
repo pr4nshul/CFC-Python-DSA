{
 "cells": [
  {
   "cell_type": "markdown",
   "id": "fresh-success",
   "metadata": {},
   "source": [
    "    1137. N-th Tribonacci Number\n",
    "\n",
    "    The Tribonacci sequence Tn is defined as follows: \n",
    "\n",
    "    T0 = 0, T1 = 1, T2 = 1, and Tn+3 = Tn + Tn+1 + Tn+2 for n >= 0.\n",
    "\n",
    "    Given n, return the value of Tn.\n",
    "\n",
    "\n",
    "\n",
    "    Example 1:\n",
    "\n",
    "    Input: n = 4\n",
    "    Output: 4\n",
    "    Explanation:\n",
    "    T_3 = 0 + 1 + 1 = 2\n",
    "    T_4 = 1 + 1 + 2 = 4\n",
    "    Example 2:\n",
    "\n",
    "    Input: n = 25\n",
    "    Output: 1389537"
   ]
  },
  {
   "cell_type": "code",
   "execution_count": 28,
   "id": "hungarian-branch",
   "metadata": {},
   "outputs": [
    {
     "ename": "NameError",
     "evalue": "name 'tribonacci' is not defined",
     "output_type": "error",
     "traceback": [
      "\u001b[1;31m---------------------------------------------------------------------------\u001b[0m",
      "\u001b[1;31mNameError\u001b[0m                                 Traceback (most recent call last)",
      "\u001b[1;32m<ipython-input-28-b5c582bbd201>\u001b[0m in \u001b[0;36m<module>\u001b[1;34m\u001b[0m\n\u001b[0;32m     10\u001b[0m \u001b[1;33m\u001b[0m\u001b[0m\n\u001b[0;32m     11\u001b[0m         \u001b[1;32mreturn\u001b[0m \u001b[0mvalue\u001b[0m\u001b[1;33m\u001b[0m\u001b[1;33m\u001b[0m\u001b[0m\n\u001b[1;32m---> 12\u001b[1;33m \u001b[0mre\u001b[0m \u001b[1;33m=\u001b[0m \u001b[0mSolution\u001b[0m\u001b[1;33m(\u001b[0m\u001b[1;33m)\u001b[0m\u001b[1;33m.\u001b[0m\u001b[0mtribonacci\u001b[0m\u001b[1;33m(\u001b[0m\u001b[1;36m4\u001b[0m\u001b[1;33m)\u001b[0m\u001b[1;33m\u001b[0m\u001b[1;33m\u001b[0m\u001b[0m\n\u001b[0m",
      "\u001b[1;32m<ipython-input-28-b5c582bbd201>\u001b[0m in \u001b[0;36mtribonacci\u001b[1;34m(self, n)\u001b[0m\n\u001b[0;32m      7\u001b[0m             \u001b[1;32mreturn\u001b[0m \u001b[1;36m1\u001b[0m\u001b[1;33m\u001b[0m\u001b[1;33m\u001b[0m\u001b[0m\n\u001b[0;32m      8\u001b[0m         \u001b[1;32melse\u001b[0m\u001b[1;33m:\u001b[0m\u001b[1;33m\u001b[0m\u001b[1;33m\u001b[0m\u001b[0m\n\u001b[1;32m----> 9\u001b[1;33m             \u001b[0mvalue\u001b[0m \u001b[1;33m=\u001b[0m \u001b[0mtribonacci\u001b[0m\u001b[1;33m(\u001b[0m\u001b[0mn\u001b[0m \u001b[1;33m-\u001b[0m \u001b[1;36m1\u001b[0m\u001b[1;33m)\u001b[0m \u001b[1;33m+\u001b[0m \u001b[0mtribonacci\u001b[0m\u001b[1;33m(\u001b[0m\u001b[0mn\u001b[0m \u001b[1;33m-\u001b[0m \u001b[1;36m2\u001b[0m\u001b[1;33m)\u001b[0m \u001b[1;33m+\u001b[0m \u001b[0mtribonacci\u001b[0m\u001b[1;33m(\u001b[0m\u001b[0mn\u001b[0m \u001b[1;33m-\u001b[0m \u001b[1;36m3\u001b[0m\u001b[1;33m)\u001b[0m\u001b[1;33m\u001b[0m\u001b[1;33m\u001b[0m\u001b[0m\n\u001b[0m\u001b[0;32m     10\u001b[0m \u001b[1;33m\u001b[0m\u001b[0m\n\u001b[0;32m     11\u001b[0m         \u001b[1;32mreturn\u001b[0m \u001b[0mvalue\u001b[0m\u001b[1;33m\u001b[0m\u001b[1;33m\u001b[0m\u001b[0m\n",
      "\u001b[1;31mNameError\u001b[0m: name 'tribonacci' is not defined"
     ]
    }
   ],
   "source": [
    "# recursion approuch\n",
    "class Solution:\n",
    "    def tribonacci(self, n: int):\n",
    "        if n <= 0:\n",
    "            return 0\n",
    "        elif n == 1 or n == 2:\n",
    "            return 1\n",
    "        else:\n",
    "            value = tribonacci(n - 1) + tribonacci(n - 2) + tribonacci(n - 3)\n",
    "        \n",
    "        return value\n",
    "re = Solution().tribonacci(4)"
   ]
  },
  {
   "cell_type": "code",
   "execution_count": null,
   "id": "matched-circular",
   "metadata": {},
   "outputs": [],
   "source": []
  },
  {
   "cell_type": "code",
   "execution_count": 30,
   "id": "similar-stuff",
   "metadata": {},
   "outputs": [
    {
     "name": "stdout",
     "output_type": "stream",
     "text": [
      "1389537\n"
     ]
    }
   ],
   "source": [
    "# bottom-up approuch\n",
    "        \n",
    "class Solution:\n",
    "    def tribonacci(self, n: int):\n",
    "      \n",
    "        T_of = [None]*38\n",
    "        T_of[0], T_of[1], T_of[2] = 0, 1, 1\n",
    "\n",
    "\n",
    "        for i in range(3, n + 1):\n",
    "            T_of[i] = T_of[i - 1] + T_of[i - 2] + T_of[i - 3]\n",
    "        \n",
    "        return print(T_of[n])\n",
    "\n",
    "ret = Solution().tribonacci(25)"
   ]
  },
  {
   "cell_type": "markdown",
   "id": "developmental-payroll",
   "metadata": {},
   "source": [
    "    39. Combination Sum\n",
    "    Given an array of distinct integers candidates and a target integer target, return a list of all unique combinations of candidates \n",
    "    where the chosen numbers sum to target. You may return the combinations in any order.\n",
    "    The same number may be chosen from candidates an unlimited number of times. Two combinations are unique \n",
    "    if the frequency of at least one of the chosen numbers is different.\n",
    "    It is guaranteed that the number of unique combinations that sum up to target is less than 150 combinations for the given input.\n",
    "\n",
    "\n",
    "    Example 1:\n",
    "\n",
    "    Input: candidates = [2,3,6,7], target = 7\n",
    "    Output: [[2,2,3],[7]]\n",
    "    Explanation:\n",
    "    2 and 3 are candidates, and 2 + 2 + 3 = 7. Note that 2 can be used multiple times.\n",
    "    7 is a candidate, and 7 = 7.\n",
    "    These are the only two combinations.\n",
    "    Example 2:\n",
    "\n",
    "    Input: candidates = [2,3,5], target = 8\n",
    "    Output: [[2,2,2,2],[2,3,3],[3,5]]\n",
    "    Example 3:\n",
    "\n",
    "    Input: candidates = [2], target = 1\n",
    "    Output: []\n",
    "    Example 4:\n",
    "\n",
    "    Input: candidates = [1], target = 1\n",
    "    Output: [[1]]"
   ]
  },
  {
   "cell_type": "code",
   "execution_count": null,
   "id": "bridal-disclosure",
   "metadata": {},
   "outputs": [],
   "source": [
    "class Solution:\n",
    "    def combinationSum(self, candidates: list[int], target: int) -> list[list[int]]:\n",
    "        \n",
    "        if target in candidates:\n",
    "            result.append([target])\n",
    "            \n",
    "        for index in range(len(candidates)):\n",
    "        \n",
    "        \n",
    "                "
   ]
  },
  {
   "cell_type": "markdown",
   "id": "level-hacker",
   "metadata": {},
   "source": [
    "    40. Combination Sum II\n",
    "    Given a collection of candidate numbers (candidates) and a target number (target), find all unique combinations in candidates where the candidate numbers sum to target.\n",
    "    Each number in candidates may only be used once in the combination.\n",
    "    Note: The solution set must not contain duplicate combinations.\n",
    "\n",
    "\n",
    "\n",
    "    Example 1:\n",
    "\n",
    "    Input: candidates = [10,1,2,7,6,1,5], target = 8\n",
    "    Output: \n",
    "    [\n",
    "    [1,1,6],\n",
    "    [1,2,5],\n",
    "    [1,7],\n",
    "    [2,6]\n",
    "    ]\n",
    "    Example 2:\n",
    "\n",
    "    Input: candidates = [2,5,2,1,2], target = 5\n",
    "    Output: \n",
    "    [\n",
    "    [1,2,2],\n",
    "    [5]\n",
    "    ]\n"
   ]
  },
  {
   "cell_type": "code",
   "execution_count": 34,
   "id": "modified-hopkins",
   "metadata": {},
   "outputs": [],
   "source": [
    "class Solution:\n",
    "    def combinationSum2(self, candidates: list[int], target: int) -> list[list[int]]:\n",
    "        \n",
    "        \n",
    "        pass\n",
    "                "
   ]
  },
  {
   "cell_type": "code",
   "execution_count": 106,
   "id": "offensive-aquarium",
   "metadata": {},
   "outputs": [],
   "source": [
    "def combinationSum2(candidates: list[int], target: int, result=[], proc = []) -> list[list[int]]:\n",
    "    \n",
    "    \n",
    "    if candidates == []:\n",
    "        print(result)\n",
    "        return\n",
    "    \n",
    "    if sum(proc) == target:\n",
    "        result.append(proc)\n",
    "        return"
   ]
  },
  {
   "cell_type": "code",
   "execution_count": 107,
   "id": "italian-evanescence",
   "metadata": {},
   "outputs": [
    {
     "name": "stdout",
     "output_type": "stream",
     "text": [
      "[5]\n",
      "[]\n",
      "[5]\n",
      "[]\n",
      "[5]\n",
      "[]\n",
      "[5]\n",
      "[]\n",
      "[5]\n",
      "[]\n",
      "[5]\n",
      "[]\n",
      "[5]\n",
      "[]\n",
      "[5]\n",
      "[]\n",
      "[5]\n",
      "[]\n",
      "[5]\n",
      "[]\n",
      "[5]\n",
      "[]\n",
      "[5]\n",
      "[]\n",
      "[5]\n",
      "[]\n",
      "[5]\n",
      "[]\n",
      "[5]\n",
      "[]\n",
      "[5]\n",
      "[]\n",
      "[5]\n",
      "[]\n",
      "[5]\n",
      "[]\n",
      "[5]\n",
      "[]\n",
      "[5]\n",
      "[]\n",
      "[5]\n",
      "[]\n",
      "[5]\n",
      "[]\n",
      "[5]\n",
      "[]\n",
      "[5]\n",
      "[]\n",
      "[5]\n",
      "[]\n",
      "[5]\n",
      "[]\n",
      "[5]\n",
      "[]\n",
      "[5]\n",
      "[]\n",
      "[5]\n",
      "[]\n",
      "[5]\n",
      "[]\n",
      "[5]\n",
      "[]\n",
      "[5]\n",
      "[]\n",
      "[5]\n",
      "[]\n",
      "[5]\n",
      "[]\n",
      "[5]\n",
      "[]\n",
      "[5]\n",
      "[]\n",
      "[5]\n",
      "[]\n",
      "[5]\n",
      "[]\n",
      "[5]\n",
      "[]\n",
      "[5]\n",
      "[]\n",
      "[5]\n",
      "[]\n",
      "[5]\n",
      "[]\n",
      "[5]\n",
      "[]\n",
      "[5]\n",
      "[]\n",
      "[5]\n",
      "[]\n",
      "[5]\n",
      "[]\n",
      "[5]\n",
      "[]\n",
      "[5]\n",
      "[]\n",
      "[5]\n",
      "[]\n",
      "[5]\n",
      "[]\n",
      "[5]\n",
      "[]\n",
      "[5]\n",
      "[]\n",
      "[5]\n",
      "[]\n",
      "[5]\n",
      "[]\n",
      "[5]\n",
      "[]\n",
      "[5]\n",
      "[]\n",
      "[5]\n",
      "[]\n",
      "[5]\n",
      "[]\n",
      "[5]\n",
      "[]\n",
      "[5]\n",
      "[]\n",
      "[5]\n",
      "[]\n",
      "[5]\n",
      "[]\n",
      "[5]\n",
      "[]\n",
      "[5]\n",
      "[]\n"
     ]
    }
   ],
   "source": [
    "combinationSum2([10,1,2,7,6,1,5], 8)"
   ]
  },
  {
   "cell_type": "code",
   "execution_count": 91,
   "id": "fancy-caribbean",
   "metadata": {},
   "outputs": [
    {
     "data": {
      "text/plain": [
       "''"
      ]
     },
     "execution_count": 91,
     "metadata": {},
     "output_type": "execute_result"
    }
   ],
   "source": [
    "_"
   ]
  },
  {
   "cell_type": "markdown",
   "id": "lucky-freight",
   "metadata": {},
   "source": [
    "    1. Take as input str, a string. Write a recursive function which moves all ‘x’ from the\n",
    "    string to its end. Print the value returned\n",
    "    E.g. for “abexexdexed” return “abeedeedxxx”.\n"
   ]
  },
  {
   "cell_type": "code",
   "execution_count": 15,
   "id": "joined-cooperation",
   "metadata": {},
   "outputs": [],
   "source": [
    "def Shift_x(s: str, size,index = 0, result= \"\", item = \"\",proc=\"\"):\n",
    "    \n",
    "    if index == size:\n",
    "        result += proc\n",
    "        print(result)\n",
    "        return\n",
    "    \n",
    "    # one way is collect all the x in the string and add it in the end.\n",
    "    \n",
    "    # 2nd way is collect all \"x\" simultaneously add it in the end decrease the string length passed \n",
    "    # in recuring function. \n",
    "     \n",
    "    # problem in the base case\n",
    "    \n",
    "    item = s[0]\n",
    "    if item == \"x\":\n",
    "        proc += item\n",
    "    else:\n",
    "        result += item\n",
    "        \n",
    "    Shift_x(s[1:], size,index + 1, result,  item,  proc)\n",
    "        \n",
    "    "
   ]
  },
  {
   "cell_type": "code",
   "execution_count": 16,
   "id": "collectible-passenger",
   "metadata": {},
   "outputs": [
    {
     "name": "stdout",
     "output_type": "stream",
     "text": [
      "abeedeedxxx\n"
     ]
    }
   ],
   "source": [
    "a = \"abexexdexed\"\n",
    "size = len(a)\n",
    "Shift_x(a, size)"
   ]
  },
  {
   "cell_type": "markdown",
   "id": "alert-discrimination",
   "metadata": {},
   "source": [
    "    2. Take as input row and column of a rectangular board. The rat starts its journey\n",
    "    from the top left corner and must reach the bottom-right corner to get the cheese.\n",
    "    In one move the rat can move 1 step horizontally (right) or 1 step vertically\n",
    "    (down).\n",
    "    a. Write a recursive function which returns an ArrayList of moves for all valid\n",
    "    paths across the board. Print the value returned.\n",
    "    E.g. for a board of size 3,3; a few valid paths will be “HHVV”, “VVHH”,\n",
    "    “VHHV” etc.\n",
    "\n"
   ]
  },
  {
   "cell_type": "code",
   "execution_count": 1,
   "id": "understood-adobe",
   "metadata": {},
   "outputs": [],
   "source": [
    "def RatMaze(board, ratC, ratR, FoodC, FoodR):\n",
    "    pass"
   ]
  },
  {
   "cell_type": "code",
   "execution_count": null,
   "id": "focal-pocket",
   "metadata": {},
   "outputs": [],
   "source": []
  },
  {
   "cell_type": "code",
   "execution_count": null,
   "id": "imperial-castle",
   "metadata": {},
   "outputs": [],
   "source": []
  },
  {
   "cell_type": "markdown",
   "id": "sustained-puzzle",
   "metadata": {},
   "source": [
    "    5. Take as input str, a string. Assume that value of a=1, b=2, c=3, d=4, .... z=26.\n",
    "    Write a recursive function (return type void) to print all possible codes for the\n",
    "    string. E.g: “1123” -> possible codes are aabc, kbc, alc, aaw, kw."
   ]
  },
  {
   "cell_type": "code",
   "execution_count": 3,
   "id": "revised-worship",
   "metadata": {},
   "outputs": [],
   "source": [
    "def getCodes(key: int):\n",
    "    \n",
    "    keyCodes = [\"\"]\n",
    "    for i in range(26):\n",
    "        char = chr(i + ord('a'))\n",
    "        keyCodes.append(char)\n",
    "        \n",
    "    return keyCodes[key]"
   ]
  },
  {
   "cell_type": "code",
   "execution_count": 5,
   "id": "rational-domestic",
   "metadata": {},
   "outputs": [
    {
     "data": {
      "text/plain": [
       "'k'"
      ]
     },
     "execution_count": 5,
     "metadata": {},
     "output_type": "execute_result"
    }
   ],
   "source": [
    "def CodeSequences(s: str, result = [],proc = \"\"):\n",
    "    \n",
    "    if s == \"\":\n",
    "        result.append(proc)\n",
    "        return\n",
    "    \n",
    "    \n",
    "    key = int(s[index])\n",
    "    letter = getCodes(key)\n",
    "    CodeSequence(s[index:], )\n",
    "    \n",
    "        \n",
    "    "
   ]
  },
  {
   "cell_type": "markdown",
   "id": "hollow-filling",
   "metadata": {},
   "source": [
    "    6. Take as input str, a string. str represents keys pressed on a nokia phone keypad.\n",
    "    We are concerned with all possible words that can be written with the pressedkeys.\n",
    "    \n",
    "    E.g: “12” can produce following words “ad”, “ae”, “af”, “bd”, “be”, “bf”, “cd”, “ce”, “cf”\n",
    "    \n",
    "    a. Write a recursive function which returns the count of words for a given\n",
    "    keypad string. Print the value returned.\n",
    "    \n",
    "    b. Write a recursive function which returns an ArrayList of words for a given\n",
    "    keypad string. Print the value returned.\n",
    "    \n",
    "    c. Write a recursive function which prints all possible words for a given\n",
    "    keypad string (void is the return type for function)"
   ]
  },
  {
   "cell_type": "code",
   "execution_count": 34,
   "id": "pretty-particular",
   "metadata": {},
   "outputs": [],
   "source": [
    "def getkeyletters(key: int):\n",
    "    \n",
    "    \n",
    "    keys = [\"\", \"\", \"abc\", \"def\", \"ghi\", \"jkl\", \"mno\", \"pqrs\", \"tuv\", \"wxyz\"]\n",
    "    return list(keys[key])"
   ]
  },
  {
   "cell_type": "code",
   "execution_count": 35,
   "id": "grateful-empire",
   "metadata": {},
   "outputs": [],
   "source": [
    "def KeySequences(unproc, result = [], proc=\"\"):\n",
    "    \n",
    "    \n",
    "    if unproc == \"\":\n",
    "        result.append(proc)\n",
    "        return\n",
    "    \n",
    "    \n",
    "    key = int(unproc[0])\n",
    "    keys = getkeyletters(key)\n",
    "    \n",
    "    for item in keys:\n",
    "        KeySequences(unproc[1:],  result, proc + item)\n",
    "        \n",
    "    return result"
   ]
  },
  {
   "cell_type": "code",
   "execution_count": 36,
   "id": "amended-breathing",
   "metadata": {},
   "outputs": [
    {
     "data": {
      "text/plain": [
       "['ad', 'ae', 'af', 'bd', 'be', 'bf', 'cd', 'ce', 'cf']"
      ]
     },
     "execution_count": 36,
     "metadata": {},
     "output_type": "execute_result"
    }
   ],
   "source": [
    "KeySequences(\"23\")"
   ]
  },
  {
   "cell_type": "code",
   "execution_count": 41,
   "id": "clear-pepper",
   "metadata": {},
   "outputs": [],
   "source": [
    "def KeySequencesCounter(unproc, count = 0,result = [], proc=\"\"):\n",
    "    \n",
    "    \n",
    "    if unproc == \"\":\n",
    "        count += 1\n",
    "        result.append(count)\n",
    "        return\n",
    "    \n",
    "    \n",
    "    key = int(unproc[0])\n",
    "    keys = getkeyletters(key)\n",
    "    \n",
    "    for item in keys:\n",
    "        KeySequencesCounter(unproc[1:],  count,result, proc + item)\n",
    "        \n",
    "    return sum(result)"
   ]
  },
  {
   "cell_type": "code",
   "execution_count": 43,
   "id": "welsh-secretariat",
   "metadata": {},
   "outputs": [
    {
     "data": {
      "text/plain": [
       "36"
      ]
     },
     "execution_count": 43,
     "metadata": {},
     "output_type": "execute_result"
    }
   ],
   "source": [
    "KeySequencesCounter(\"456\")\n"
   ]
  },
  {
   "cell_type": "code",
   "execution_count": null,
   "id": "least-society",
   "metadata": {},
   "outputs": [],
   "source": []
  },
  {
   "cell_type": "code",
   "execution_count": 1,
   "id": "healthy-parade",
   "metadata": {},
   "outputs": [
    {
     "name": "stdin",
     "output_type": "stream",
     "text": [
      " 4 5\n"
     ]
    }
   ],
   "source": [
    "a, b = input().split()"
   ]
  },
  {
   "cell_type": "code",
   "execution_count": 2,
   "id": "occasional-southwest",
   "metadata": {},
   "outputs": [
    {
     "data": {
      "text/plain": [
       "'4'"
      ]
     },
     "execution_count": 2,
     "metadata": {},
     "output_type": "execute_result"
    }
   ],
   "source": [
    "a"
   ]
  },
  {
   "cell_type": "code",
   "execution_count": 4,
   "id": "ancient-rapid",
   "metadata": {},
   "outputs": [
    {
     "data": {
      "text/plain": [
       "'5'"
      ]
     },
     "execution_count": 4,
     "metadata": {},
     "output_type": "execute_result"
    }
   ],
   "source": [
    "b"
   ]
  },
  {
   "cell_type": "code",
   "execution_count": 5,
   "id": "experimental-lemon",
   "metadata": {},
   "outputs": [],
   "source": [
    "a = [1, 2, 4]"
   ]
  },
  {
   "cell_type": "code",
   "execution_count": 9,
   "id": "turned-trade",
   "metadata": {},
   "outputs": [
    {
     "name": "stdin",
     "output_type": "stream",
     "text": [
      " 5 1\n",
      " 1 2 3 4 1\n"
     ]
    },
    {
     "name": "stdout",
     "output_type": "stream",
     "text": [
      "4\n"
     ]
    }
   ],
   "source": [
    "def findLastOcccurance(n, m):\n",
    "\n",
    "    Arr = [int(item) for item in input().split()]\n",
    "    Arr = Arr[::-1]\n",
    "\n",
    "    getIndex = Arr.index(m)\n",
    "    return len(Arr) - 1 - getIndex\n",
    "\n",
    "n, m = input().split()\n",
    "n, m = int(n), int(m)\n",
    "\n",
    "print(findLastOcccurance(n, m))\n",
    "\n",
    "\n",
    "\n",
    "        "
   ]
  },
  {
   "cell_type": "code",
   "execution_count": null,
   "id": "processed-import",
   "metadata": {},
   "outputs": [],
   "source": []
  }
 ],
 "metadata": {
  "kernelspec": {
   "display_name": "Python 3",
   "language": "python",
   "name": "python3"
  },
  "language_info": {
   "codemirror_mode": {
    "name": "ipython",
    "version": 3
   },
   "file_extension": ".py",
   "mimetype": "text/x-python",
   "name": "python",
   "nbconvert_exporter": "python",
   "pygments_lexer": "ipython3",
   "version": "3.9.1"
  }
 },
 "nbformat": 4,
 "nbformat_minor": 5
}
