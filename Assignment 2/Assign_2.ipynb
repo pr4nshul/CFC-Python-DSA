{
 "cells": [
  {
   "cell_type": "raw",
   "id": "requested-orleans",
   "metadata": {},
   "source": [
    "17.Write a program to input an array & print all possible permutations of the array\n",
    "For eg: for [7, 2, 6] the following subsets are possible\n",
    "{7,2,6}\n",
    "{7,6,2}\n",
    "{2,7,6}\n",
    "{2,6,7}\n",
    "{6,2,7}\n",
    "{6,7,2}"
   ]
  },
  {
   "cell_type": "code",
   "execution_count": 20,
   "id": "dental-concentrate",
   "metadata": {},
   "outputs": [],
   "source": [
    "def permute(unproc, proc=[]):\n",
    "    if unproc == []:\n",
    "        print(proc)\n",
    "        return\n",
    "    \n",
    "    for index, item in enumerate(unproc):\n",
    "        permute(unproc[:index] + unproc[index + 1:], proc + [item])"
   ]
  },
  {
   "cell_type": "code",
   "execution_count": 21,
   "id": "considered-poster",
   "metadata": {},
   "outputs": [
    {
     "name": "stdout",
     "output_type": "stream",
     "text": [
      "[7, 2, 6]\n",
      "[7, 6, 2]\n",
      "[2, 7, 6]\n",
      "[2, 6, 7]\n",
      "[6, 7, 2]\n",
      "[6, 2, 7]\n"
     ]
    }
   ],
   "source": [
    "permute([7, 2, 6])"
   ]
  },
  {
   "cell_type": "code",
   "execution_count": 8,
   "id": "atmospheric-sweden",
   "metadata": {},
   "outputs": [
    {
     "data": {
      "text/plain": [
       "[2, 6]"
      ]
     },
     "execution_count": 8,
     "metadata": {},
     "output_type": "execute_result"
    }
   ],
   "source": [
    "a = [2, 6]"
   ]
  },
  {
   "cell_type": "raw",
   "id": "premium-lounge",
   "metadata": {},
   "source": [
    "16.Write a program to input an array & print all possible subsets of the array\n",
    "For eg: for [7, 2, 6] the following subsets are possible\n",
    "{}\n",
    "{7}\n",
    "{2}\n",
    "{6}\n",
    "{7,2}\n",
    "{7,6}\n",
    "{2,6}\n",
    "{7,2,6}\n"
   ]
  },
  {
   "cell_type": "code",
   "execution_count": 28,
   "id": "micro-display",
   "metadata": {},
   "outputs": [],
   "source": [
    "def PossibleSubset(unproc, proc=[]):\n",
    "    if unproc == []:\n",
    "        print(proc)\n",
    "        return\n",
    "    \n",
    "    item = unproc[0]\n",
    "    PossibleSubset(unproc[1:], proc + [item])\n",
    "    PossibleSubset(unproc[1:], proc)"
   ]
  },
  {
   "cell_type": "code",
   "execution_count": 29,
   "id": "comparable-assist",
   "metadata": {},
   "outputs": [
    {
     "name": "stdout",
     "output_type": "stream",
     "text": [
      "[7, 2, 6]\n",
      "[7, 2]\n",
      "[7, 6]\n",
      "[7]\n",
      "[2, 6]\n",
      "[2]\n",
      "[6]\n",
      "[]\n"
     ]
    }
   ],
   "source": [
    "possibleSubSet([7, 2, 6])"
   ]
  },
  {
   "cell_type": "markdown",
   "id": "enormous-reviewer",
   "metadata": {},
   "source": [
    "                1588. Sum of All Odd Length Subarrays"
   ]
  },
  {
   "cell_type": "code",
   "execution_count": 11,
   "id": "controversial-bulgarian",
   "metadata": {},
   "outputs": [],
   "source": [
    "class Solution:\n",
    "    def sumOddLengthSubarrays(self, arr: list[int]) -> int:\n",
    "        Odd_sum = 0\n",
    "        index = 0\n",
    "#         for i in range(0, len(arr), 2*step + 1):\n",
    "#         while index < len(arr):\n",
    "#             for j in range(len(arr)):\n",
    "#                 for i in range(j, j+start):\n",
    "#                     Odd_sum += arr[i]\n",
    "#                 start = 2*n + 1\n",
    "        for i in range(len(arr)):\n",
    "            od \n",
    "        for j in range(len(arr)//2): \n",
    "            for i in range(j, 2*j + 1) :\n",
    "#                 print(\"item going\", item)\n",
    "                Odd_sum += arr[i]\n",
    "#                 print(Odd_sum)\n",
    "        index += 1\n",
    "        return print(Odd_sum)\n",
    "            "
   ]
  },
  {
   "cell_type": "code",
   "execution_count": 12,
   "id": "bright-equity",
   "metadata": {},
   "outputs": [
    {
     "name": "stdout",
     "output_type": "stream",
     "text": [
      "item going 1\n",
      "1\n",
      "item going 4\n",
      "5\n",
      "item going 2\n",
      "7\n",
      "item going 5\n",
      "12\n",
      "item going 3\n",
      "15\n",
      "item going 1\n",
      "16\n",
      "item going 4\n",
      "20\n",
      "item going 2\n",
      "22\n",
      "22\n"
     ]
    }
   ],
   "source": [
    "ret = Solution().sumOddLengthSubarrays([1,4,2,5,3])\n"
   ]
  },
  {
   "cell_type": "markdown",
   "id": "sonic-italic",
   "metadata": {},
   "source": [
    "    \n",
    "    1512. Number of Good Pairs\n",
    "    Given an array of integers nums.\n",
    "    A pair (i,j) is called good if nums[i] == nums[j] and i < j.\n",
    "    Return the number of good pairs.\n",
    "    Example 1:\n",
    "\n",
    "    Input: nums = [1,2,3,1,1,3]\n",
    "    Output: 4\n",
    "    Explanation: There are 4 good pairs (0,3), (0,4), (3,4), (2,5) 0-indexed."
   ]
  },
  {
   "cell_type": "code",
   "execution_count": 16,
   "id": "manual-qatar",
   "metadata": {},
   "outputs": [
    {
     "name": "stdout",
     "output_type": "stream",
     "text": [
      "4\n"
     ]
    }
   ],
   "source": [
    "class Solution:\n",
    "    def numIdenticalPairs(self, nums: list[int]) -> int:\n",
    "        pairs = 0\n",
    "        for i in range(len(nums)):\n",
    "            for j in range(i+1,len(nums)):\n",
    "                 if nums[i] == nums[j]:\n",
    "                        pairs += 1\n",
    "        return print(pairs)\n",
    "ret = Solution().numIdenticalPairs([1,2,3,1,1,3])"
   ]
  },
  {
   "cell_type": "code",
   "execution_count": null,
   "id": "coastal-liechtenstein",
   "metadata": {},
   "outputs": [],
   "source": []
  },
  {
   "cell_type": "markdown",
   "id": "antique-mainland",
   "metadata": {},
   "source": [
    "    1534. Count Good Triplets\n",
    "\n",
    "    Given an array of integers arr, and three integers a, b and c. You need to find the number of good triplets.\n",
    "    A triplet (arr[i], arr[j], arr[k]) is good if the following conditions are true:\n",
    "\n",
    "    0 <= i < j < k < arr.length\n",
    "    |arr[i] - arr[j]| <= a\n",
    "    |arr[j] - arr[k]| <= b\n",
    "    |arr[i] - arr[k]| <= c\n",
    "    Where |x| denotes the absolute value of x.\n",
    "\n",
    "    Return the number of good triplets\n",
    "    \n",
    "    Example 1:\n",
    "\n",
    "    Input: arr = [3,0,1,1,9,7], a = 7, b = 2, c = 3\n",
    "    Output: 4\n",
    "    Explanation: There are 4 good triplets: [(3,0,1), (3,0,1), (3,1,1), (0,1,1)]."
   ]
  },
  {
   "cell_type": "code",
   "execution_count": 26,
   "id": "retired-radio",
   "metadata": {},
   "outputs": [
    {
     "name": "stdout",
     "output_type": "stream",
     "text": [
      "12\n"
     ]
    }
   ],
   "source": [
    "class Solution:\n",
    "    def countGoodTriplets(self, arr: list[int], a: int, b: int, c: int) -> int:\n",
    "        triplet = 0\n",
    "        for i in range(len(arr)):\n",
    "            for j in range( i+1, len(arr)):\n",
    "                for k in range( j+1, len(arr)):\n",
    "                    if abs(arr[i] - arr[j]) <= a and abs(arr[j] - arr[k]) <= b and abs(arr[i] - arr[k]) <= c:\n",
    "                        triplet += 1\n",
    "                        \n",
    "#         for i in range(len(arr)):\n",
    "#             for j in range(len(arr)):\n",
    "#                 if abs(arr[i] - arr[j]) <= a:\n",
    "#                         triplet += 1\n",
    "#                 if abs(arr[i] - arr[j]) <= b:\n",
    "#                     triplet += 1\n",
    "#                 if abs(arr[i] - arr[j]) <= c:\n",
    "#                     triplet += 1\n",
    "        return print(triplet)\n",
    "ret = Solution().countGoodTriplets([7,3,7,3,12,1,12,2,3],5,8,1)"
   ]
  },
  {
   "cell_type": "markdown",
   "id": "following-distance",
   "metadata": {},
   "source": [
    "    905. Sort Array By Parity\n",
    "    Given an array A of non-negative integers, return an array consisting of all the even elements of A, followed by all the odd elements of A.\n",
    "    You may return any answer array that satisfies this condition.\n",
    "    \n",
    "    Example 1:\n",
    "\n",
    "    Input: [3,1,2,4]\n",
    "    Output: [2,4,3,1]\n",
    "    The outputs [4,2,3,1], [2,4,1,3], and [4,2,1,3] would also be accepted."
   ]
  },
  {
   "cell_type": "code",
   "execution_count": 28,
   "id": "normal-dragon",
   "metadata": {},
   "outputs": [
    {
     "name": "stdout",
     "output_type": "stream",
     "text": [
      "[2, 4, 3, 1]\n"
     ]
    }
   ],
   "source": [
    "class Solution:\n",
    "    def sortArrayByParity(self, A: list[int]) -> list[int]:\n",
    "        even_arr , odd_arr = [], []\n",
    "        for item in A:\n",
    "            if item % 2 == 0:\n",
    "                even_arr.append(item)\n",
    "            else:\n",
    "                odd_arr.append(item)\n",
    "        return print(even_arr + odd_arr)\n",
    "        \n",
    "ans = Solution().sortArrayByParity([3,1,2,4])\n",
    "        "
   ]
  },
  {
   "cell_type": "markdown",
   "id": "received-climate",
   "metadata": {},
   "source": [
    "        977. Squares of a Sorted Array\n",
    "        Given an integer array nums sorted in non-decreasing order, return an array of the squares of each \n",
    "        number sorted in non-decreasing order.\n",
    "        \n",
    "        Example 1:\n",
    "        Input: nums = [-4,-1,0,3,10]\n",
    "        Output: [0,1,9,16,100]\n",
    "        Explanation: After squaring, the array becomes [16,1,0,9,100].\n",
    "        After sorting, it becomes [0,1,9,16,100]."
   ]
  },
  {
   "cell_type": "code",
   "execution_count": 35,
   "id": "emerging-threat",
   "metadata": {},
   "outputs": [
    {
     "name": "stdout",
     "output_type": "stream",
     "text": [
      "[0, 1, 9, 16, 100]\n"
     ]
    }
   ],
   "source": [
    "class Solution:\n",
    "    def sortedSquares(self, nums: list[int]) -> list[int]:\n",
    "        \n",
    "        result = []\n",
    "        for item in nums:\n",
    "            result.append((item**2))\n",
    "        for i in range(len(result) - 1):\n",
    "            for j in range(len(result) - i - 1):\n",
    "                if result[j] > result[j+1]:\n",
    "                    result[j], result[j + 1]= result[j + 1], result[j]\n",
    "        return print(result)\n",
    "    \n",
    "ans = Solution().sortedSquares([-4,-1,0,3,10])"
   ]
  },
  {
   "cell_type": "markdown",
   "id": "naughty-fitting",
   "metadata": {},
   "source": [
    "    121. Best Time to Buy and Sell Stock\n",
    "    You are given an array prices where prices[i] is the price of a given stock on the ith day.\n",
    "    You want to maximize your profit by choosing a single day to buy one stock and choosing a different\n",
    "    day in the future to sell that stock.\n",
    "\n",
    "    Return the maximum profit you can achieve from this transaction. If you cannot achieve any profit, return 0.\n",
    "    \n",
    "    \n",
    "    Input: prices = [7,1,5,3,6,4]\n",
    "    Output: 5\n",
    "    Explanation: Buy on day 2 (price = 1) and sell on day 5 (price = 6), profit = 6-1 = 5.\n",
    "    Note that buying on day 2 and selling on day 1 is not allowed because you must buy before you sell."
   ]
  },
  {
   "cell_type": "code",
   "execution_count": 8,
   "id": "permanent-deficit",
   "metadata": {},
   "outputs": [
    {
     "name": "stdout",
     "output_type": "stream",
     "text": [
      "4\n"
     ]
    }
   ],
   "source": [
    "class Solution:\n",
    "    def maxProfit(self, prices: list[int]) -> int:\n",
    "\n",
    "        max_profit = []\n",
    "        for i in range(len(prices)):\n",
    "            for j in range(i + 1, len(prices)):\n",
    "                if  (prices[j] - prices[i]) > 0:\n",
    "                    max_profit.append(prices[j] - prices[i])\n",
    "        return print(max(max_profit))\n",
    "\n",
    "    \n",
    "ans = Solution().maxProfit([7,1,5,3,6,4])"
   ]
  },
  {
   "cell_type": "code",
   "execution_count": 45,
   "id": "improving-seafood",
   "metadata": {},
   "outputs": [],
   "source": []
  },
  {
   "cell_type": "markdown",
   "id": "sonic-mathematics",
   "metadata": {},
   "source": [
    "    1389. Create Target Array in the Given Order\n",
    "    Given two arrays of integers nums and index. Your task is to create target array under the following rules:\n",
    "\n",
    "    Initially target array is empty.\n",
    "    From left to right read nums[i] and index[i], insert at index index[i] the value nums[i] in target array.\n",
    "    Repeat the previous step until there are no elements to read in nums and index.\n",
    "    Return the target array.\n",
    "\n",
    "    It is guaranteed that the insertion operations will be valid.\n",
    "    Input: nums = [0,1,2,3,4], index = [0,1,2,2,1]\n",
    "    Output: [0,4,1,3,2]\n",
    "    Explanation:\n",
    "    nums       index     target\n",
    "    0            0        [0]\n",
    "    1            1        [0,1]\n",
    "    2            2        [0,1,2]\n",
    "    3            2        [0,1,3,2]\n",
    "    4            1        [0,4,1,3,2]\n",
    "\n",
    "    # use insert(position, item) "
   ]
  },
  {
   "cell_type": "code",
   "execution_count": 52,
   "id": "exotic-ideal",
   "metadata": {},
   "outputs": [
    {
     "name": "stdout",
     "output_type": "stream",
     "text": [
      "[0, 4, 1, 3, 2]\n"
     ]
    }
   ],
   "source": [
    "class Solution:\n",
    "    def createTargetArray(self, nums: list[int], index: list[int]) -> list[int]:\n",
    "        result = []\n",
    "        position = 0\n",
    "        for item in nums:\n",
    "            result.insert(index[position], item)\n",
    "            position += 1\n",
    "        return print(result)\n",
    "    \n",
    "ans = Solution().createTargetArray([0,1,2,3,4], [0,1,2,2,1])"
   ]
  },
  {
   "cell_type": "code",
   "execution_count": 6,
   "id": "vocational-merit",
   "metadata": {},
   "outputs": [
    {
     "ename": "ValueError",
     "evalue": "max() arg is an empty sequence",
     "output_type": "error",
     "traceback": [
      "\u001b[1;31m---------------------------------------------------------------------------\u001b[0m",
      "\u001b[1;31mValueError\u001b[0m                                Traceback (most recent call last)",
      "\u001b[1;32m<ipython-input-6-dd98cdccf4b6>\u001b[0m in \u001b[0;36m<module>\u001b[1;34m\u001b[0m\n\u001b[1;32m----> 1\u001b[1;33m \u001b[0ma\u001b[0m \u001b[1;33m=\u001b[0m \u001b[0mmax\u001b[0m\u001b[1;33m(\u001b[0m\u001b[1;33m[\u001b[0m\u001b[1;33m]\u001b[0m\u001b[1;33m)\u001b[0m\u001b[1;33m\u001b[0m\u001b[1;33m\u001b[0m\u001b[0m\n\u001b[0m",
      "\u001b[1;31mValueError\u001b[0m: max() arg is an empty sequence"
     ]
    }
   ],
   "source": [
    "a = max([])"
   ]
  },
  {
   "cell_type": "code",
   "execution_count": 5,
   "id": "cellular-teens",
   "metadata": {},
   "outputs": [
    {
     "data": {
      "text/plain": [
       "0"
      ]
     },
     "execution_count": 5,
     "metadata": {},
     "output_type": "execute_result"
    }
   ],
   "source": [
    "a"
   ]
  },
  {
   "cell_type": "markdown",
   "id": "conscious-subsection",
   "metadata": {},
   "source": [
    "    122. Best Time to Buy and Sell Stock II\n",
    "    You are given an array prices for which the ith element is the price of a given stock on day i.\n",
    "    Find the maximum profit you can achieve. You may complete as many transactions as you like \n",
    "    (i.e., buy one and sell one share of the stock multiple times).\n",
    "    \n",
    "\n",
    "    Note: You may not engage in multiple transactions simultaneously (i.e., you must sell the stock before you buy again).\n",
    "    \n",
    "    Input: prices = [7,1,5,3,6,4]\n",
    "    Output: 7\n",
    "    Explanation: Buy on day 2 (price = 1) and sell on day 3 (price = 5), profit = 5-1 = 4.\n",
    "    Then buy on day 4 (price = 3) and sell on day 5 (price = 6), profit = 6-3 = 3.\n",
    "\n",
    "    Example 2:\n",
    "\n",
    "    Input: prices = [1,2,3,4,5]\n",
    "    Output: 4\n",
    "    Explanation: Buy on day 1 (price = 1) and sell on day 5 (price = 5), profit = 5-1 = 4.\n",
    "    Note that you cannot buy on day 1, buy on day 2 and sell them later, as you are engaging multiple transactions \n",
    "    at the same time. You must sell before buying again.\n",
    "    Example 3:\n",
    "\n",
    "    Input: prices = [7,6,4,3,1]\n",
    "    Output: 0\n",
    "    Explanation: In this case, no transaction is done, i.e., max profit = 0."
   ]
  },
  {
   "cell_type": "code",
   "execution_count": 7,
   "id": "blind-spoke",
   "metadata": {},
   "outputs": [
    {
     "name": "stdout",
     "output_type": "stream",
     "text": [
      "19\n"
     ]
    }
   ],
   "source": [
    "class Solution:\n",
    "    def maxProfit(self, prices: list[int]) -> int:\n",
    "\n",
    "        buy, sell = 0, 1\n",
    "        while buy < len(prices) - 1 and sell < len(prices):\n",
    "            \n",
    "            if prices[sell] - prices[buy] > 0:\n",
    "                \n",
    "    \n",
    "ans = Solution().maxProfit([7,1,5,3,6,4])"
   ]
  },
  {
   "cell_type": "code",
   "execution_count": null,
   "id": "other-contrary",
   "metadata": {},
   "outputs": [],
   "source": []
  }
 ],
 "metadata": {
  "kernelspec": {
   "display_name": "Python 3",
   "language": "python",
   "name": "python3"
  },
  "language_info": {
   "codemirror_mode": {
    "name": "ipython",
    "version": 3
   },
   "file_extension": ".py",
   "mimetype": "text/x-python",
   "name": "python",
   "nbconvert_exporter": "python",
   "pygments_lexer": "ipython3",
   "version": "3.9.1"
  }
 },
 "nbformat": 4,
 "nbformat_minor": 5
}
