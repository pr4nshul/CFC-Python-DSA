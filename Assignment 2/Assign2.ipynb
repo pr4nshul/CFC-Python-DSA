{
 "cells": [
  {
   "cell_type": "raw",
   "id": "devoted-radio",
   "metadata": {},
   "source": [
    "1.Write a function to convert decimal numbers into octal format.\n",
    "For eg: 453 -> 705"
   ]
  },
  {
   "cell_type": "code",
   "execution_count": 1,
   "id": "experienced-finnish",
   "metadata": {},
   "outputs": [],
   "source": [
    "def deci2bin(num):\n",
    "    to_pow = 0\n",
    "    binary = 0\n",
    "\n",
    "    while num >= 1:\n",
    "        binary = binary + (num % 2) * (10**to_pow)\n",
    "        num = num // 2 \n",
    "        to_pow += 1\n",
    "    return binary"
   ]
  },
  {
   "cell_type": "code",
   "execution_count": 2,
   "id": "enhanced-husband",
   "metadata": {},
   "outputs": [
    {
     "data": {
      "text/plain": [
       "101101"
      ]
     },
     "execution_count": 2,
     "metadata": {},
     "output_type": "execute_result"
    }
   ],
   "source": [
    "deci2bin(45)"
   ]
  },
  {
   "cell_type": "code",
   "execution_count": 24,
   "id": "accepting-suite",
   "metadata": {},
   "outputs": [],
   "source": [
    "def bin2oct(num):\n",
    "    octal = 0\n",
    "    to_pow = len(str(num)) -1\n",
    "\n",
    "    for digit in str(num):\n",
    "        \n",
    "        octal = octal + int(digit)*(8**to_pow) \n",
    "        print(f'8**{to_pow} : {octal}')\n",
    "        to_pow -= 1\n",
    "    return octal"
   ]
  },
  {
   "cell_type": "code",
   "execution_count": 25,
   "id": "official-boating",
   "metadata": {},
   "outputs": [
    {
     "name": "stdout",
     "output_type": "stream",
     "text": [
      "8**5 : 32768\n",
      "8**4 : 32768\n",
      "8**3 : 33280\n",
      "8**2 : 33344\n",
      "8**1 : 33344\n",
      "8**0 : 33345\n"
     ]
    },
    {
     "data": {
      "text/plain": [
       "33345"
      ]
     },
     "execution_count": 25,
     "metadata": {},
     "output_type": "execute_result"
    }
   ],
   "source": [
    "bin2oct(101101)"
   ]
  },
  {
   "cell_type": "code",
   "execution_count": 22,
   "id": "communist-lemon",
   "metadata": {},
   "outputs": [],
   "source": [
    "a = \"101101\""
   ]
  },
  {
   "cell_type": "code",
   "execution_count": 23,
   "id": "gentle-support",
   "metadata": {},
   "outputs": [
    {
     "name": "stdout",
     "output_type": "stream",
     "text": [
      "1\n",
      "0\n",
      "1\n",
      "1\n",
      "0\n",
      "1\n"
     ]
    }
   ],
   "source": [
    "for i in a:\n",
    "    print(int(i))"
   ]
  },
  {
   "cell_type": "code",
   "execution_count": null,
   "id": "three-riverside",
   "metadata": {},
   "outputs": [],
   "source": []
  },
  {
   "cell_type": "code",
   "execution_count": null,
   "id": "massive-illustration",
   "metadata": {},
   "outputs": [],
   "source": []
  }
 ],
 "metadata": {
  "kernelspec": {
   "display_name": "Python 3",
   "language": "python",
   "name": "python3"
  },
  "language_info": {
   "codemirror_mode": {
    "name": "ipython",
    "version": 3
   },
   "file_extension": ".py",
   "mimetype": "text/x-python",
   "name": "python",
   "nbconvert_exporter": "python",
   "pygments_lexer": "ipython3",
   "version": "3.9.1"
  }
 },
 "nbformat": 4,
 "nbformat_minor": 5
}
