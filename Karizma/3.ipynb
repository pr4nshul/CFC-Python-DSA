{
 "cells": [
  {
   "cell_type": "code",
   "execution_count": 22,
   "id": "mexican-black",
   "metadata": {},
   "outputs": [
    {
     "name": "stdin",
     "output_type": "stream",
     "text": [
      " 4\n",
      " 4\n",
      " 11\n",
      " 12\n",
      " 13\n",
      " 14\n",
      " 21\n",
      " 22\n",
      " 23\n",
      " 24\n",
      " 31\n",
      " 32\n",
      " 33\n",
      " 34\n",
      " 41\n",
      " 42\n",
      " 43\n",
      " 44\n"
     ]
    }
   ],
   "source": [
    "rows = int(input())\n",
    "cols = int(input())\n",
    "matrix = [[int(input()) for _ in range(rows) ] for _ in range(cols)]"
   ]
  },
  {
   "cell_type": "code",
   "execution_count": 9,
   "id": "defensive-repository",
   "metadata": {},
   "outputs": [
    {
     "name": "stdout",
     "output_type": "stream",
     "text": [
      "11 12 13 14 21 22 23 24 31 32 33 34 41 42 43 44 "
     ]
    }
   ],
   "source": [
    "for i in range(len(matrix)):    \n",
    "    for j in range(len(matrix[i])):\n",
    "            print(matrix[i][j], end=\" \")\n"
   ]
  },
  {
   "cell_type": "code",
   "execution_count": 10,
   "id": "settled-appendix",
   "metadata": {},
   "outputs": [
    {
     "name": "stdout",
     "output_type": "stream",
     "text": [
      "11 21 31 41 12 22 32 42 13 23 33 43 14 24 34 44 "
     ]
    }
   ],
   "source": [
    "for i in range(len(matrix[0])):\n",
    "    for j in range(len(matrix)):\n",
    "        print(matrix[j][i], end = \" \")"
   ]
  },
  {
   "cell_type": "code",
   "execution_count": 20,
   "id": "boring-stack",
   "metadata": {},
   "outputs": [
    {
     "name": "stdout",
     "output_type": "stream",
     "text": [
      "11 21 31 41 42 43 44 34 24 14 13 12 22 32 33 23 "
     ]
    }
   ],
   "source": [
    "s1, s2 = 0, 0\n",
    "while (s1 < rows - 1 and s2 < cols - 1):\n",
    "\n",
    "    #1st column\n",
    "    for i in range(s1, rows):\n",
    "        print(matrix[i][s2], end=\" \")\n",
    "\n",
    "    s2 += 1\n",
    "\n",
    "    #last row\n",
    "    for i in range(s2, cols):\n",
    "        print(matrix[rows - 1][i], end=\" \")\n",
    "\n",
    "    rows -= 1\n",
    "\n",
    "    # last column\n",
    "    if (s2 < cols):\n",
    "\n",
    "        for i in range(rows - 1, s1 - 1, -1):\n",
    "            print(matrix[i][cols - 1], end=\" \")\n",
    "\n",
    "        cols -= 1\n",
    "\n",
    "    # 1st row\n",
    "    if (s1 < rows):\n",
    "        for i in range(cols - 1, s2 - 1, -1):\n",
    "            print(matrix[s1][i], end=\" \")\n",
    "\n",
    "        s1 += 1"
   ]
  },
  {
   "cell_type": "code",
   "execution_count": 23,
   "id": "polar-teach",
   "metadata": {},
   "outputs": [
    {
     "name": "stdout",
     "output_type": "stream",
     "text": [
      "11 12 13 14 24 34 44 43 42 41 31 21 22 23 33 32 "
     ]
    }
   ],
   "source": [
    "s1, s2 = 0, 0\n",
    "while (s1 < rows - 1 and s2 < cols - 1):\n",
    "\n",
    "    #1st row\n",
    "    for i in range(s2, cols):\n",
    "        print(matrix[s1][i], end=\" \")\n",
    "\n",
    "    s1 += 1\n",
    "\n",
    "    #last column\n",
    "    for i in range(s1, rows):\n",
    "        print(matrix[i][cols - 1], end=\" \")\n",
    "\n",
    "    cols -= 1\n",
    "\n",
    "    # last row\n",
    "    if (s1 < rows):\n",
    "\n",
    "        for i in range(cols - 1, s2 - 1, -1):\n",
    "            print(matrix[rows - 1][i], end=\" \")\n",
    "\n",
    "        rows -= 1\n",
    "\n",
    "    # 1st coln\n",
    "    if (s2 < cols):\n",
    "        for i in range(rows - 1, s1 - 1, -1):\n",
    "            print(matrix[i][s2], end=\" \")\n",
    "\n",
    "        s2 += 1"
   ]
  },
  {
   "cell_type": "code",
   "execution_count": 34,
   "id": "reduced-looking",
   "metadata": {},
   "outputs": [
    {
     "name": "stdin",
     "output_type": "stream",
     "text": [
      " abcg\n"
     ]
    },
    {
     "name": "stdout",
     "output_type": "stream",
     "text": [
      "badf\n"
     ]
    }
   ],
   "source": [
    "#Q10\n",
    "s = input()\n",
    "def asc(s, m=\"\"):\n",
    "    for index, ch in enumerate(s):\n",
    "        if index%2 == 0:\n",
    "            m += chr(ord(ch)+1)\n",
    "        else:\n",
    "            m += chr(ord(ch)-1)\n",
    "    return m\n",
    "print(asc(s))"
   ]
  },
  {
   "cell_type": "code",
   "execution_count": 38,
   "id": "cross-scotland",
   "metadata": {},
   "outputs": [
    {
     "name": "stdin",
     "output_type": "stream",
     "text": [
      " abcDEasW\n"
     ]
    },
    {
     "name": "stdout",
     "output_type": "stream",
     "text": [
      "ABCdeASw\n"
     ]
    }
   ],
   "source": [
    "#Q11\n",
    "def toggleCase(s,m=\"\"):\n",
    "    for ch in s:\n",
    "        if ch.isupper():\n",
    "            m+=ch.lower()\n",
    "        else:\n",
    "            m+=ch.upper()\n",
    "    return(m)\n",
    "\n",
    "s = input()\n",
    "print(toggleCase(s))\n"
   ]
  },
  {
   "cell_type": "code",
   "execution_count": 40,
   "id": "electric-trail",
   "metadata": {},
   "outputs": [
    {
     "name": "stdin",
     "output_type": "stream",
     "text": [
      " acb\n"
     ]
    },
    {
     "name": "stdout",
     "output_type": "stream",
     "text": [
      "a2c-1b\n"
     ]
    }
   ],
   "source": [
    "s = input()\n",
    "def insert(s, m=\"\"):\n",
    "    for i in range(len(s)-1):\n",
    "        m += s[i]\n",
    "        diff = str(ord(s[i+1]) - ord(s[i]))\n",
    "        m += diff\n",
    "    m += s[len(s)-1]\n",
    "    return m\n",
    "\n",
    "print(insert(s))    "
   ]
  },
  {
   "cell_type": "code",
   "execution_count": 44,
   "id": "fifty-airfare",
   "metadata": {},
   "outputs": [
    {
     "name": "stdout",
     "output_type": "stream",
     "text": [
      "*     * * * * \n",
      "*     *       \n",
      "*     *       \n",
      "* * * * * * * \n",
      "      *     * \n",
      "      *     * \n",
      "* * * *     * \n"
     ]
    }
   ],
   "source": [
    "N = 7\n",
    "for i in range(N):\n",
    "    for j in range(N):\n",
    "        if j == (N)//2 or j == (N-1)//2:\n",
    "            print(\"*\", end = \" \")\n",
    "        elif i < N//2 and j == 0:\n",
    "            print(\"*\", end = \" \")\n",
    "        \n",
    "       \n",
    "        elif i > N//2 and j > N -2 :\n",
    "            print(\"*\", end = \" \")\n",
    "        elif (i==0 and j >N//2) or (i==N-1 and j <N//2) :\n",
    "            print(\"*\", end = \" \")        \n",
    "        \n",
    "        elif i == N//2 :\n",
    "            print(\"*\", end = \" \")\n",
    "        else :\n",
    "            print(\" \", end = \" \")\n",
    "            \n",
    "    print()\n"
   ]
  },
  {
   "cell_type": "code",
   "execution_count": 31,
   "id": "productive-overview",
   "metadata": {},
   "outputs": [
    {
     "name": "stdin",
     "output_type": "stream",
     "text": [
      "Enter size of array :  7\n",
      "Enter array :  2 5 -1 7 -3 -1 -2\n",
      "Enter k :  4\n"
     ]
    }
   ],
   "source": [
    "n = int(input(\"Enter size of array : \"))\n",
    "arr = list(map(int, input(\"Enter array : \").split(\" \")))\n",
    "k = int(input(\"Enter k : \"))"
   ]
  },
  {
   "cell_type": "code",
   "execution_count": 33,
   "id": "respected-measurement",
   "metadata": {},
   "outputs": [
    {
     "name": "stdout",
     "output_type": "stream",
     "text": [
      "18\n"
     ]
    }
   ],
   "source": [
    "grandSum = 0\n",
    "for i in range(len(arr)-k+1):\n",
    "    minSum = 0\n",
    "    maxi = mini = arr[i]\n",
    "    for j in range(i, i+k):\n",
    "        maxi = max(maxi, arr[j])\n",
    "        mini = min(mini, arr[j]) \n",
    "    minSum = maxi + mini\n",
    "    grandSum += minSum\n",
    "    \n",
    "print(grandSum)"
   ]
  },
  {
   "cell_type": "code",
   "execution_count": 68,
   "id": "turned-notification",
   "metadata": {},
   "outputs": [
    {
     "name": "stdin",
     "output_type": "stream",
     "text": [
      "Enter 1st array :  2 1 3 1 5 2 2\n",
      "Enter 2nd array :  1 2 3 1 2 4 1\n"
     ]
    }
   ],
   "source": [
    "arr1 = list(map(int, input(\"Enter 1st array : \").split(\" \")))\n",
    "arr2 = list(map(int, input(\"Enter 2nd array : \").split(\" \")))\n"
   ]
  },
  {
   "cell_type": "code",
   "execution_count": 69,
   "id": "operational-rwanda",
   "metadata": {},
   "outputs": [
    {
     "name": "stdout",
     "output_type": "stream",
     "text": [
      "[2, 1, 3, 1, 2]\n"
     ]
    }
   ],
   "source": [
    "ans = []\n",
    "for index in range(len(arr1)):\n",
    "    if arr1[index] in arr2:\n",
    "        arr2.remove(arr1[index])\n",
    "        ans += [arr1[index]]\n",
    "    \n",
    "print(ans)"
   ]
  },
  {
   "cell_type": "markdown",
   "id": "british-magnet",
   "metadata": {},
   "source": [
    "There is a group of MMA fighters standing together in a line. Given the value oftheir strengths, find the strength of the strongest fighter in continuous sub-groupsof size k.Input: 5 31 3 1 4 5Output: 3 4 5"
   ]
  },
  {
   "cell_type": "code",
   "execution_count": 70,
   "id": "shaped-somalia",
   "metadata": {},
   "outputs": [
    {
     "name": "stdin",
     "output_type": "stream",
     "text": [
      "Size of array :  5\n",
      "Group Size :  3\n",
      "Array :  1 3 1 4 5\n"
     ]
    }
   ],
   "source": [
    "n = int(input(\"Size of array : \"))\n",
    "k = int(input(\"Group Size : \"))\n",
    "arr = list(map(int, input(\"Array : \").split(\" \")))"
   ]
  },
  {
   "cell_type": "code",
   "execution_count": 72,
   "id": "ranging-slovakia",
   "metadata": {},
   "outputs": [
    {
     "name": "stdout",
     "output_type": "stream",
     "text": [
      "[3, 4, 5]\n"
     ]
    }
   ],
   "source": [
    "ans = []\n",
    "for i in range(n-k+1):\n",
    "    maxi = arr[i]\n",
    "    for j in range(i, i+k):\n",
    "        maxi = max(maxi, arr[j])\n",
    "    ans.append(maxi)\n",
    "    \n",
    "print(ans)"
   ]
  },
  {
   "cell_type": "markdown",
   "id": "coupled-going",
   "metadata": {},
   "source": [
    "Take input ‘n’ and then take ‘n’ more integer as input values of 1st array, thentake ‘m’ as input followed by ‘m’ more integer as input values of 2nd array. Writea function that returns the sum of two arrays as an array.Input: 4   \n",
    "3 5 0 7  \n",
    "5   \n",
    "9 0 2 8 \n",
    "Output: 1 2 5 3 5"
   ]
  },
  {
   "cell_type": "code",
   "execution_count": 87,
   "id": "enclosed-demand",
   "metadata": {},
   "outputs": [
    {
     "name": "stdin",
     "output_type": "stream",
     "text": [
      "Size of array 1 :  4\n",
      "Enter 1st array :  3 5 0 7\n",
      "Size of array 2 :  4\n",
      "Enter 2nd array :  9 0 2 8\n"
     ]
    }
   ],
   "source": [
    "n1 = int(input(\"Size of array 1 : \"))\n",
    "arr1 = list(input(\"Enter 1st array : \").split(\" \"))\n",
    "n2 = int(input(\"Size of array 2 : \"))\n",
    "arr2 = list(input(\"Enter 2nd array : \").split(\" \"))"
   ]
  },
  {
   "cell_type": "code",
   "execution_count": 108,
   "id": "nasty-portfolio",
   "metadata": {},
   "outputs": [
    {
     "name": "stdout",
     "output_type": "stream",
     "text": [
      "[1, 2, 5, 3, 5]\n"
     ]
    }
   ],
   "source": [
    "def arr2Num(arr):\n",
    "    st = \"\"\n",
    "    for i in range(len(arr)):\n",
    "        st += st.join(arr[i])\n",
    "    return int(st)\n",
    "Sum = arr2Num(arr1) + arr2Num(arr2)\n",
    "Sum = [int(x) for x in str(Sum)]\n",
    "print(Sum)"
   ]
  }
 ],
 "metadata": {
  "kernelspec": {
   "display_name": "Python 3",
   "language": "python",
   "name": "python3"
  },
  "language_info": {
   "codemirror_mode": {
    "name": "ipython",
    "version": 3
   },
   "file_extension": ".py",
   "mimetype": "text/x-python",
   "name": "python",
   "nbconvert_exporter": "python",
   "pygments_lexer": "ipython3",
   "version": "3.9.2"
  }
 },
 "nbformat": 4,
 "nbformat_minor": 5
}
