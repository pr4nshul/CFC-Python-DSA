{
 "cells": [
  {
   "cell_type": "code",
   "execution_count": 5,
   "id": "knowing-panel",
   "metadata": {},
   "outputs": [],
   "source": [
    "#Q1\n",
    "\n",
    "def remove(unproc, proc=\"\", count = 0):\n",
    "    \n",
    "    if len(unproc) == 0:\n",
    "        for i in range(count):\n",
    "            proc = proc +'x'\n",
    "        print (proc)\n",
    "        \n",
    "    \n",
    "    if len(unproc)>0:\n",
    "        if unproc[0]=='x':\n",
    "                remove(unproc[1:], proc, count+1)\n",
    "        if unproc[0]!='x':\n",
    "                remove(unproc[1:],proc+unproc[:1], count)\n",
    "    \n",
    "        \n",
    "    \n"
   ]
  },
  {
   "cell_type": "code",
   "execution_count": 6,
   "id": "cutting-compression",
   "metadata": {},
   "outputs": [
    {
     "name": "stdout",
     "output_type": "stream",
     "text": [
      "abeedeedxxx\n"
     ]
    }
   ],
   "source": [
    "remove(\"abexexdexed\")"
   ]
  },
  {
   "cell_type": "code",
   "execution_count": 24,
   "id": "touched-highland",
   "metadata": {},
   "outputs": [
    {
     "name": "stdout",
     "output_type": "stream",
     "text": [
      "{1: 'a', 2: 'b', 3: 'c', 4: 'd', 5: 'e', 6: 'f', 7: 'g', 8: 'h', 9: 'i', 10: 'j', 11: 'k', 12: 'l', 13: 'm', 14: 'n', 15: 'o', 16: 'p', 17: 'q', 18: 'r', 19: 's', 20: 't', 21: 'u', 22: 'v', 23: 'w', 24: 'x', 25: 'y', 26: 'z'}\n",
      "aabc\n",
      "aabc\n",
      "aaw\n",
      "alc\n",
      "alc\n",
      "kbc\n",
      "kbc\n",
      "kw\n"
     ]
    }
   ],
   "source": [
    "dict = {}\n",
    "for i in range(1,27):\n",
    "    dict[i] = chr(i+96)\n",
    "print(dict)\n",
    "\n",
    "def codes(str1,str2=\"\", arr=[]):\n",
    "    if str1 == \"\":\n",
    "        print(str2)\n",
    "        return \n",
    "    \n",
    "    for i in range(1,3):\n",
    "        codes(str1[i:], str2+dict[int(str1[:i])])\n",
    "        \n",
    "codes(\"1123\")\n",
    "    "
   ]
  },
  {
   "cell_type": "markdown",
   "id": "resident-kelly",
   "metadata": {},
   "source": [
    "Take as input N, a number. Write a recursive function which prints counting from1 to N in lexicographical order. In lexicographical (dictionary) order, for 11 outputwill be {1, 10, 11, 2, 3, 4, 5, 6, 7, 8, 9}"
   ]
  },
  {
   "cell_type": "code",
   "execution_count": null,
   "id": "sensitive-narrative",
   "metadata": {},
   "outputs": [],
   "source": [
    "N = int(input())\n",
    "arr = input()\n",
    "def lexico(arr,arr2 ):\n",
    "    if arr==[] :\n",
    "        \n",
    "        \n",
    "    \n",
    "    for j in range(1,N+1):\n",
    "        pr"
   ]
  },
  {
   "cell_type": "code",
   "execution_count": 36,
   "id": "certain-lightning",
   "metadata": {},
   "outputs": [
    {
     "name": "stdout",
     "output_type": "stream",
     "text": [
      "1\n",
      "2\n",
      "3\n",
      "4\n"
     ]
    }
   ],
   "source": [
    "for i in range(1,5):\n",
    "    print(i)"
   ]
  },
  {
   "cell_type": "code",
   "execution_count": 5,
   "id": "conceptual-acoustic",
   "metadata": {},
   "outputs": [],
   "source": [
    "def maze1(rows, cols, soln=\"\"):\n",
    "    \n",
    "    if(rows == 1 and cols == 1):\n",
    "        print(soln)\n",
    "        return \n",
    "\n",
    "    \n",
    "    if rows > 1:\n",
    "        maze1(rows - 1, cols, soln+\"H\")\n",
    "        \n",
    "    if cols > 1:\n",
    "        maze1(rows, cols - 1,soln+\"V\")\n",
    "        \n",
    "        \n",
    "    return "
   ]
  },
  {
   "cell_type": "code",
   "execution_count": 6,
   "id": "analyzed-gnome",
   "metadata": {},
   "outputs": [
    {
     "name": "stdout",
     "output_type": "stream",
     "text": [
      "HHVV\n",
      "HVHV\n",
      "HVVH\n",
      "VHHV\n",
      "VHVH\n",
      "VVHH\n"
     ]
    }
   ],
   "source": [
    "maze1(3,3)"
   ]
  },
  {
   "cell_type": "code",
   "execution_count": 7,
   "id": "binary-pharmacy",
   "metadata": {},
   "outputs": [],
   "source": [
    "def maze2(rows, cols, soln=\"\"):\n",
    "    \n",
    "    if(rows == 1 and cols == 1):\n",
    "        print(soln)\n",
    "        return \n",
    "    \n",
    "    if rows > 1:\n",
    "        maze2(rows - 1, cols, soln+\"H\")\n",
    "        \n",
    "    if cols > 1:\n",
    "        maze2(rows, cols - 1,soln+\"V\")\n",
    "        \n",
    "    if rows >1 and cols > 1:\n",
    "        maze2(rows - 1, cols - 1,soln+\"D\")\n",
    "        \n",
    "    return \n",
    "        "
   ]
  },
  {
   "cell_type": "code",
   "execution_count": 8,
   "id": "sufficient-relay",
   "metadata": {},
   "outputs": [
    {
     "name": "stdout",
     "output_type": "stream",
     "text": [
      "HHVV\n",
      "HVHV\n",
      "HVVH\n",
      "HVD\n",
      "HDV\n",
      "VHHV\n",
      "VHVH\n",
      "VHD\n",
      "VVHH\n",
      "VDH\n",
      "DHV\n",
      "DVH\n",
      "DD\n"
     ]
    }
   ],
   "source": [
    "maze2(3,3)"
   ]
  },
  {
   "cell_type": "markdown",
   "id": "emotional-november",
   "metadata": {},
   "source": [
    "You are given an N*M grid. Each cell (i,j) in the grid is either blocked, or empty.The rat can move from position (i,j), down or right on the grid. Initially rat is on theposition (1,1). It wants to reach position (N,M). Find the rightmost path throughwhich, rat can reach this position. A path is rightmost, if the rat is at position (i,j),it will always move to (i,j+1), if there exists a path from (i,j+1) to (N,M)"
   ]
  },
  {
   "cell_type": "code",
   "execution_count": 48,
   "id": "acute-premises",
   "metadata": {},
   "outputs": [],
   "source": [
    "def maze3(arr, rows, cols, soln):\n",
    "\n",
    "    if rows == 0 and cols == 0:\n",
    "        print(\"1\")\n",
    "        soln[rows][cols] = 1\n",
    "        return\n",
    "        \n",
    "    if rows >=0 and cols>=0:\n",
    "        if cols > 0 and arr[rows][cols - 1] == 'O':\n",
    "            print(\"2\")\n",
    "            soln[rows][cols-1] = 1\n",
    "            maze3(arr, rows, cols - 1, soln)\n",
    "        elif rows> 0 and arr[rows-1][cols] == 'O':\n",
    "            print(\"3\")\n",
    "            soln[rows-1][cols] = 1\n",
    "            maze3(arr, rows - 1, cols, soln)\n",
    "            \n",
    "\n",
    "        \n",
    "    return soln"
   ]
  },
  {
   "cell_type": "code",
   "execution_count": 49,
   "id": "prime-amino",
   "metadata": {},
   "outputs": [
    {
     "name": "stdout",
     "output_type": "stream",
     "text": [
      "2\n",
      "3\n",
      "2\n",
      "3\n",
      "2\n",
      "3\n",
      "3\n",
      "1\n",
      "[[1, 1, 1, 0], [1, 1, 1, 0], [1, 1, 1, 0], [1, 1, 1, 0], [1, 1, 1, 0]]\n"
     ]
    }
   ],
   "source": [
    "soln = [[0]*4]*5\n",
    "if maze3([['O', 'X', 'O', 'O'],\n",
    " ['O', 'O', 'O', 'X'],\n",
    " ['O', 'O', 'X', 'O'],\n",
    " ['X', 'O', 'O', 'O'],\n",
    " ['X', 'X', 'O', 'O']], 4, 3, soln):\n",
    "    print(soln)\n",
    "    "
   ]
  },
  {
   "cell_type": "code",
   "execution_count": 1,
   "id": "finished-office",
   "metadata": {},
   "outputs": [],
   "source": [
    "def getKey(key):\n",
    "    \n",
    "    keys = [\"\", \"abc\", \"def\", \"ghi\", \"jkl\", \"mno\", \"pqrs\", \"tuv\", \"wxyz\",\"#*%\"]\n",
    "    return list(keys[key])"
   ]
  },
  {
   "cell_type": "code",
   "execution_count": 46,
   "id": "alleged-proceeding",
   "metadata": {},
   "outputs": [],
   "source": [
    "def keypad(unproc):\n",
    "    if unproc == \"\":\n",
    "        return 1\n",
    "    \n",
    "    key = int(unproc[0])\n",
    "    \n",
    "    letters = getKey(key)\n",
    "    count = 0\n",
    "    \n",
    "    for letter in letters:\n",
    "        count += keypad(unproc[1:])\n",
    "        \n",
    "    return count"
   ]
  },
  {
   "cell_type": "code",
   "execution_count": 47,
   "id": "personal-enhancement",
   "metadata": {},
   "outputs": [
    {
     "data": {
      "text/plain": [
       "9"
      ]
     },
     "execution_count": 47,
     "metadata": {},
     "output_type": "execute_result"
    }
   ],
   "source": [
    "keypad(\"12\")"
   ]
  },
  {
   "cell_type": "code",
   "execution_count": 16,
   "id": "vocational-printing",
   "metadata": {},
   "outputs": [],
   "source": [
    "def keypad2(unproc, proc=\"\", arr = []):\n",
    "    if unproc == \"\":\n",
    "        arr.append(proc)\n",
    "        return \n",
    "\n",
    "    \n",
    "    key = int(unproc[0])\n",
    "    \n",
    "    letters = getKey(key)\n",
    "    \n",
    "    for letter in letters:\n",
    "        keypad2(unproc[1:], proc + letter, arr)   \n",
    "        \n",
    "    return arr"
   ]
  },
  {
   "cell_type": "code",
   "execution_count": 17,
   "id": "blessed-bidder",
   "metadata": {},
   "outputs": [
    {
     "name": "stdout",
     "output_type": "stream",
     "text": [
      "['ad', 'ae', 'af', 'bd', 'be', 'bf', 'cd', 'ce', 'cf']\n"
     ]
    }
   ],
   "source": [
    "print(keypad2(\"12\"))"
   ]
  },
  {
   "cell_type": "code",
   "execution_count": 8,
   "id": "waiting-survival",
   "metadata": {},
   "outputs": [],
   "source": [
    "def keypad3(unproc, proc=\"\"):\n",
    "    if unproc == \"\":\n",
    "        print(proc)\n",
    "        return\n",
    "    \n",
    "    key = int(unproc[0])\n",
    "    \n",
    "    letters = getKey(key)\n",
    "    \n",
    "    for letter in letters:\n",
    "        keypad3(unproc[1:], proc + letter)    "
   ]
  },
  {
   "cell_type": "code",
   "execution_count": 6,
   "id": "taken-reader",
   "metadata": {},
   "outputs": [
    {
     "name": "stdout",
     "output_type": "stream",
     "text": [
      "ad\n",
      "ae\n",
      "af\n",
      "bd\n",
      "be\n",
      "bf\n",
      "cd\n",
      "ce\n",
      "cf\n"
     ]
    }
   ],
   "source": [
    "keypad3(\"12\")"
   ]
  },
  {
   "cell_type": "code",
   "execution_count": 57,
   "id": "absolute-sally",
   "metadata": {},
   "outputs": [],
   "source": [
    "def permute(unproc):\n",
    "    \n",
    "    if unproc == \"\":\n",
    "        return 1\n",
    "    count = 0\n",
    "    for index, ch in enumerate(unproc):  \n",
    "        count += permute(unproc[:index] + unproc[index +1:])\n",
    "        \n",
    "    return count"
   ]
  },
  {
   "cell_type": "code",
   "execution_count": 58,
   "id": "brown-water",
   "metadata": {},
   "outputs": [
    {
     "data": {
      "text/plain": [
       "6"
      ]
     },
     "execution_count": 58,
     "metadata": {},
     "output_type": "execute_result"
    }
   ],
   "source": [
    "permute(\"abc\")"
   ]
  },
  {
   "cell_type": "code",
   "execution_count": 53,
   "id": "decreased-treatment",
   "metadata": {},
   "outputs": [],
   "source": [
    "def permute2(unproc, proc=\"\", arr =[]):\n",
    "    \n",
    "    if unproc == \"\":\n",
    "        arr.append(proc)\n",
    "        return \n",
    "    \n",
    "    for index, ch in enumerate(unproc):  \n",
    "        permute2(unproc[:index] + unproc[index +1:],proc + ch, arr)\n",
    "        \n",
    "    return arr"
   ]
  },
  {
   "cell_type": "code",
   "execution_count": 54,
   "id": "inside-chart",
   "metadata": {},
   "outputs": [
    {
     "data": {
      "text/plain": [
       "['abc', 'acb', 'bac', 'bca', 'cab', 'cba']"
      ]
     },
     "execution_count": 54,
     "metadata": {},
     "output_type": "execute_result"
    }
   ],
   "source": [
    "permute2(\"abc\")"
   ]
  },
  {
   "cell_type": "code",
   "execution_count": 50,
   "id": "hearing-trouble",
   "metadata": {},
   "outputs": [],
   "source": [
    "def permute3(unproc, proc=\"\"):\n",
    "    \n",
    "    if unproc == \"\":\n",
    "        print(proc)\n",
    "        return proc\n",
    "    \n",
    "    for index, ch in enumerate(unproc):  \n",
    "        permute3(unproc[:index] + unproc[index +1:],proc + ch)"
   ]
  },
  {
   "cell_type": "code",
   "execution_count": 51,
   "id": "individual-mozambique",
   "metadata": {},
   "outputs": [
    {
     "name": "stdout",
     "output_type": "stream",
     "text": [
      "abc\n",
      "acb\n",
      "bac\n",
      "bca\n",
      "cab\n",
      "cba\n"
     ]
    }
   ],
   "source": [
    "permute3(\"abc\")"
   ]
  },
  {
   "cell_type": "code",
   "execution_count": 71,
   "id": "atmospheric-money",
   "metadata": {},
   "outputs": [
    {
     "name": "stdout",
     "output_type": "stream",
     "text": [
      "[-1, 3, 4, 2] [7, 1]\n",
      "[-1, 7, 2] [3, 4, 1]\n",
      "[3, 4, 1] [-1, 7, 2]\n",
      "[7, 1] [-1, 3, 4, 2]\n"
     ]
    }
   ],
   "source": [
    "def divideArray(arr, first = [], second=[], index=0, fsum=0, ssum=0):\n",
    "    \n",
    "    if len(arr) == index:\n",
    "        if fsum == ssum:\n",
    "            print(first, second) \n",
    "            \n",
    "        return \n",
    "\n",
    "    divideArray(arr, first+[arr[index]], second, index+1, fsum+arr[index],ssum)\n",
    "\n",
    "    divideArray(arr, first, second+[arr[index]], index+1, fsum,ssum+arr[index])\n",
    "\n",
    "divideArray([-1,3,7,4,2,1])"
   ]
  },
  {
   "cell_type": "code",
   "execution_count": 84,
   "id": "balanced-migration",
   "metadata": {},
   "outputs": [],
   "source": [
    "def targetSum(arr, target, index=0, ans = [], ans2 = []):\n",
    "    \n",
    "    if target ==0:\n",
    "        ans2.append(ans)\n",
    "        return\n",
    "    \n",
    "    if index >= len(arr):\n",
    "        return \n",
    "\n",
    "    \n",
    "        \n",
    "    targetSum(arr, target-arr[index], index+1, ans+[arr[index]],ans2)\n",
    "    \n",
    "    targetSum(arr, target, index+1, ans,ans2)\n",
    "    return ans2\n",
    "    "
   ]
  },
  {
   "cell_type": "code",
   "execution_count": 85,
   "id": "judicial-boring",
   "metadata": {},
   "outputs": [
    {
     "data": {
      "text/plain": [
       "[[1, 2, 3, 4], [1, 3, 6], [1, 4, 5], [2, 3, 5], [4, 6]]"
      ]
     },
     "execution_count": 85,
     "metadata": {},
     "output_type": "execute_result"
    }
   ],
   "source": [
    "targetSum([1,2,3,4,5,6], 10)"
   ]
  },
  {
   "cell_type": "code",
   "execution_count": 129,
   "id": "committed-cleanup",
   "metadata": {},
   "outputs": [],
   "source": [
    "def possible(sudoku, row, col, value):\n",
    "    for i in range(9):\n",
    "        if sudoku[row][i] == value:\n",
    "            return False\n",
    "        \n",
    "    for i in range(9):\n",
    "        if sudoku[i][col] == value:\n",
    "            return False\n",
    "        \n",
    "    r = row - (row%3)\n",
    "    c = col - (col%3)\n",
    "    \n",
    "    for i in range(r, r+3):\n",
    "        for j in range(c,c+3):\n",
    "            if sudoku[i][j] == value:\n",
    "                return False\n",
    "            \n",
    "    return True\n",
    "    \n",
    "\n",
    "def sudoku(arr, row, col, n):\n",
    "    \n",
    "    if row == n:\n",
    "        print(arr)\n",
    "        return \n",
    "    \n",
    "    if col == n:\n",
    "        sudoku(arr,row+1, 0, n)\n",
    "        return \n",
    "    \n",
    "    if arr[row][col] > 0:\n",
    "        sudoku(arr,row,col+1, n)\n",
    "    \n",
    "    else:\n",
    "        for i in range(1,n+1):\n",
    "            if possible(arr, row, col, value): \n",
    "                arr[row][col] = i\n",
    "                sudoku(arr,row,col+1,n)\n",
    "                arr[row][col]=0       "
   ]
  },
  {
   "cell_type": "code",
   "execution_count": 115,
   "id": "necessary-afternoon",
   "metadata": {},
   "outputs": [
    {
     "data": {
      "text/plain": [
       "[[False, False, False, False],\n",
       " [False, False, False, False],\n",
       " [False, False, False, False],\n",
       " [False, False, False, False]]"
      ]
     },
     "execution_count": 115,
     "metadata": {},
     "output_type": "execute_result"
    }
   ],
   "source": [
    "board = [[False]*4]*4\n",
    "board"
   ]
  },
  {
   "cell_type": "code",
   "execution_count": 117,
   "id": "premier-insertion",
   "metadata": {},
   "outputs": [],
   "source": [
    "def possible(board, row, col):\n",
    "    \n",
    "    for i in range(row):\n",
    "        if board[i][col]:\n",
    "            return False\n",
    "        \n",
    "    for index in range(1, row+1):  #diagonal\n",
    "        \n",
    "        if  col - index >= 0 and (board[row-index][col-index]):\n",
    "            return False\n",
    "        \n",
    "        if (col+index < len(board)) and (board[row-index][col+index]):\n",
    "            return False\n",
    "        \n",
    "    \n",
    "    return True"
   ]
  },
  {
   "cell_type": "code",
   "execution_count": 123,
   "id": "intermediate-movie",
   "metadata": {},
   "outputs": [],
   "source": [
    "def nKnights(board, row=0):\n",
    "    \n",
    "    if row == len(board):\n",
    "        for row in board:\n",
    "            print(row)\n",
    "        print()\n",
    "        return \n",
    "    \n",
    "    for col in range(len(board)):\n",
    "        if possible(board, row, col):\n",
    "            board[row][col] = True\n",
    "            nKnights(board, row+1)\n",
    "            board[row][col] = False\n",
    "            \n",
    "         "
   ]
  },
  {
   "cell_type": "code",
   "execution_count": 127,
   "id": "million-database",
   "metadata": {},
   "outputs": [
    {
     "name": "stdout",
     "output_type": "stream",
     "text": [
      "[False, True, False, False]\n",
      "[False, False, False, True]\n",
      "[True, False, False, False]\n",
      "[False, False, True, False]\n",
      "\n",
      "[False, False, True, False]\n",
      "[True, False, False, False]\n",
      "[False, False, False, True]\n",
      "[False, True, False, False]\n",
      "\n"
     ]
    }
   ],
   "source": [
    "nKnights(boar)"
   ]
  }
 ],
 "metadata": {
  "kernelspec": {
   "display_name": "Python 3",
   "language": "python",
   "name": "python3"
  },
  "language_info": {
   "codemirror_mode": {
    "name": "ipython",
    "version": 3
   },
   "file_extension": ".py",
   "mimetype": "text/x-python",
   "name": "python",
   "nbconvert_exporter": "python",
   "pygments_lexer": "ipython3",
   "version": "3.9.2"
  }
 },
 "nbformat": 4,
 "nbformat_minor": 5
}
