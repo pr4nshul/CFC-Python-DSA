{
 "cells": [
  {
   "cell_type": "code",
   "execution_count": 52,
   "id": "interim-singapore",
   "metadata": {},
   "outputs": [
    {
     "name": "stdout",
     "output_type": "stream",
     "text": [
      "[1]\n",
      "[1, 1]\n",
      "[1, 2, 1]\n",
      "[1, 3, 3, 1]\n",
      "[1, 4, 6, 4, 1]\n",
      "[1, 5, 10, 10, 5, 1]\n"
     ]
    }
   ],
   "source": [
    "def pattern(n):\n",
    "    if n == 0:\n",
    "        return [1]\n",
    "    \n",
    "    if n == 1:\n",
    "        return [1,1]\n",
    "    \n",
    "    if n > 1:\n",
    "        arr = pattern(n-1)\n",
    "        arr2 = [1]\n",
    "        for i in range(n-1):\n",
    "            arr2 += [arr[i]+arr[i+1]]\n",
    "        arr2 += [1]\n",
    "            \n",
    "    return arr2    \n",
    "\n",
    "for i in range(6):\n",
    "    print(pattern(i))"
   ]
  },
  {
   "cell_type": "code",
   "execution_count": 25,
   "id": "vocational-participant",
   "metadata": {},
   "outputs": [],
   "source": [
    "def sum(n):\n",
    "    if n == 1:\n",
    "        return 1\n",
    "    \n",
    "    return sum(n-1) + n"
   ]
  },
  {
   "cell_type": "code",
   "execution_count": 26,
   "id": "framed-investor",
   "metadata": {},
   "outputs": [
    {
     "data": {
      "text/plain": [
       "(15, 55)"
      ]
     },
     "execution_count": 26,
     "metadata": {},
     "output_type": "execute_result"
    }
   ],
   "source": [
    "sum(5), sum(10)"
   ]
  },
  {
   "cell_type": "code",
   "execution_count": 4,
   "id": "drawn-strengthening",
   "metadata": {},
   "outputs": [],
   "source": [
    "def occurrence(arr, target, index=0,ans=-1):\n",
    "    if len(arr) == index:\n",
    "        print(ans)\n",
    "        return\n",
    "    if arr[index] == target:\n",
    "        ans = index\n",
    "    occurrence(arr, target, index+1, ans)\n",
    "        "
   ]
  },
  {
   "cell_type": "code",
   "execution_count": 5,
   "id": "wired-stewart",
   "metadata": {},
   "outputs": [
    {
     "name": "stdout",
     "output_type": "stream",
     "text": [
      "5\n"
     ]
    }
   ],
   "source": [
    "occurrence([3, 2, 1, 8, 6, 1, 3], 1)"
   ]
  },
  {
   "cell_type": "code",
   "execution_count": 6,
   "id": "everyday-thursday",
   "metadata": {},
   "outputs": [],
   "source": [
    "def occur(arr, target, index=0, arr1 = []):\n",
    "    if len(arr) == index:\n",
    "        print(arr1)\n",
    "        return\n",
    "    if arr[index] == target:\n",
    "        arr1.append(index)\n",
    "    occur(arr, target, index+1, arr1)\n",
    "    "
   ]
  },
  {
   "cell_type": "code",
   "execution_count": 7,
   "id": "corporate-street",
   "metadata": {},
   "outputs": [
    {
     "name": "stdout",
     "output_type": "stream",
     "text": [
      "[2, 3, 5, 8]\n"
     ]
    }
   ],
   "source": [
    "occur([0, 4, 2, 2, 1, 2, 3, 4, 2],2)"
   ]
  },
  {
   "cell_type": "code",
   "execution_count": 8,
   "id": "alike-builder",
   "metadata": {},
   "outputs": [],
   "source": [
    "def reverse(arr):\n",
    "    if len(arr) == 0 :\n",
    "        return []\n",
    "    if len(arr) == 1:\n",
    "        return arr\n",
    "    \n",
    "    return ([arr[-1]]+reverse(arr[:len(arr)-1]))"
   ]
  },
  {
   "cell_type": "code",
   "execution_count": 9,
   "id": "controlled-worthy",
   "metadata": {},
   "outputs": [
    {
     "data": {
      "text/plain": [
       "[4, 3, 2, 1]"
      ]
     },
     "execution_count": 9,
     "metadata": {},
     "output_type": "execute_result"
    }
   ],
   "source": [
    "reverse([1,2,3,4])"
   ]
  },
  {
   "cell_type": "code",
   "execution_count": 1,
   "id": "adverse-control",
   "metadata": {},
   "outputs": [],
   "source": [
    "def selectionSort(arr, index= 0):\n",
    "    mini = index\n",
    "    for i in range(index + 1, len(arr)):\n",
    "         if arr[i] < arr[mini]:\n",
    "            mini = i            \n",
    "    arr[mini], arr[index] = arr[index], arr[mini]\n",
    "    if index + 1 < len(arr):\n",
    "        selectionSort(arr, index + 1)"
   ]
  },
  {
   "cell_type": "code",
   "execution_count": 2,
   "id": "ideal-racing",
   "metadata": {},
   "outputs": [
    {
     "data": {
      "text/plain": [
       "[2, 2, 3, 4, 7]"
      ]
     },
     "execution_count": 2,
     "metadata": {},
     "output_type": "execute_result"
    }
   ],
   "source": [
    "arr = [4,7,2,3,2]\n",
    "selectionSort(arr)\n",
    "arr"
   ]
  },
  {
   "cell_type": "code",
   "execution_count": 10,
   "id": "necessary-improvement",
   "metadata": {},
   "outputs": [],
   "source": [
    "#there should be atleast 1 'a' before 'bb' and there shouldn't be a 'b' after 'bb'"
   ]
  },
  {
   "cell_type": "code",
   "execution_count": 11,
   "id": "capable-leather",
   "metadata": {},
   "outputs": [],
   "source": [
    "def check(str1):\n",
    "    if len(str1) == 0:\n",
    "        return True\n",
    "    \n",
    "    if str1[0] == \"a\":\n",
    "        if str1[1:3] == \"bb\" :\n",
    "            return check(str1[3:])\n",
    "        else:\n",
    "            return check(str1[1:])\n",
    "    else:\n",
    "        return False"
   ]
  },
  {
   "cell_type": "code",
   "execution_count": 12,
   "id": "comic-persian",
   "metadata": {},
   "outputs": [
    {
     "data": {
      "text/plain": [
       "(True, False)"
      ]
     },
     "execution_count": 12,
     "metadata": {},
     "output_type": "execute_result"
    }
   ],
   "source": [
    "check(\"abbaaaaabb\"), check(\"aabbbaaa\")"
   ]
  },
  {
   "cell_type": "code",
   "execution_count": 13,
   "id": "polish-heaven",
   "metadata": {},
   "outputs": [],
   "source": [
    "def twin(str1, count = 0):\n",
    "    if len(str1)==2 or len(str1) == 1:\n",
    "        return count\n",
    "    \n",
    "    if len(str1)>=3:\n",
    "        if str1[0] == str1[2]:\n",
    "            return twin(str1[1:], count+1)\n",
    "        else:\n",
    "            return twin(str1[1:], count)"
   ]
  },
  {
   "cell_type": "code",
   "execution_count": 14,
   "id": "textile-basin",
   "metadata": {},
   "outputs": [
    {
     "data": {
      "text/plain": [
       "3"
      ]
     },
     "execution_count": 14,
     "metadata": {},
     "output_type": "execute_result"
    }
   ],
   "source": [
    "twin(\"AxAxA\")"
   ]
  },
  {
   "cell_type": "code",
   "execution_count": 15,
   "id": "friendly-frontier",
   "metadata": {},
   "outputs": [],
   "source": [
    "#Q12"
   ]
  },
  {
   "cell_type": "code",
   "execution_count": 16,
   "id": "moral-hunter",
   "metadata": {},
   "outputs": [],
   "source": [
    "def hyphen(str1, index=0):\n",
    "    if index == len(str1)-1:\n",
    "        print(str1)\n",
    "        return\n",
    "    \n",
    "    if index<=len(str1)-2:\n",
    "        if str1[index] == str1[index+1]:\n",
    "            return hyphen(str1[:index+1]+\"-\"+str1[index+1:], index+1)\n",
    "        \n",
    "        else:\n",
    "            return hyphen(str1, index+1)"
   ]
  },
  {
   "cell_type": "code",
   "execution_count": 17,
   "id": "military-links",
   "metadata": {},
   "outputs": [
    {
     "name": "stdout",
     "output_type": "stream",
     "text": [
      "hel-lo\n"
     ]
    }
   ],
   "source": [
    "hyphen(\"hello\")"
   ]
  },
  {
   "cell_type": "code",
   "execution_count": 18,
   "id": "veterinary-discharge",
   "metadata": {},
   "outputs": [],
   "source": [
    "def remove(str1, index=0):\n",
    "    if index == len(str1)-1:\n",
    "        print(str1)\n",
    "        return\n",
    "    \n",
    "    if index<=len(str1)-2:\n",
    "        if str1[index] == str1[index+1]:\n",
    "            return remove(str1[:index]+str1[index+1:], index)\n",
    "        \n",
    "        else:\n",
    "            return remove(str1, index+1)"
   ]
  },
  {
   "cell_type": "code",
   "execution_count": 19,
   "id": "recognized-mortality",
   "metadata": {},
   "outputs": [
    {
     "name": "stdout",
     "output_type": "stream",
     "text": [
      "helelo\n"
     ]
    }
   ],
   "source": [
    "remove(\"hheelleeeelloo\")"
   ]
  },
  {
   "cell_type": "code",
   "execution_count": 8,
   "id": "grave-hebrew",
   "metadata": {},
   "outputs": [],
   "source": [
    "def subseq(str1 , ans=\"\" ,index = 0) :\n",
    "    if (index == len(str1)):\n",
    "        print(ans)\n",
    "        return\n",
    "\n",
    "    ch = str1[index]\n",
    "    subseq(str1, ans, index + 1)\n",
    "    subseq(str1, ans + ch, index + 1)\n",
    "    subseq(str1, ans + str(ord(ch)), index + 1)"
   ]
  },
  {
   "cell_type": "code",
   "execution_count": 9,
   "id": "excellent-dependence",
   "metadata": {},
   "outputs": [
    {
     "name": "stdout",
     "output_type": "stream",
     "text": [
      "\n",
      "b\n",
      "98\n",
      "a\n",
      "ab\n",
      "a98\n",
      "97\n",
      "97b\n",
      "9798\n"
     ]
    }
   ],
   "source": [
    "subseq(\"ab\")"
   ]
  },
  {
   "cell_type": "code",
   "execution_count": 16,
   "id": "checked-desert",
   "metadata": {},
   "outputs": [],
   "source": [
    "def subseqCount(str1, index = 0) :\n",
    "    if (index == len(str1)):\n",
    "        return 1\n",
    "    count = 0\n",
    "    ch = str1[index]\n",
    "    count += subseqCount(str1,  index + 1)\n",
    "    count += subseqCount(str1, index + 1)\n",
    "    count += subseqCount(str1,  index + 1)\n",
    "    \n",
    "    return count"
   ]
  },
  {
   "cell_type": "code",
   "execution_count": 17,
   "id": "transparent-breath",
   "metadata": {},
   "outputs": [
    {
     "data": {
      "text/plain": [
       "9"
      ]
     },
     "execution_count": 17,
     "metadata": {},
     "output_type": "execute_result"
    }
   ],
   "source": [
    "subseqCount(\"ab\")"
   ]
  },
  {
   "cell_type": "code",
   "execution_count": 3,
   "id": "alert-death",
   "metadata": {},
   "outputs": [],
   "source": [
    "def equalSum(arr, first = [], second=[], index=0, fsum=0, ssum=0):\n",
    "    \n",
    "    if len(arr) == index:\n",
    "        if fsum == ssum:\n",
    "            print(first, second) \n",
    "            \n",
    "        return \n",
    "\n",
    "    equalSum(arr, first+[arr[index]], second, index+1, fsum+arr[index],ssum)\n",
    "\n",
    "    equalSum(arr, first, second+[arr[index]], index+1, fsum,ssum+arr[index])"
   ]
  },
  {
   "cell_type": "code",
   "execution_count": 5,
   "id": "through-entrance",
   "metadata": {},
   "outputs": [
    {
     "name": "stdout",
     "output_type": "stream",
     "text": [
      "[1, 2, 3, 3] [4, 5]\n",
      "[1, 3, 5] [2, 3, 4]\n",
      "[1, 3, 5] [2, 3, 4]\n",
      "[2, 3, 4] [1, 3, 5]\n",
      "[2, 3, 4] [1, 3, 5]\n",
      "[4, 5] [1, 2, 3, 3]\n"
     ]
    }
   ],
   "source": [
    "equalSum([1,2,3,3,4,5])"
   ]
  }
 ],
 "metadata": {
  "kernelspec": {
   "display_name": "Python 3",
   "language": "python",
   "name": "python3"
  },
  "language_info": {
   "codemirror_mode": {
    "name": "ipython",
    "version": 3
   },
   "file_extension": ".py",
   "mimetype": "text/x-python",
   "name": "python",
   "nbconvert_exporter": "python",
   "pygments_lexer": "ipython3",
   "version": "3.9.2"
  }
 },
 "nbformat": 4,
 "nbformat_minor": 5
}
