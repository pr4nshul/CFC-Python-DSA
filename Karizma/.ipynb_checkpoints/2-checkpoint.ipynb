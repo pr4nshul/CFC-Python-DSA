{
 "cells": [
  {
   "cell_type": "code",
   "execution_count": 22,
   "id": "turned-wrapping",
   "metadata": {},
   "outputs": [
    {
     "data": {
      "text/plain": [
       "705"
      ]
     },
     "execution_count": 22,
     "metadata": {},
     "output_type": "execute_result"
    }
   ],
   "source": [
    "def deci2oct(num):\n",
    "    octal = 0\n",
    "    while num>0:\n",
    "        rem = num % 8\n",
    "        octal = octal*10 + rem\n",
    "        num = num // 8\n",
    "    return reverse(octal)\n",
    "    \n",
    "deci2oct(453)"
   ]
  },
  {
   "cell_type": "code",
   "execution_count": 21,
   "id": "corporate-plate",
   "metadata": {},
   "outputs": [
    {
     "data": {
      "text/plain": [
       "0"
      ]
     },
     "execution_count": 21,
     "metadata": {},
     "output_type": "execute_result"
    }
   ],
   "source": [
    "56%8"
   ]
  },
  {
   "cell_type": "code",
   "execution_count": null,
   "id": "ready-childhood",
   "metadata": {},
   "outputs": [],
   "source": [
    "n1 = int(input())\n",
    "n2 = int(input())\n",
    "ch = input()\n",
    "\n",
    "if ch=='*':\n",
    "    print( n1*n2)\n",
    "elif ch == '/':\n",
    "    if n2 == 0:\n",
    "        print(\"Error\")\n",
    "    else:\n",
    "        print(n1 // n2)\n",
    "elif ch == '%':\n",
    "    if n2 == 0:\n",
    "        print(\"Error\")\n",
    "    else:\n",
    "        print(n1 % n2)\n",
    "elif ch == '+':\n",
    "    print(n1+n2)\n",
    "elif ch =='-':\n",
    "    print(n1-n2)\n",
    "else:\n",
    "    print(\"Error\")\n",
    "    "
   ]
  },
  {
   "cell_type": "code",
   "execution_count": 4,
   "id": "indirect-corruption",
   "metadata": {},
   "outputs": [],
   "source": [
    "def case(ch):\n",
    "    if ch.isupper():\n",
    "        print(\"Uppercase\")\n",
    "    else:\n",
    "        print(\"Lowercase\")"
   ]
  },
  {
   "cell_type": "code",
   "execution_count": 6,
   "id": "purple-spread",
   "metadata": {},
   "outputs": [
    {
     "name": "stdout",
     "output_type": "stream",
     "text": [
      "Uppercase\n",
      "Lowercase\n"
     ]
    },
    {
     "data": {
      "text/plain": [
       "(None, None)"
      ]
     },
     "execution_count": 6,
     "metadata": {},
     "output_type": "execute_result"
    }
   ],
   "source": [
    "case('A'), case('d')"
   ]
  },
  {
   "cell_type": "code",
   "execution_count": 7,
   "id": "occupied-article",
   "metadata": {},
   "outputs": [],
   "source": [
    "def reverse(num):\n",
    "    rev = 0\n",
    "    while num>0:\n",
    "        rem = num % 10\n",
    "        rev = rev*10 + rem\n",
    "        num = num // 10\n",
    "    return rev    "
   ]
  },
  {
   "cell_type": "code",
   "execution_count": 8,
   "id": "digital-haven",
   "metadata": {},
   "outputs": [
    {
     "data": {
      "text/plain": [
       "654321"
      ]
     },
     "execution_count": 8,
     "metadata": {},
     "output_type": "execute_result"
    }
   ],
   "source": [
    "reverse(123456)"
   ]
  },
  {
   "cell_type": "code",
   "execution_count": 60,
   "id": "excellent-country",
   "metadata": {},
   "outputs": [],
   "source": [
    "def inverse(num):\n",
    "    num = str(num)\n",
    "    num2=[0]*(len(num))\n",
    "    for i in range(1, len(num)+1):\n",
    "        c = num[i-1]\n",
    "        num2[int(c)-1] = i\n",
    "    return int(\"\".join(map(str, num2)))\n",
    "        "
   ]
  },
  {
   "cell_type": "code",
   "execution_count": 61,
   "id": "professional-bundle",
   "metadata": {},
   "outputs": [
    {
     "data": {
      "text/plain": [
       "41532"
      ]
     },
     "execution_count": 61,
     "metadata": {},
     "output_type": "execute_result"
    }
   ],
   "source": [
    "inverse(25413)"
   ]
  },
  {
   "cell_type": "code",
   "execution_count": 7,
   "id": "designed-nigeria",
   "metadata": {},
   "outputs": [],
   "source": [
    "def gcd(a, b):\n",
    "    if b == 0:\n",
    "        return a\n",
    "    \n",
    "    return gcd(b,a%b)"
   ]
  },
  {
   "cell_type": "code",
   "execution_count": 10,
   "id": "swiss-merit",
   "metadata": {},
   "outputs": [
    {
     "data": {
      "text/plain": [
       "3"
      ]
     },
     "execution_count": 10,
     "metadata": {},
     "output_type": "execute_result"
    }
   ],
   "source": [
    "gcd(6,9)"
   ]
  },
  {
   "cell_type": "code",
   "execution_count": 13,
   "id": "racial-roulette",
   "metadata": {},
   "outputs": [],
   "source": [
    "def lcm(a, b):\n",
    "    return (a*b)//gcd(a,b)  # a x b = LCM x GCD"
   ]
  },
  {
   "cell_type": "code",
   "execution_count": 14,
   "id": "tracked-perception",
   "metadata": {},
   "outputs": [
    {
     "data": {
      "text/plain": [
       "18"
      ]
     },
     "execution_count": 14,
     "metadata": {},
     "output_type": "execute_result"
    }
   ],
   "source": [
    "lcm(6,9)"
   ]
  },
  {
   "cell_type": "code",
   "execution_count": 15,
   "id": "surface-austin",
   "metadata": {},
   "outputs": [
    {
     "name": "stdout",
     "output_type": "stream",
     "text": [
      "6\n"
     ]
    }
   ],
   "source": [
    "arr = [5, 45, 23, 63, 27, 80, 15, 2, 65, 30]\n",
    "\n",
    "count = 0\n",
    "for i in arr:\n",
    "    if i%5 == 0:\n",
    "        count += 1\n",
    "print(count)"
   ]
  },
  {
   "cell_type": "code",
   "execution_count": 47,
   "id": "artistic-madness",
   "metadata": {},
   "outputs": [
    {
     "name": "stdout",
     "output_type": "stream",
     "text": [
      "3\n"
     ]
    }
   ],
   "source": [
    "arr = [1,3,6,32,5,37]\n",
    "\n",
    "def prime(n):\n",
    "    if n<=1:\n",
    "        return False\n",
    "    for i in range(2,n//2 + 1):\n",
    "        if n%i == 0:\n",
    "            return False\n",
    "    return True\n",
    "\n",
    "count = 0\n",
    "for j in arr:\n",
    "    if prime(j):\n",
    "        count += 1\n",
    "print(count)\n",
    "        "
   ]
  },
  {
   "cell_type": "code",
   "execution_count": 3,
   "id": "beneficial-drain",
   "metadata": {},
   "outputs": [
    {
     "data": {
      "text/plain": [
       "(True, False, True)"
      ]
     },
     "execution_count": 3,
     "metadata": {},
     "output_type": "execute_result"
    }
   ],
   "source": [
    "def sort(arr):\n",
    "    a = arr[0] <= arr[len(arr)-1] #check for asc or desc\n",
    "    flag = 0\n",
    "    for i in range(len(arr)-1):\n",
    "        if a :\n",
    "            if(arr[i] > arr[i+1]):\n",
    "                flag = 1\n",
    "                break\n",
    "        else :\n",
    "            if(arr[i] < arr[i+1]):\n",
    "                flag = 1\n",
    "                break\n",
    "                \n",
    "    return flag == 0\n",
    "\n",
    "sort([1,2,3,4]), sort([3,2,4]), sort([5,4,3,1])"
   ]
  },
  {
   "cell_type": "code",
   "execution_count": 1,
   "id": "curious-bleeding",
   "metadata": {},
   "outputs": [
    {
     "data": {
      "text/plain": [
       "[0, 0, 0, 1, 1, 1, 1]"
      ]
     },
     "execution_count": 1,
     "metadata": {},
     "output_type": "execute_result"
    }
   ],
   "source": [
    "def sorte(arr):\n",
    "    count = 0\n",
    "    for i in range(len(arr)):\n",
    "        if arr[i] == 0:\n",
    "            count += 1\n",
    "    arr = [0]*count + [1]*(len(arr)-count)\n",
    "    return arr\n",
    "\n",
    "sorte([0,1,1,0,1,0,1])"
   ]
  },
  {
   "cell_type": "code",
   "execution_count": 15,
   "id": "cosmetic-anime",
   "metadata": {},
   "outputs": [],
   "source": [
    "def EvenOdd(arr):\n",
    "    swap = 0\n",
    "    for i in range(len(arr)):\n",
    "        if arr[i] % 2 == 0:\n",
    "            arr[i], arr[swap] = arr[swap], arr[i]\n",
    "            swap += 1\n",
    "    return arr\n",
    "\n",
    "            "
   ]
  },
  {
   "cell_type": "code",
   "execution_count": 16,
   "id": "billion-genealogy",
   "metadata": {},
   "outputs": [
    {
     "data": {
      "text/plain": [
       "[2, 4, 3, 1, 5]"
      ]
     },
     "execution_count": 16,
     "metadata": {},
     "output_type": "execute_result"
    }
   ],
   "source": [
    "EvenOdd([1,2,3,4,5])"
   ]
  },
  {
   "cell_type": "code",
   "execution_count": 21,
   "id": "afraid-local",
   "metadata": {},
   "outputs": [],
   "source": [
    "def reverse(arr):\n",
    "    for i in range(len(arr)//2):\n",
    "        arr[i], arr[len(arr)-i-1] = arr[len(arr)-i-1], arr[i]\n",
    "        \n",
    "    return arr"
   ]
  },
  {
   "cell_type": "code",
   "execution_count": 22,
   "id": "polished-chemical",
   "metadata": {},
   "outputs": [
    {
     "data": {
      "text/plain": [
       "[5, 4, 3, 2, 1]"
      ]
     },
     "execution_count": 22,
     "metadata": {},
     "output_type": "execute_result"
    }
   ],
   "source": [
    "reverse([1,2,3,4,5])"
   ]
  },
  {
   "cell_type": "code",
   "execution_count": 4,
   "id": "asian-accident",
   "metadata": {},
   "outputs": [],
   "source": [
    "def targetSum2(arr, target, index=0, ans = []):\n",
    "    \n",
    "    if target ==0 and len(ans)== 2:\n",
    "        print(ans)\n",
    "        return\n",
    "    \n",
    "    if index >= len(arr):\n",
    "        return \n",
    "\n",
    "    \n",
    "        \n",
    "    targetSum2(arr, target-arr[index], index+1, ans+[arr[index]])\n",
    "    \n",
    "    targetSum2(arr, target, index+1, ans)\n",
    "    "
   ]
  },
  {
   "cell_type": "code",
   "execution_count": 5,
   "id": "moved-saver",
   "metadata": {},
   "outputs": [
    {
     "name": "stdout",
     "output_type": "stream",
     "text": [
      "[3, 5]\n",
      "[1, 7]\n",
      "[2, 6]\n",
      "[9, -1]\n"
     ]
    }
   ],
   "source": [
    "targetSum2([3, 1, 11, 2, 9, 7, 4, 5, -1, 13, 6], 8)"
   ]
  },
  {
   "cell_type": "code",
   "execution_count": 8,
   "id": "north-elite",
   "metadata": {},
   "outputs": [],
   "source": [
    "def targetSum3(arr, target, index=0, ans = []):\n",
    "    \n",
    "    if target ==0 and len(ans) == 3: \n",
    "        print(ans)\n",
    "        return\n",
    "    \n",
    "    if index >= len(arr):\n",
    "        return \n",
    "\n",
    "    \n",
    "        \n",
    "    targetSum3(arr, target-arr[index], index+1, ans+[arr[index]])\n",
    "    \n",
    "    targetSum3(arr, target, index+1, ans)\n",
    "    "
   ]
  },
  {
   "cell_type": "code",
   "execution_count": 9,
   "id": "vertical-olive",
   "metadata": {},
   "outputs": [
    {
     "name": "stdout",
     "output_type": "stream",
     "text": [
      "[3, 1, 5]\n",
      "[3, 7, -1]\n",
      "[1, 2, 6]\n",
      "[1, 9, -1]\n"
     ]
    }
   ],
   "source": [
    "targetSum3([3, 1, 2, 9, 7, 5, -1, 6], 9 )"
   ]
  },
  {
   "cell_type": "code",
   "execution_count": 3,
   "id": "applied-morning",
   "metadata": {},
   "outputs": [],
   "source": [
    "def subsets(arr, proc = []):\n",
    "    if arr == []:\n",
    "        print(proc)\n",
    "        return\n",
    "    \n",
    "    ch = [arr[0]]\n",
    "    \n",
    "    subsets(arr[1:], proc+ch)\n",
    "    subsets(arr[1:], proc)\n",
    "    "
   ]
  },
  {
   "cell_type": "code",
   "execution_count": 4,
   "id": "prescribed-service",
   "metadata": {},
   "outputs": [
    {
     "name": "stdout",
     "output_type": "stream",
     "text": [
      "[1, 2, 3]\n",
      "[1, 2]\n",
      "[1, 3]\n",
      "[1]\n",
      "[2, 3]\n",
      "[2]\n",
      "[3]\n",
      "[]\n"
     ]
    }
   ],
   "source": [
    "subsets([1,2,3])"
   ]
  },
  {
   "cell_type": "code",
   "execution_count": 13,
   "id": "identical-person",
   "metadata": {},
   "outputs": [],
   "source": [
    "def permute(arr, proc=[]):\n",
    "    if arr == []:\n",
    "        print(proc)\n",
    "        return\n",
    "    \n",
    "    for index in range(len(arr)):\n",
    "        permute(arr[:index]+arr[index+1:], proc+[arr[index]])"
   ]
  },
  {
   "cell_type": "code",
   "execution_count": 14,
   "id": "blocked-preparation",
   "metadata": {},
   "outputs": [
    {
     "name": "stdout",
     "output_type": "stream",
     "text": [
      "[1, 2, 3]\n",
      "[1, 3, 2]\n",
      "[2, 1, 3]\n",
      "[2, 3, 1]\n",
      "[3, 1, 2]\n",
      "[3, 2, 1]\n"
     ]
    }
   ],
   "source": [
    "permute([1,2,3])"
   ]
  },
  {
   "cell_type": "code",
   "execution_count": null,
   "id": "mounted-delight",
   "metadata": {},
   "outputs": [],
   "source": []
  },
  {
   "cell_type": "code",
   "execution_count": null,
   "id": "flexible-assurance",
   "metadata": {},
   "outputs": [],
   "source": []
  },
  {
   "cell_type": "code",
   "execution_count": null,
   "id": "understood-handbook",
   "metadata": {},
   "outputs": [],
   "source": []
  },
  {
   "cell_type": "code",
   "execution_count": null,
   "id": "sexual-canada",
   "metadata": {},
   "outputs": [],
   "source": []
  }
 ],
 "metadata": {
  "kernelspec": {
   "display_name": "Python 3",
   "language": "python",
   "name": "python3"
  },
  "language_info": {
   "codemirror_mode": {
    "name": "ipython",
    "version": 3
   },
   "file_extension": ".py",
   "mimetype": "text/x-python",
   "name": "python",
   "nbconvert_exporter": "python",
   "pygments_lexer": "ipython3",
   "version": "3.9.2"
  }
 },
 "nbformat": 4,
 "nbformat_minor": 5
}
