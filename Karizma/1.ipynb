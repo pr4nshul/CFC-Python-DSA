{
 "cells": [
  {
   "cell_type": "markdown",
   "id": "hawaiian-adelaide",
   "metadata": {},
   "source": [
    ".Write the pseudocode & a program to input credits of a Code for CauseCampus leader and then output the badge of the lead on the basis ofthe following criteria:\n",
    "a.7500 <= credits : Tera leader\n",
    "b.6000 <= credits < 7500 : Gega leader\n",
    "c.4500 <= credits < 6000 : Mega leader\n",
    "d.Credits < 4500 : Rising Star"
   ]
  },
  {
   "cell_type": "code",
   "execution_count": 1,
   "id": "frequent-folder",
   "metadata": {},
   "outputs": [
    {
     "name": "stdin",
     "output_type": "stream",
     "text": [
      " 6570\n"
     ]
    },
    {
     "name": "stdout",
     "output_type": "stream",
     "text": [
      "Gega leader\n"
     ]
    }
   ],
   "source": [
    "credits = int(input())\n",
    "if credits >= 7500:\n",
    "    badge = \"Tera leader\"\n",
    "    \n",
    "elif 6000 <= credits < 7500:\n",
    "    badge = \"Gega leader\"\n",
    "    \n",
    "elif 4500 <= credits < 6000:\n",
    "    badge = \"Mega leader\"\n",
    "\n",
    "else:\n",
    "    badge = \"Rising star\"  \n",
    "\n",
    "print(badge)"
   ]
  },
  {
   "cell_type": "markdown",
   "id": "eight-arrangement",
   "metadata": {},
   "source": [
    "Write the pseudocode & a program to calculate the simple interestbased on the inputs(amount, rate, time) provided by the user"
   ]
  },
  {
   "cell_type": "code",
   "execution_count": null,
   "id": "informal-comparative",
   "metadata": {},
   "outputs": [],
   "source": [
    "amount = int(input())\n",
    "rate = int(input())\n",
    "time = int(input())\n",
    "\n",
    "SI = (amount*rate*time)/100"
   ]
  },
  {
   "cell_type": "markdown",
   "id": "royal-hardware",
   "metadata": {},
   "source": [
    "Write the pseudocode & the program to calculate GCD of two numbers."
   ]
  },
  {
   "cell_type": "code",
   "execution_count": 6,
   "id": "thermal-bacteria",
   "metadata": {},
   "outputs": [],
   "source": [
    "def gcd(a, b):\n",
    "    if b == 0:\n",
    "        return a\n",
    "    \n",
    "    return gcd(b,a%b)"
   ]
  },
  {
   "cell_type": "code",
   "execution_count": 5,
   "id": "attractive-embassy",
   "metadata": {},
   "outputs": [
    {
     "name": "stdin",
     "output_type": "stream",
     "text": [
      " 10\n"
     ]
    },
    {
     "name": "stdout",
     "output_type": "stream",
     "text": [
      "4\n",
      "8\n",
      "12\n",
      "16\n"
     ]
    }
   ],
   "source": [
    "x = int(input())\n",
    "for i in range(2, x, 2):\n",
    "    print(i+i)\n",
    "    "
   ]
  },
  {
   "cell_type": "code",
   "execution_count": 3,
   "id": "developmental-pierce",
   "metadata": {},
   "outputs": [],
   "source": [
    "def reverse(num):\n",
    "    rev = 0\n",
    "    while num>0:\n",
    "        rem = num % 10\n",
    "        rev = rev*10 + rem\n",
    "        num = num // 10\n",
    "    return rev    "
   ]
  },
  {
   "cell_type": "code",
   "execution_count": 8,
   "id": "computational-observer",
   "metadata": {},
   "outputs": [
    {
     "data": {
      "text/plain": [
       "5"
      ]
     },
     "execution_count": 8,
     "metadata": {},
     "output_type": "execute_result"
    }
   ],
   "source": [
    "def count(num):\n",
    "    count = 0\n",
    "    while num>0:\n",
    "        num = num//10\n",
    "        count += 1\n",
    "    return count\n",
    "\n",
    "count(12445)    "
   ]
  },
  {
   "cell_type": "code",
   "execution_count": 14,
   "id": "absolute-regular",
   "metadata": {},
   "outputs": [
    {
     "name": "stdout",
     "output_type": "stream",
     "text": [
      "* \n",
      "* * \n",
      "* * * \n",
      "* * * * \n",
      "* * * * * \n"
     ]
    }
   ],
   "source": [
    "n = 5\n",
    "for row in range(n):\n",
    "    for col in range(row+1):\n",
    "        print(\"*\", end = \" \")\n",
    "    print()"
   ]
  },
  {
   "cell_type": "code",
   "execution_count": 16,
   "id": "palestinian-frontier",
   "metadata": {},
   "outputs": [
    {
     "name": "stdout",
     "output_type": "stream",
     "text": [
      "1 \n",
      "1 2 \n",
      "1 2 3 \n",
      "1 2 3 4 \n",
      "1 2 3 4 5 \n"
     ]
    }
   ],
   "source": [
    "n = 5\n",
    "for row in range(n):\n",
    "    for col in range(row+1):\n",
    "        print(col+1, end = \" \")\n",
    "    print()\n"
   ]
  },
  {
   "cell_type": "code",
   "execution_count": 36,
   "id": "parental-amount",
   "metadata": {},
   "outputs": [
    {
     "name": "stdout",
     "output_type": "stream",
     "text": [
      "        1         \n",
      "      1 2 1       \n",
      "    1 2 3 2 1     \n",
      "  1 2 3 4 3 2 1   \n",
      "1 2 3 4 5 4 3 2 1 \n"
     ]
    }
   ],
   "source": [
    "n = 5\n",
    "\n",
    "row = 0\n",
    "while row < n:\n",
    "    col_mirror = 0\n",
    "    col = 0\n",
    "    while col_mirror < 2 * n - 1:\n",
    "        if col < n - row-1:\n",
    "            print(\" \", end=\" \")\n",
    "        else:\n",
    "            print(2-n+col+row, end=\" \")\n",
    "            \n",
    "        if col_mirror < n-1:\n",
    "            col += 1\n",
    "        else:\n",
    "            col -= 1\n",
    "        \n",
    "        col_mirror += 1\n",
    "    \n",
    "    print()\n",
    "    row += 1"
   ]
  },
  {
   "cell_type": "code",
   "execution_count": 56,
   "id": "acquired-variation",
   "metadata": {},
   "outputs": [
    {
     "name": "stdout",
     "output_type": "stream",
     "text": [
      "        1         \n",
      "      3 2 3       \n",
      "    5 4 3 4 5     \n",
      "  7 6 5 4 5 6 7   \n",
      "9 8 7 6 5 6 7 8 9 \n"
     ]
    }
   ],
   "source": [
    "n = 5\n",
    "\n",
    "row = 0\n",
    "while row < n:\n",
    "    var = 0\n",
    "    col_mirror = 0\n",
    "    col = 0\n",
    "    while col_mirror < 2 * n - 1:\n",
    "        if col < n - row-1:\n",
    "            print(\" \", end=\" \")\n",
    "        else:\n",
    "            print(-col+row+n, end=\" \")\n",
    "            \n",
    "        if col_mirror < n-1:\n",
    "            col += 1\n",
    "        else:\n",
    "            col -= 1\n",
    "        \n",
    "        col_mirror += 1\n",
    "    \n",
    "    print()\n",
    "    row += 1"
   ]
  },
  {
   "cell_type": "code",
   "execution_count": 30,
   "id": "atomic-priest",
   "metadata": {},
   "outputs": [
    {
     "name": "stdout",
     "output_type": "stream",
     "text": [
      "        *         \n",
      "      * * *       \n",
      "    * * * * *     \n",
      "  * * * * * * *   \n",
      "* * * * * * * * * \n",
      "  * * * * * * *   \n",
      "    * * * * *     \n",
      "      * * *       \n",
      "        *         \n"
     ]
    }
   ],
   "source": [
    "n = 5\n",
    "\n",
    "row_mirror = 0\n",
    "row = 0\n",
    "while row_mirror < 2 * n - 1:\n",
    "    col_mirror = 0\n",
    "    col = 0\n",
    "    while col_mirror < 2 * n - 1:\n",
    "        if col < n - row - 1:\n",
    "            print(\" \", end=\" \")\n",
    "        else:\n",
    "            print(\"*\", end=\" \")\n",
    "            \n",
    "        if col_mirror < n-1:\n",
    "            col += 1\n",
    "        else:\n",
    "            col -= 1\n",
    "        \n",
    "        col_mirror += 1\n",
    "    \n",
    "    print()\n",
    "    \n",
    "    if row_mirror < n - 1:\n",
    "        row += 1\n",
    "    else:\n",
    "        row -= 1\n",
    "    \n",
    "    row_mirror += 1"
   ]
  },
  {
   "cell_type": "code",
   "execution_count": 59,
   "id": "derived-integration",
   "metadata": {},
   "outputs": [
    {
     "name": "stdout",
     "output_type": "stream",
     "text": [
      "*               * \n",
      "* *           * * \n",
      "* * *       * * * \n",
      "* * * *   * * * * \n",
      "* * * * * * * * * \n",
      "* * * *   * * * * \n",
      "* * *       * * * \n",
      "* *           * * \n",
      "*               * \n"
     ]
    }
   ],
   "source": [
    "n = 5\n",
    "\n",
    "row_mirror = 0\n",
    "row = 0\n",
    "while row_mirror < 2*n - 1:\n",
    "    col_mirror = 0\n",
    "    col = 0\n",
    "    while col_mirror < 2*n - 1:\n",
    "        if col <= row:\n",
    "            print(\"*\", end=\" \")\n",
    "        else:\n",
    "            print(\" \", end=\" \")\n",
    "            \n",
    "        if col_mirror < n-1:\n",
    "            col += 1\n",
    "        else:\n",
    "            col -= 1\n",
    "        col_mirror += 1\n",
    "    \n",
    "    print()\n",
    "    \n",
    "    if row_mirror < n - 1:\n",
    "        row += 1\n",
    "    else:\n",
    "        row -= 1\n",
    "    \n",
    "    row_mirror += 1"
   ]
  },
  {
   "cell_type": "code",
   "execution_count": 58,
   "id": "collected-terry",
   "metadata": {},
   "outputs": [
    {
     "name": "stdout",
     "output_type": "stream",
     "text": [
      "* * * * * * * * * \n",
      "* * * *   * * * * \n",
      "* * *       * * * \n",
      "* *           * * \n",
      "*               * \n",
      "* *           * * \n",
      "* * *       * * * \n",
      "* * * *   * * * * \n",
      "* * * * * * * * * \n"
     ]
    }
   ],
   "source": [
    "n = 5\n",
    "\n",
    "row_mirror = 0\n",
    "row = 0\n",
    "while row_mirror < 2*n - 1:\n",
    "    col_mirror = 0\n",
    "    col = 0\n",
    "    while col_mirror < 2*n - 1:\n",
    "        if col < n - row:\n",
    "            print(\"*\", end=\" \")\n",
    "        else:\n",
    "            print(\" \", end=\" \")\n",
    "            \n",
    "        if col_mirror < n-1:\n",
    "            col += 1\n",
    "        else:\n",
    "            col -= 1\n",
    "        col_mirror += 1\n",
    "    \n",
    "    print()\n",
    "    \n",
    "    if row_mirror < n - 1:\n",
    "        row += 1\n",
    "    else:\n",
    "        row -= 1\n",
    "    \n",
    "    row_mirror += 1"
   ]
  },
  {
   "cell_type": "code",
   "execution_count": null,
   "id": "brief-railway",
   "metadata": {},
   "outputs": [],
   "source": []
  },
  {
   "cell_type": "code",
   "execution_count": null,
   "id": "sonic-tracy",
   "metadata": {},
   "outputs": [],
   "source": []
  },
  {
   "cell_type": "code",
   "execution_count": null,
   "id": "metric-elements",
   "metadata": {},
   "outputs": [],
   "source": []
  }
 ],
 "metadata": {
  "kernelspec": {
   "display_name": "Python 3",
   "language": "python",
   "name": "python3"
  },
  "language_info": {
   "codemirror_mode": {
    "name": "ipython",
    "version": 3
   },
   "file_extension": ".py",
   "mimetype": "text/x-python",
   "name": "python",
   "nbconvert_exporter": "python",
   "pygments_lexer": "ipython3",
   "version": "3.9.2"
  }
 },
 "nbformat": 4,
 "nbformat_minor": 5
}
