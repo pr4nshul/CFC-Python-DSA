{
 "cells": [
  {
   "cell_type": "markdown",
   "id": "legislative-found",
   "metadata": {},
   "source": [
    "    1. Take ‘n’ as input and print the following pattern for n = 5 using recursion:\n",
    "    1\n",
    "    1 1\n",
    "    1 2 1\n",
    "    1 3 3 1\n",
    "    1 4 6 4 1\n",
    "    1 5 10 10 5 1\n"
   ]
  },
  {
   "cell_type": "code",
   "execution_count": 3,
   "id": "blessed-rachel",
   "metadata": {},
   "outputs": [],
   "source": [
    "def Pascal(n: int, tri=[[]]):\n",
    "    \n",
    "    if row <= n and col <= n - 1  \n",
    "        \n",
    "        return \n",
    "    \n",
    "    Pascal(row - 1, col - 1) + Pascal(row - 1, col)"
   ]
  },
  {
   "cell_type": "code",
   "execution_count": 13,
   "id": "earlier-breeding",
   "metadata": {},
   "outputs": [
    {
     "data": {
      "text/plain": [
       "0"
      ]
     },
     "execution_count": 13,
     "metadata": {},
     "output_type": "execute_result"
    }
   ],
   "source": []
  },
  {
   "cell_type": "markdown",
   "id": "coated-double",
   "metadata": {},
   "source": [
    "    2. Take ‘n’ as input and write a recursive function to return the sum of 1 to n.\n",
    "    Eg: for n=5 return 15 (1+2+3+4+5)\n"
   ]
  },
  {
   "cell_type": "code",
   "execution_count": 16,
   "id": "disabled-giant",
   "metadata": {},
   "outputs": [],
   "source": [
    "def Sum(n: int):\n",
    "    if n == 1:\n",
    "        return 1\n",
    "    else:\n",
    "        return n + Sum(n - 1)"
   ]
  },
  {
   "cell_type": "markdown",
   "id": "basic-bargain",
   "metadata": {},
   "source": [
    "    3. Given an array and a target value, write a recursive function that will return the\n",
    "    last index of the occurrence of that target value. If not present in the array return\n",
    "    -1.\n",
    "    Eg: {3 2 1 8 6 1 3} target = 1\n",
    "    Output: 5\n"
   ]
  },
  {
   "cell_type": "code",
   "execution_count": 31,
   "id": "aboriginal-night",
   "metadata": {},
   "outputs": [],
   "source": [
    "def Occurrence(Arr: list[int], target: int):\n",
    "    \n",
    "    # we can reverse the array and return len(Arr) - pos \n",
    "    found = -1\n",
    "    Arr = list(reversed(Arr))\n",
    "    for index in range(len(Arr)):\n",
    "        if target == Arr[index]:\n",
    "            found = len(Arr) - 1 - index\n",
    "            return found\n",
    "    return found\n",
    "\n",
    "# Another way possivble since no need to reverse.\n",
    "# the found will store the last value it.\n",
    "# or to get index of first occurrence we can use list attribute index(<item>) it will return the first occurrence."
   ]
  },
  {
   "cell_type": "code",
   "execution_count": 34,
   "id": "moral-newspaper",
   "metadata": {},
   "outputs": [
    {
     "data": {
      "text/plain": [
       "5"
      ]
     },
     "execution_count": 34,
     "metadata": {},
     "output_type": "execute_result"
    }
   ],
   "source": [
    "Occurrence([3, 2, 1, 8, 6, 1, 3], 1)"
   ]
  },
  {
   "cell_type": "code",
   "execution_count": 1,
   "id": "chronic-lawsuit",
   "metadata": {},
   "outputs": [],
   "source": [
    "def OccurrenceRec(Arr: list[int], target: int, index = 0, pos = -1):\n",
    "    \n",
    "    # we can reverse the array and return len(Arr) - pos \n",
    "    if index < len(Arr):\n",
    "        if target == Arr[index]:\n",
    "            print(index)\n",
    "        OccurrenceRec(Arr, target, index + 1, pos)\n",
    "    return pos\n",
    "        \n",
    "    \n",
    "        \n"
   ]
  },
  {
   "cell_type": "code",
   "execution_count": 2,
   "id": "anonymous-motorcycle",
   "metadata": {},
   "outputs": [
    {
     "data": {
      "text/plain": [
       "-1"
      ]
     },
     "execution_count": 2,
     "metadata": {},
     "output_type": "execute_result"
    }
   ],
   "source": [
    "OccurrenceRec([3, 2, 1, 8, 6, 1, 3], 1)"
   ]
  },
  {
   "cell_type": "markdown",
   "id": "eight-huntington",
   "metadata": {},
   "source": [
    "    4. Take an array as input and a target value. Write a recursive function which\n",
    "    returns an array having indices stored in it at which the target value is stored in\n",
    "    the original array.\n",
    "    Eg: {0, 4, 2, 2, 1, 2, 3, 4, 2} target = 2\n",
    "    Output: {2, 3, 5, 8}\n"
   ]
  },
  {
   "cell_type": "code",
   "execution_count": 5,
   "id": "twelve-provision",
   "metadata": {},
   "outputs": [],
   "source": [
    "def indexofTarget(Arr, target, result=[],index = 0):\n",
    "    \n",
    "    if index < len(Arr):\n",
    "        if target == Arr[index]:\n",
    "            result.append(index)\n",
    "        indexofTarget(Arr, target, result, index + 1)    \n",
    "    return result\n",
    "    \n",
    "  "
   ]
  },
  {
   "cell_type": "code",
   "execution_count": 6,
   "id": "appropriate-lobby",
   "metadata": {},
   "outputs": [
    {
     "data": {
      "text/plain": [
       "[2, 3, 5, 8]"
      ]
     },
     "execution_count": 6,
     "metadata": {},
     "output_type": "execute_result"
    }
   ],
   "source": [
    "indexofTarget([0, 4, 2, 2, 1, 2, 3, 4, 2], 2)"
   ]
  },
  {
   "cell_type": "markdown",
   "id": "equipped-lindsay",
   "metadata": {},
   "source": [
    "    5. Write a recursive function to reverse an array.\n"
   ]
  },
  {
   "cell_type": "code",
   "execution_count": 25,
   "id": "bearing-breath",
   "metadata": {},
   "outputs": [],
   "source": [
    "def ReverseArray(Arr: list[int], result=[]):\n",
    "    \n",
    "    if Arr == []:\n",
    "        return print(result)\n",
    "    else:\n",
    "        ch = Arr[-1]\n",
    "        result.append(ch)\n",
    "        ReverseArray(Arr[:-1], result)\n",
    "        "
   ]
  },
  {
   "cell_type": "code",
   "execution_count": 26,
   "id": "satisfied-landing",
   "metadata": {},
   "outputs": [],
   "source": [
    "arr = [0, 4, 2, 2, 1, 2, 3, 4, 2]"
   ]
  },
  {
   "cell_type": "code",
   "execution_count": 27,
   "id": "aquatic-illinois",
   "metadata": {},
   "outputs": [
    {
     "name": "stdout",
     "output_type": "stream",
     "text": [
      "[2, 4, 3, 2, 1, 2, 2, 4, 0]\n"
     ]
    }
   ],
   "source": [
    "ReverseArray(arr)"
   ]
  },
  {
   "cell_type": "code",
   "execution_count": null,
   "id": "deluxe-metro",
   "metadata": {},
   "outputs": [],
   "source": []
  },
  {
   "cell_type": "code",
   "execution_count": null,
   "id": "handed-assets",
   "metadata": {},
   "outputs": [],
   "source": []
  },
  {
   "cell_type": "code",
   "execution_count": null,
   "id": "standard-sustainability",
   "metadata": {},
   "outputs": [],
   "source": []
  },
  {
   "cell_type": "code",
   "execution_count": null,
   "id": "loving-reduction",
   "metadata": {},
   "outputs": [],
   "source": []
  },
  {
   "cell_type": "markdown",
   "id": "clean-brush",
   "metadata": {},
   "source": [
    "    9.Take as input str, a string. Write a recursive function that checks if the string was\n",
    "    generated using the following rules and returns a Boolean value: \n",
    "    \n",
    "    a. the string begins with an 'a' \n",
    "    b. each 'a' is followed by nothing or an 'a' or \"bb\" \n",
    "    c. each \"bb\" is followed by nothing or an 'a' Print the value returned.\n",
    "    \n",
    "    Eg: abba\n",
    "    Output: true"
   ]
  },
  {
   "cell_type": "code",
   "execution_count": 30,
   "id": "architectural-moore",
   "metadata": {},
   "outputs": [],
   "source": [
    "def SequenceRules(s: str, result = False,index = 0):\n",
    "    \n",
    "    if index == len(s) -1:\n",
    "        return print(result)\n",
    "    \n",
    "    \n",
    "    \n",
    "    if s[0] == \"a\":\n",
    "        result = True\n",
    "    \n",
    "    if s[0] == \"a\" and any((s[1] == \"\", s[1] == \"a\" , s[1:3] == \"bb\")):\n",
    "        result = True\n",
    "    else:\n",
    "        result =False\n",
    "        \n",
    "    if s[1: 3] == \"bb\" and any((s[3] == \"\",s[3] == \"a\")):\n",
    "        result = True\n",
    "    else:\n",
    "        result = False\n",
    "\n",
    "    \n",
    "    SequenceRules(s, result,index + 1)\n",
    "\n",
    "    \n",
    "    \n",
    "    "
   ]
  },
  {
   "cell_type": "code",
   "execution_count": 35,
   "id": "quiet-dealing",
   "metadata": {},
   "outputs": [
    {
     "name": "stdout",
     "output_type": "stream",
     "text": [
      "True\n"
     ]
    }
   ],
   "source": [
    "SequenceRules(\"abba\")"
   ]
  },
  {
   "cell_type": "code",
   "execution_count": null,
   "id": "current-incidence",
   "metadata": {},
   "outputs": [],
   "source": []
  },
  {
   "cell_type": "code",
   "execution_count": null,
   "id": "productive-shepherd",
   "metadata": {},
   "outputs": [],
   "source": []
  },
  {
   "cell_type": "markdown",
   "id": "contained-opposition",
   "metadata": {},
   "source": [
    "    10.Take as input str, a string. A “twin” is defined as two instances of a char\n",
    "    separated by a char. E.g. \"AxA\" the A's make a “twin”. \n",
    "    “twins” can overlap, so \"AxAxA\" contains 3 “twins” \n",
    "    - 2 for A and 1 for x. Write a function which recursively counts the number of “twins” in a string. Print the value returned.\n",
    "    Eg: AXAXA\n",
    "    Output: 3"
   ]
  },
  {
   "cell_type": "code",
   "execution_count": 40,
   "id": "agricultural-flower",
   "metadata": {},
   "outputs": [],
   "source": [
    "def twins(s: str, twin=0):\n",
    "    \n",
    "    if s == \"\":\n",
    "        return print(twin)\n",
    "    elif s[0] == \"A\":\n",
    "        twin += 1\n",
    "        twins(s[1:], twin)\n",
    "    else:\n",
    "        twins(s[1:], twin)"
   ]
  },
  {
   "cell_type": "code",
   "execution_count": 41,
   "id": "thousand-baptist",
   "metadata": {},
   "outputs": [
    {
     "name": "stdout",
     "output_type": "stream",
     "text": [
      "3\n"
     ]
    }
   ],
   "source": [
    "twins(\"AXAXA\")"
   ]
  },
  {
   "cell_type": "markdown",
   "id": "above-malta",
   "metadata": {},
   "source": [
    "    11.Take as input str, a string. We are concerned with all the possible\n",
    "    ascii-subsequences of str. \n",
    "    E.g. “ab” has following ascii-subsequences “”, “b”, “98”, “a”, “ab”, “a98”, “97”, “97b”, “9798”\n",
    "    \n",
    "    a. Write a recursive function which returns the count of ascii-subsequences for a given string. Print the value returned.\n",
    "    \n",
    "    b. Write a recursive function which prints all possible ascii-subsequences for a given string (void is the return type for function).\n",
    "    \n",
    "    Eg: ab\n",
    "    Output: b 98 a ab a98 97 97b 9798\n",
    "     9\n"
   ]
  },
  {
   "cell_type": "code",
   "execution_count": 79,
   "id": "single-boost",
   "metadata": {},
   "outputs": [],
   "source": [
    "def ASCII_subsequence(unproc, proc=\"\", result=[]):\n",
    "    \n",
    "    if unproc == \"\":\n",
    "        result.append(proc)\n",
    "        return \n",
    "    \n",
    "    ch = unproc[0]\n",
    "    ASCII_subsequence(unproc[1:], proc, result)\n",
    "    ASCII_subsequence(unproc[1:], proc + ch, result)\n",
    "    ASCII_subsequence(unproc[1:], proc + str(ord(ch)), result) \n",
    "\n",
    "    return result\n",
    "            "
   ]
  },
  {
   "cell_type": "code",
   "execution_count": 80,
   "id": "beautiful-radio",
   "metadata": {},
   "outputs": [
    {
     "data": {
      "text/plain": [
       "['', 'b', '98', 'a', 'ab', 'a98', '97', '97b', '9798']"
      ]
     },
     "execution_count": 80,
     "metadata": {},
     "output_type": "execute_result"
    }
   ],
   "source": [
    "ASCII_subsequence(\"ab\")"
   ]
  },
  {
   "cell_type": "markdown",
   "id": "sought-commons",
   "metadata": {},
   "source": [
    "    12.Take as input str, a string. Write a recursive function which returns a new string\n",
    "    in which all duplicate consecutive characters are separated by a ‘ - ’. E.g. for\n",
    "    “hello” return “hel-lo”.\n"
   ]
  },
  {
   "cell_type": "code",
   "execution_count": 20,
   "id": "intense-chemistry",
   "metadata": {},
   "outputs": [],
   "source": [
    "def EditDuplicates(s: str, item=\"\",result = []):\n",
    "    \n",
    "    if item not in result:\n",
    "        result.append(item)\n",
    "    else:\n",
    "        result.append(\"-\")\n",
    "        result.append(item)\n",
    "        \n",
    "    if s == \"\":\n",
    "        print(result)\n",
    "        return\n",
    "    \n",
    "   \n",
    "    \n",
    "    item = s[0]\n",
    "    EditDuplicates(s[1:], item, result)\n",
    "    \n",
    "    return \"\".join(result)\n",
    "    "
   ]
  },
  {
   "cell_type": "code",
   "execution_count": 21,
   "id": "cloudy-excerpt",
   "metadata": {},
   "outputs": [
    {
     "name": "stdout",
     "output_type": "stream",
     "text": [
      "['', 'h', 'e', 'l', '-', 'l', 'o']\n"
     ]
    },
    {
     "data": {
      "text/plain": [
       "'hel-lo'"
      ]
     },
     "execution_count": 21,
     "metadata": {},
     "output_type": "execute_result"
    }
   ],
   "source": [
    "EditDuplicates(\"hello\")"
   ]
  },
  {
   "cell_type": "markdown",
   "id": "likely-north",
   "metadata": {},
   "source": [
    "    13.Take as input str, a string. Write a recursive function which returns a new string\n",
    "    in which all duplicate consecutive characters are removed. E.g. for “heeeello”\n",
    "    return “helo”."
   ]
  },
  {
   "cell_type": "code",
   "execution_count": 22,
   "id": "dominican-nevada",
   "metadata": {},
   "outputs": [],
   "source": [
    "def RemoveDupli(s: str, item=\"\",result = []):\n",
    "    \n",
    "    if item not in result:\n",
    "        result.append(item)\n",
    "        \n",
    "    if s == \"\":\n",
    "        print(result)\n",
    "        return\n",
    "    \n",
    "   \n",
    "    \n",
    "    item = s[0]\n",
    "    RemoveDupli(s[1:], item, result)\n",
    "    \n",
    "    return \"\".join(result)\n",
    "    "
   ]
  },
  {
   "cell_type": "code",
   "execution_count": 23,
   "id": "lesser-discovery",
   "metadata": {},
   "outputs": [
    {
     "name": "stdout",
     "output_type": "stream",
     "text": [
      "['', 'h', 'e', 'l', 'o']\n"
     ]
    },
    {
     "data": {
      "text/plain": [
       "'helo'"
      ]
     },
     "execution_count": 23,
     "metadata": {},
     "output_type": "execute_result"
    }
   ],
   "source": [
    "RemoveDupli(\"hello\")"
   ]
  },
  {
   "cell_type": "code",
   "execution_count": 17,
   "id": "varying-manchester",
   "metadata": {},
   "outputs": [],
   "source": [
    "a = [\"{\", \"}\", \"(\", \")\",\"[\",\"]\"]"
   ]
  },
  {
   "cell_type": "code",
   "execution_count": 127,
   "id": "dimensional-faith",
   "metadata": {},
   "outputs": [
    {
     "name": "stdout",
     "output_type": "stream",
     "text": [
      "123 125 40 41 91 93 "
     ]
    }
   ],
   "source": [
    "for item in a:\n",
    "    print(ord(item), end=\" \")"
   ]
  },
  {
   "cell_type": "markdown",
   "id": "turned-netherlands",
   "metadata": {},
   "source": [
    "    14.Take as input str, a string. The string is a mathematical expression. Eg: “[a + {b +\n",
    "    (c+d) + e} + f]”. Write a recursive function which checks if the brackets are\n",
    "    balanced or not.\n"
   ]
  },
  {
   "cell_type": "code",
   "execution_count": null,
   "id": "instrumental-history",
   "metadata": {},
   "outputs": [],
   "source": [
    "def Expression(s: str):\n",
    "    \n",
    "    open_brk = \"{[(\"\n",
    "    closed_brk = \"}])\"\n",
    "    \n",
    "    for lindex in range(len(s)):\n",
    "        for rindex in range(len(s) - 1, lindex, -1):\n",
    "            if s[lindex] in open_brk:\n",
    "            \n",
    "            elif s[rindex] in close_brk:\n",
    "                pass\n",
    "            else:\n",
    "                Expression(s[lindex: rindex])\n",
    "        \n",
    "        \n",
    "        "
   ]
  },
  {
   "cell_type": "code",
   "execution_count": 1,
   "id": "liable-locator",
   "metadata": {},
   "outputs": [
    {
     "data": {
      "text/plain": [
       "'\\\\'"
      ]
     },
     "execution_count": 1,
     "metadata": {},
     "output_type": "execute_result"
    }
   ],
   "source": [
    "chr(92)"
   ]
  },
  {
   "cell_type": "code",
   "execution_count": null,
   "id": "biological-intention",
   "metadata": {},
   "outputs": [],
   "source": []
  },
  {
   "cell_type": "code",
   "execution_count": null,
   "id": "stainless-bruce",
   "metadata": {},
   "outputs": [],
   "source": []
  },
  {
   "cell_type": "markdown",
   "id": "changed-produce",
   "metadata": {},
   "source": [
    "    15. Take as input N, a number. Take N more inputs and store that in an array.\n",
    "    a. Write a recursive function which counts the number of ways the array\n",
    "    could be split in two groups, so that the sum of items in both groups is\n",
    "    equal. Each number in the array must belong to one of the two groups.\n",
    "    Print the value returned.\n",
    "    b. Write a recursive function which keeps track of ways an array could be\n",
    "    split in two groups, so that the sum of items in both groups is equal. Each\n",
    "    number in the array must belong to one of the two groups. Return type of\n",
    "    function should be void. Print the two groups, each time you find a\n",
    "    successful split.\n",
    "    Eg: 6\n",
    "    1 2 3 3 4 5\n",
    "    Output: 6\n",
    "    1 2 3 3 and 4 5\n",
    "    1 3 5 and 2 3 4\n",
    "    1 3 5 and 2 3 4\n",
    "    2 3 4 and 1 3 5\n",
    "    2 3 4 and 1 3 5\n",
    "    4 5 and 1 2 3 3"
   ]
  },
  {
   "cell_type": "code",
   "execution_count": 60,
   "id": "innocent-hands",
   "metadata": {},
   "outputs": [],
   "source": [
    "def ArraySum(Arr: list[int], target: int, Left=[], Right=[], index = 0, Lsum = 0, Rsum = 0):\n",
    "    if index == len(Arr):\n",
    "        if Lsum == Rsum :\n",
    "            print(Left, Right)\n",
    "        return \n",
    "    \n",
    "    Left.append(Arr[index])\n",
    "    ArraySum(Arr, target,Left, Right, index + 1, Lsum + Arr[index], Rsum)\n",
    "    Left.pop()\n",
    "    \n",
    "    Right.append(Arr[index])\n",
    "    ArraySum(Arr, target, Left, Right, index + 1, Lsum, Rsum + Arr[index])\n",
    "    Right.pop()\n",
    "    \n",
    "    "
   ]
  },
  {
   "cell_type": "code",
   "execution_count": 61,
   "id": "dramatic-junction",
   "metadata": {},
   "outputs": [
    {
     "name": "stdout",
     "output_type": "stream",
     "text": [
      "[1, 2, 3, 3] [4, 5]\n",
      "[1, 3, 5] [2, 3, 4]\n",
      "[1, 3, 5] [2, 3, 4]\n",
      "[2, 3, 4] [1, 3, 5]\n",
      "[2, 3, 4] [1, 3, 5]\n",
      "[4, 5] [1, 2, 3, 3]\n"
     ]
    }
   ],
   "source": [
    "ArraySum([1, 2, 3, 3, 4, 5], 6)"
   ]
  },
  {
   "cell_type": "code",
   "execution_count": 62,
   "id": "functional-drive",
   "metadata": {},
   "outputs": [],
   "source": [
    "def ArraySumN(Arr: list[int], target: int, Left=[], Right=[], index = 0, Lsum = 0, Rsum = 0):\n",
    "    if index == len(Arr):\n",
    "        if Lsum == Rsum :\n",
    "            print(Left, Right)\n",
    "        return \n",
    "    \n",
    "    Left.append(Arr[index])\n",
    "    ArraySumN(Arr, target,Left, Right, index + 1, Lsum + Arr[index], Rsum)\n",
    "    Left.pop()\n",
    "    \n",
    "    Right.append(Arr[index])\n",
    "    ArraySumN(Arr, target, Left, Right, index + 1, Lsum, Rsum + Arr[index])\n",
    "    Right.pop()\n",
    "    \n",
    "    ArraySumN(Arr, target, Left, Right, index + 1, Lsum, Rsum)"
   ]
  },
  {
   "cell_type": "code",
   "execution_count": 63,
   "id": "painful-excuse",
   "metadata": {},
   "outputs": [
    {
     "name": "stdout",
     "output_type": "stream",
     "text": [
      "[1, 2, 3, 3] [4, 5]\n",
      "[1, 2] [3]\n",
      "[1, 2] [3]\n",
      "[1, 3, 3] [2, 5]\n",
      "[1, 3, 5] [2, 3, 4]\n",
      "[1, 3, 5] [2, 3, 4]\n",
      "[1, 4] [2, 3]\n",
      "[1, 4] [2, 3]\n",
      "[1, 5] [2, 4]\n",
      "[1, 3, 4] [3, 5]\n",
      "[1, 3] [4]\n",
      "[1, 3, 4] [3, 5]\n",
      "[1, 5] [3, 3]\n",
      "[1, 3] [4]\n",
      "[1, 4] [5]\n",
      "[2, 3, 4] [1, 3, 5]\n",
      "[2, 3] [1, 4]\n",
      "[2, 3, 4] [1, 3, 5]\n",
      "[2, 5] [1, 3, 3]\n",
      "[2, 3] [1, 4]\n",
      "[2, 4] [1, 5]\n",
      "[3] [1, 2]\n",
      "[4, 5] [1, 2, 3, 3]\n",
      "[3] [1, 2]\n",
      "[3, 3] [1, 5]\n",
      "[3, 5] [1, 3, 4]\n",
      "[3, 5] [1, 3, 4]\n",
      "[4] [1, 3]\n",
      "[4] [1, 3]\n",
      "[5] [1, 4]\n",
      "[2, 3] [5]\n",
      "[2, 4] [3, 3]\n",
      "[2, 5] [3, 4]\n",
      "[2, 3] [5]\n",
      "[2, 5] [3, 4]\n",
      "[3, 3] [2, 4]\n",
      "[3, 4] [2, 5]\n",
      "[5] [2, 3]\n",
      "[3, 4] [2, 5]\n",
      "[5] [2, 3]\n",
      "[3] [3]\n",
      "[3] [3]\n",
      "[] []\n"
     ]
    }
   ],
   "source": [
    "ArraySumN([1, 2, 3, 3, 4, 5], 6)"
   ]
  },
  {
   "cell_type": "code",
   "execution_count": 77,
   "id": "documentary-firewall",
   "metadata": {},
   "outputs": [],
   "source": [
    "def ArraySumNM(Arr: list[int], target: int, Left=[], Right=[], index = 0, Lsum = 0, Rsum = 0):\n",
    "    if index == len(Arr):\n",
    "        if Lsum == target and Rsum == target :\n",
    "            print(Left, Right)\n",
    "        return \n",
    "    \n",
    "    Left.append(Arr[index])\n",
    "    ArraySumN(Arr, target,Left, Right, index + 1, Lsum + Arr[index], Rsum)\n",
    "    Left.pop()\n",
    "    \n",
    "    Right.append(Arr[index])\n",
    "    ArraySumN(Arr, target, Left, Right, index + 1, Lsum, Rsum + Arr[index])\n",
    "    Right.pop()\n",
    "    \n",
    "    ArraySumNM(Arr, target, Left, Right, index + 1, Lsum, Rsum)"
   ]
  },
  {
   "cell_type": "code",
   "execution_count": 78,
   "id": "sorted-privilege",
   "metadata": {},
   "outputs": [],
   "source": [
    "ArraySumNM([1, 2, 3, 3, 4, 5], 6)"
   ]
  },
  {
   "cell_type": "code",
   "execution_count": null,
   "id": "successful-throat",
   "metadata": {},
   "outputs": [],
   "source": []
  },
  {
   "cell_type": "markdown",
   "id": "amazing-customer",
   "metadata": {},
   "source": [
    "    7. Write a recursive function for Bubble Sort. (Using no loops)\n"
   ]
  },
  {
   "cell_type": "code",
   "execution_count": 16,
   "id": "prepared-bread",
   "metadata": {},
   "outputs": [],
   "source": []
  },
  {
   "cell_type": "code",
   "execution_count": null,
   "id": "textile-tomato",
   "metadata": {},
   "outputs": [],
   "source": []
  },
  {
   "cell_type": "code",
   "execution_count": 19,
   "id": "occupied-schema",
   "metadata": {},
   "outputs": [],
   "source": [
    "import random\n",
    "Arr = []\n",
    "index = 0\n",
    "while index < 5:\n",
    "    item = random.randint(1, 11)\n",
    "    if item not in Arr:\n",
    "        Arr.append(item)\n",
    "        index += 1\n",
    "    else:\n",
    "        index -= 1"
   ]
  },
  {
   "cell_type": "code",
   "execution_count": 20,
   "id": "experienced-entrepreneur",
   "metadata": {},
   "outputs": [
    {
     "data": {
      "text/plain": [
       "[7, 10, 1, 5, 11]"
      ]
     },
     "execution_count": 20,
     "metadata": {},
     "output_type": "execute_result"
    }
   ],
   "source": [
    "Arr"
   ]
  },
  {
   "cell_type": "code",
   "execution_count": 51,
   "id": "acute-nursery",
   "metadata": {},
   "outputs": [],
   "source": [
    "def BubbleSort(Arr, index = 0):\n",
    "    \n",
    "    \n",
    "#     for i in range(len(Arr)):\n",
    "#         for j in range(len(Arr) - 1 - i):\n",
    "            \n",
    "#             if Arr[j] > Arr[j + 1]:\n",
    "#                 swap()\n",
    "                \n",
    "    if index == len(Arr):\n",
    "        print(Arr)\n",
    "        return\n",
    "    for j in range(index) :\n",
    "        if Arr[j] > Arr[j + 1]:\n",
    "            Arr[j], Arr[j + 1] = Arr[j + 1], Arr[j]\n",
    "        return\n",
    "    BubbleSort(Arr[:len(Arr) - 1 - index], index + 1)"
   ]
  },
  {
   "cell_type": "code",
   "execution_count": 50,
   "id": "conventional-private",
   "metadata": {},
   "outputs": [],
   "source": [
    "BubbleSort(Arr)"
   ]
  },
  {
   "cell_type": "code",
   "execution_count": 52,
   "id": "essential-jason",
   "metadata": {},
   "outputs": [],
   "source": [
    "a = \"siddhant\""
   ]
  },
  {
   "cell_type": "code",
   "execution_count": 53,
   "id": "adverse-pressure",
   "metadata": {},
   "outputs": [
    {
     "data": {
      "text/plain": [
       "'tnahddis'"
      ]
     },
     "execution_count": 53,
     "metadata": {},
     "output_type": "execute_result"
    }
   ],
   "source": [
    "a[::-1]"
   ]
  },
  {
   "cell_type": "code",
   "execution_count": 54,
   "id": "brave-marker",
   "metadata": {},
   "outputs": [],
   "source": [
    "a = \"-121\""
   ]
  },
  {
   "cell_type": "code",
   "execution_count": 56,
   "id": "affiliated-queue",
   "metadata": {},
   "outputs": [
    {
     "data": {
      "text/plain": [
       "'121-'"
      ]
     },
     "execution_count": 56,
     "metadata": {},
     "output_type": "execute_result"
    }
   ],
   "source": [
    "a[::-1]"
   ]
  },
  {
   "cell_type": "markdown",
   "id": "rural-ancient",
   "metadata": {},
   "source": [
    "    7. Write a recursive function for Bubble Sort. (Using no loops)"
   ]
  },
  {
   "cell_type": "code",
   "execution_count": 1,
   "id": "gross-stocks",
   "metadata": {},
   "outputs": [],
   "source": [
    "def bbSort(li : list[int], index):\n",
    "    \n",
    "\n",
    "    if index > 0:\n",
    "        for i in range(len(li)):\n",
    "            \n",
    "            if li[index] > li[index + 1]:\n",
    "                li[index], li[index + 1] = li[index + 1], li[index]\n",
    "    \n",
    "        bbsort(li, index - 1)\n",
    "    else:\n",
    "        return"
   ]
  },
  {
   "cell_type": "code",
   "execution_count": 3,
   "id": "individual-horizontal",
   "metadata": {},
   "outputs": [
    {
     "ename": "IndexError",
     "evalue": "list index out of range",
     "output_type": "error",
     "traceback": [
      "\u001b[1;31m---------------------------------------------------------------------------\u001b[0m",
      "\u001b[1;31mIndexError\u001b[0m                                Traceback (most recent call last)",
      "\u001b[1;32m<ipython-input-3-30467a61ae5c>\u001b[0m in \u001b[0;36m<module>\u001b[1;34m\u001b[0m\n\u001b[0;32m      1\u001b[0m \u001b[0ma\u001b[0m \u001b[1;33m=\u001b[0m \u001b[1;33m[\u001b[0m\u001b[1;36m2\u001b[0m\u001b[1;33m,\u001b[0m \u001b[1;36m5\u001b[0m\u001b[1;33m,\u001b[0m \u001b[1;36m9\u001b[0m\u001b[1;33m,\u001b[0m \u001b[1;36m6\u001b[0m\u001b[1;33m,\u001b[0m \u001b[1;36m1\u001b[0m\u001b[1;33m]\u001b[0m\u001b[1;33m\u001b[0m\u001b[1;33m\u001b[0m\u001b[0m\n\u001b[1;32m----> 2\u001b[1;33m \u001b[0mbbSort\u001b[0m\u001b[1;33m(\u001b[0m\u001b[0ma\u001b[0m\u001b[1;33m,\u001b[0m \u001b[0mlen\u001b[0m\u001b[1;33m(\u001b[0m\u001b[0ma\u001b[0m\u001b[1;33m)\u001b[0m\u001b[1;33m-\u001b[0m\u001b[1;36m1\u001b[0m\u001b[1;33m)\u001b[0m\u001b[1;33m\u001b[0m\u001b[1;33m\u001b[0m\u001b[0m\n\u001b[0m",
      "\u001b[1;32m<ipython-input-1-eb626cfdbb90>\u001b[0m in \u001b[0;36mbbSort\u001b[1;34m(li, index)\u001b[0m\n\u001b[0;32m      6\u001b[0m         \u001b[1;32mfor\u001b[0m \u001b[0mi\u001b[0m \u001b[1;32min\u001b[0m \u001b[0mrange\u001b[0m\u001b[1;33m(\u001b[0m\u001b[0mlen\u001b[0m\u001b[1;33m(\u001b[0m\u001b[0mli\u001b[0m\u001b[1;33m)\u001b[0m\u001b[1;33m)\u001b[0m\u001b[1;33m:\u001b[0m\u001b[1;33m\u001b[0m\u001b[1;33m\u001b[0m\u001b[0m\n\u001b[0;32m      7\u001b[0m \u001b[1;33m\u001b[0m\u001b[0m\n\u001b[1;32m----> 8\u001b[1;33m             \u001b[1;32mif\u001b[0m \u001b[0mli\u001b[0m\u001b[1;33m[\u001b[0m\u001b[0mindex\u001b[0m\u001b[1;33m]\u001b[0m \u001b[1;33m>\u001b[0m \u001b[0mli\u001b[0m\u001b[1;33m[\u001b[0m\u001b[0mindex\u001b[0m \u001b[1;33m+\u001b[0m \u001b[1;36m1\u001b[0m\u001b[1;33m]\u001b[0m\u001b[1;33m:\u001b[0m\u001b[1;33m\u001b[0m\u001b[1;33m\u001b[0m\u001b[0m\n\u001b[0m\u001b[0;32m      9\u001b[0m                 \u001b[0mli\u001b[0m\u001b[1;33m[\u001b[0m\u001b[0mindex\u001b[0m\u001b[1;33m]\u001b[0m\u001b[1;33m,\u001b[0m \u001b[0mli\u001b[0m\u001b[1;33m[\u001b[0m\u001b[0mindex\u001b[0m \u001b[1;33m+\u001b[0m \u001b[1;36m1\u001b[0m\u001b[1;33m]\u001b[0m \u001b[1;33m=\u001b[0m \u001b[0mli\u001b[0m\u001b[1;33m[\u001b[0m\u001b[0mindex\u001b[0m \u001b[1;33m+\u001b[0m \u001b[1;36m1\u001b[0m\u001b[1;33m]\u001b[0m\u001b[1;33m,\u001b[0m \u001b[0mli\u001b[0m\u001b[1;33m[\u001b[0m\u001b[0mindex\u001b[0m\u001b[1;33m]\u001b[0m\u001b[1;33m\u001b[0m\u001b[1;33m\u001b[0m\u001b[0m\n\u001b[0;32m     10\u001b[0m \u001b[1;33m\u001b[0m\u001b[0m\n",
      "\u001b[1;31mIndexError\u001b[0m: list index out of range"
     ]
    }
   ],
   "source": [
    "a = [2, 5, 9, 6, 1]\n",
    "bbSort(a, l"
   ]
  },
  {
   "cell_type": "code",
   "execution_count": null,
   "id": "promising-roller",
   "metadata": {},
   "outputs": [],
   "source": [
    "def bubble_Sort(l):\n",
    "    \n",
    "    for i in range(len(l)):\n",
    "        for j in range(len(l) - i - 1):\n",
    "            if l[j] > l[j + 1]:\n",
    "                l[j], l[j + 1] = l[j + 1], l[j]\n",
    "                \n",
    "    \n",
    "    "
   ]
  }
 ],
 "metadata": {
  "kernelspec": {
   "display_name": "Python 3",
   "language": "python",
   "name": "python3"
  },
  "language_info": {
   "codemirror_mode": {
    "name": "ipython",
    "version": 3
   },
   "file_extension": ".py",
   "mimetype": "text/x-python",
   "name": "python",
   "nbconvert_exporter": "python",
   "pygments_lexer": "ipython3",
   "version": "3.9.1"
  }
 },
 "nbformat": 4,
 "nbformat_minor": 5
}
