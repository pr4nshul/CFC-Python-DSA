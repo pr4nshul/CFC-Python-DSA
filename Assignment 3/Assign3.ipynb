{
 "cells": [
  {
   "cell_type": "code",
   "execution_count": null,
   "id": "controlling-conversation",
   "metadata": {},
   "outputs": [],
   "source": [
    "a = input()"
   ]
  },
  {
   "cell_type": "code",
   "execution_count": null,
   "id": "liquid-relative",
   "metadata": {},
   "outputs": [],
   "source": [
    "a"
   ]
  },
  {
   "cell_type": "code",
   "execution_count": null,
   "id": "annoying-tennessee",
   "metadata": {},
   "outputs": [],
   "source": [
    "a.split()"
   ]
  },
  {
   "cell_type": "markdown",
   "id": "everyday-treasury",
   "metadata": {},
   "source": [
    "    Take as input a 2-D array. Print it as a vertical wave(Column-wise).\n",
    "    Input: 4 4\n",
    "    11 12 13 14\n",
    "    21 22 23 24\n",
    "    31 32 33 34\n",
    "    41 42 43 44\n",
    "    # Output: 11, 21, 31, 41, 42, 32, 22, 12, 13, 23, 33, 43, 44, 34, 24, 14\n"
   ]
  },
  {
   "cell_type": "code",
   "execution_count": null,
   "id": "awful-drill",
   "metadata": {},
   "outputs": [],
   "source": [
    "\n",
    "r, c = 4, 4\n",
    "\n",
    "matrix = []\n",
    "for i in range(r):\n",
    "    x = input()\n",
    "    matrix.append(x.split())"
   ]
  },
  {
   "cell_type": "code",
   "execution_count": null,
   "id": "painful-rocket",
   "metadata": {},
   "outputs": [],
   "source": [
    "matrix"
   ]
  },
  {
   "cell_type": "code",
   "execution_count": null,
   "id": "active-papua",
   "metadata": {},
   "outputs": [],
   "source": [
    "for i in range(r):\n",
    "    for j in range(c):\n",
    "        print(matrix[i][j], end=\" \")"
   ]
  },
  {
   "cell_type": "code",
   "execution_count": null,
   "id": "sticky-mozambique",
   "metadata": {},
   "outputs": [],
   "source": [
    "for i in range(r):\n",
    "    for j in range(c):\n",
    "        print(matrix[j][i], end=\" \")"
   ]
  },
  {
   "cell_type": "code",
   "execution_count": 15,
   "id": "collaborative-provision",
   "metadata": {},
   "outputs": [
    {
     "name": "stdin",
     "output_type": "stream",
     "text": [
      " 11 12 13 14\n",
      " 21 22 23 24\n",
      " 31 32 33 34\n",
      " 41 42 43 44\n"
     ]
    }
   ],
   "source": [
    "r, c = 4, 4\n",
    "\n",
    "mat = []\n",
    "for i in range(r):\n",
    "    x = input()\n",
    "    mat.append(x.split())"
   ]
  },
  {
   "cell_type": "code",
   "execution_count": 38,
   "id": "falling-rugby",
   "metadata": {},
   "outputs": [],
   "source": [
    "mat = [['11', '12', '13', '14'],\n",
    " ['21', '22', '23', '24'],\n",
    " ['31', '32', '33', '34'],\n",
    " ['41', '42', '43', '44']]"
   ]
  },
  {
   "cell_type": "code",
   "execution_count": 60,
   "id": "revolutionary-struggle",
   "metadata": {},
   "outputs": [],
   "source": [
    "def rotate(mat: list[list[str]]):\n",
    "    N = 4\n",
    "    for i in range(N // 2):\n",
    "        for j in range(i, N - i - 1):\n",
    "            temp = mat[i][j]\n",
    "            mat[i][j] = mat[i][N - j - 1]\n",
    "            mat[i][N - j - 1] = mat[N - i - 1][N - j - 1]\n",
    "            mat[N - i - 1][N - j - 1] = mat[N - i - 1][j]\n",
    "            mat[N - i - 1][j] = temp\n",
    "            \n",
    "    return mat"
   ]
  },
  {
   "cell_type": "code",
   "execution_count": 59,
   "id": "interim-tragedy",
   "metadata": {},
   "outputs": [
    {
     "data": {
      "text/plain": [
       "[['14', '12', '13', '44'],\n",
       " ['21', '23', '33', '24'],\n",
       " ['31', '22', '32', '34'],\n",
       " ['11', '42', '43', '41']]"
      ]
     },
     "execution_count": 59,
     "metadata": {},
     "output_type": "execute_result"
    }
   ],
   "source": [
    "rotate(mat)"
   ]
  },
  {
   "cell_type": "code",
   "execution_count": 66,
   "id": "initial-papua",
   "metadata": {},
   "outputs": [],
   "source": [
    "bit_mask = 0xFFFF"
   ]
  },
  {
   "cell_type": "code",
   "execution_count": 67,
   "id": "continental-drill",
   "metadata": {},
   "outputs": [],
   "source": [
    "x = 5"
   ]
  },
  {
   "cell_type": "code",
   "execution_count": 68,
   "id": "secret-haiti",
   "metadata": {},
   "outputs": [
    {
     "data": {
      "text/plain": [
       "5"
      ]
     },
     "execution_count": 68,
     "metadata": {},
     "output_type": "execute_result"
    }
   ],
   "source": [
    "x&bit_mask"
   ]
  },
  {
   "cell_type": "code",
   "execution_count": 69,
   "id": "tribal-limitation",
   "metadata": {},
   "outputs": [
    {
     "data": {
      "text/plain": [
       "65535"
      ]
     },
     "execution_count": 69,
     "metadata": {},
     "output_type": "execute_result"
    }
   ],
   "source": [
    "bit_mask"
   ]
  },
  {
   "cell_type": "code",
   "execution_count": 70,
   "id": "tutorial-robert",
   "metadata": {},
   "outputs": [
    {
     "data": {
      "text/plain": [
       "65535"
      ]
     },
     "execution_count": 70,
     "metadata": {},
     "output_type": "execute_result"
    }
   ],
   "source": [
    "0xFFFF"
   ]
  },
  {
   "cell_type": "code",
   "execution_count": 71,
   "id": "external-momentum",
   "metadata": {},
   "outputs": [
    {
     "data": {
      "text/plain": [
       "15"
      ]
     },
     "execution_count": 71,
     "metadata": {},
     "output_type": "execute_result"
    }
   ],
   "source": []
  },
  {
   "cell_type": "code",
   "execution_count": 72,
   "id": "insured-excellence",
   "metadata": {},
   "outputs": [
    {
     "name": "stdin",
     "output_type": "stream",
     "text": [
      " 4 5 6 7\n"
     ]
    }
   ],
   "source": [
    "a = input()"
   ]
  },
  {
   "cell_type": "code",
   "execution_count": 77,
   "id": "handy-office",
   "metadata": {},
   "outputs": [],
   "source": [
    "x = a.split()"
   ]
  },
  {
   "cell_type": "code",
   "execution_count": 78,
   "id": "tested-chambers",
   "metadata": {},
   "outputs": [
    {
     "data": {
      "text/plain": [
       "9"
      ]
     },
     "execution_count": 78,
     "metadata": {},
     "output_type": "execute_result"
    }
   ],
   "source": [
    "int(a[0]) + int(a[2])"
   ]
  },
  {
   "cell_type": "code",
   "execution_count": 79,
   "id": "olympic-inside",
   "metadata": {},
   "outputs": [
    {
     "data": {
      "text/plain": [
       "'4567'"
      ]
     },
     "execution_count": 79,
     "metadata": {},
     "output_type": "execute_result"
    }
   ],
   "source": [
    "\"\".join(x)"
   ]
  },
  {
   "cell_type": "code",
   "execution_count": null,
   "id": "damaged-physiology",
   "metadata": {},
   "outputs": [],
   "source": [
    "\n"
   ]
  },
  {
   "cell_type": "code",
   "execution_count": 93,
   "id": "fifty-landing",
   "metadata": {},
   "outputs": [
    {
     "name": "stdin",
     "output_type": "stream",
     "text": [
      " 4 5 6 7\n"
     ]
    }
   ],
   "source": [
    "a = [int(item) for item in input().split()] "
   ]
  },
  {
   "cell_type": "code",
   "execution_count": 94,
   "id": "amateur-emerald",
   "metadata": {},
   "outputs": [
    {
     "data": {
      "text/plain": [
       "[4, 5, 6, 7]"
      ]
     },
     "execution_count": 94,
     "metadata": {},
     "output_type": "execute_result"
    }
   ],
   "source": [
    "a"
   ]
  },
  {
   "cell_type": "markdown",
   "id": "normal-render",
   "metadata": {},
   "source": [
    "    6. Take input ‘n’ and then take ‘n’ more integer as input values of 1st array, then\n",
    "    take ‘m’ as input followed by ‘m’ more integer as input values of 2nd array. Write\n",
    "    a function that returns the sum of two arrays as an array.\n",
    "    Input: 4\n",
    "    3 5 0 7\n",
    "    5\n",
    "    9 0 2 8\n",
    "    Output: 1 2 5 3 5"
   ]
  },
  {
   "cell_type": "code",
   "execution_count": 5,
   "id": "functioning-flight",
   "metadata": {
    "slideshow": {
     "slide_type": "slide"
    }
   },
   "outputs": [
    {
     "name": "stdin",
     "output_type": "stream",
     "text": [
      " 3 5 0 7\n",
      " 9 0 2 8\n"
     ]
    },
    {
     "data": {
      "text/plain": [
       "[1, 2, 5, 3, 5]"
      ]
     },
     "execution_count": 5,
     "metadata": {},
     "output_type": "execute_result"
    }
   ],
   "source": [
    "arr1 = [int(item) for item in input().split()] \n",
    "arr2 = [int(item) for item in input().split()] \n",
    "num1, num2, x, y, power = 0, 0, 0, 0, 0\n",
    "\n",
    "while x < len(arr1) and y < len(arr2):\n",
    "    num1 += (10**power)*(arr1[len(arr1) - x -1])\n",
    "    x += 1\n",
    "    num2 += (10**power)*(arr2[len(arr2) - y -1])\n",
    "    y += 1\n",
    "    power += 1\n",
    "\n",
    "result = num1 + num2\n",
    "list(map(int, str(result)))\n",
    "    "
   ]
  },
  {
   "cell_type": "markdown",
   "id": "surgical-denmark",
   "metadata": {},
   "source": [
    "    8. Take 2 arrays as input and find the intersection of the two arrays(elements in\n",
    "    common).\n",
    "    Input: 7\n",
    "    1 2 3 1 2 4 1\n",
    "    2 1 3 1 5 2 2\n",
    "    Output: {1, 1, 2, 2, 3} # but returns a set"
   ]
  },
  {
   "cell_type": "code",
   "execution_count": 18,
   "id": "caring-basic",
   "metadata": {},
   "outputs": [
    {
     "name": "stdin",
     "output_type": "stream",
     "text": [
      " 1 2 3 1 2 4 1\n",
      " 2 1 3 1 5 2 2\n"
     ]
    }
   ],
   "source": [
    "arr1 = [int(item) for item in input().split()]\n",
    "arr2 = [int(item) for item in input().split()]\n",
    "result = []\n",
    "for number in arr1:\n",
    "    if number in arr2:\n",
    "        result.append(number)\n",
    "        arr2.remove(number)\n",
    "        \n",
    "        \n",
    "        "
   ]
  },
  {
   "cell_type": "code",
   "execution_count": 20,
   "id": "regulation-johns",
   "metadata": {},
   "outputs": [
    {
     "data": {
      "text/plain": [
       "[1, 1, 2, 2, 3]"
      ]
     },
     "execution_count": 20,
     "metadata": {},
     "output_type": "execute_result"
    }
   ],
   "source": [
    "result"
   ]
  },
  {
   "cell_type": "code",
   "execution_count": 21,
   "id": "collective-agriculture",
   "metadata": {},
   "outputs": [],
   "source": [
    "b = set([1, 1, 2, 2, 3])"
   ]
  },
  {
   "cell_type": "code",
   "execution_count": 45,
   "id": "average-spirituality",
   "metadata": {},
   "outputs": [
    {
     "name": "stdout",
     "output_type": "stream",
     "text": [
      "ord(\"a\"): 97\n",
      "chr(97): a\n"
     ]
    }
   ],
   "source": [
    "print(f'ord(\"a\"): {ord(\"a\")}') # returns unicode code of specific character\n",
    "print(f'chr(97): {chr(97)}')  # retunrn character specified unicode"
   ]
  },
  {
   "cell_type": "markdown",
   "id": "cubic-ensemble",
   "metadata": {},
   "source": [
    "    10.Take as input S, a string. Write a function that replaces every odd character with\n",
    "    the character having just higher ascii code and every even character with the\n",
    "    character having just lower ascii code. Print the value returned.\n",
    "    Input: abcg\n",
    "    Output: badf"
   ]
  },
  {
   "cell_type": "code",
   "execution_count": 57,
   "id": "broad-center",
   "metadata": {},
   "outputs": [],
   "source": [
    "def stringConverter(s: str):\n",
    "    count, result = 0, \"\"\n",
    "    for char in s:\n",
    "        if count%2 == 0:\n",
    "            new_char = chr(ord(char) + 1)\n",
    "            result += new_char\n",
    "        else:\n",
    "            new_char = chr(ord(char) - 1)\n",
    "            result += new_char\n",
    "        count += 1\n",
    "    return result"
   ]
  },
  {
   "cell_type": "code",
   "execution_count": 58,
   "id": "tight-silver",
   "metadata": {},
   "outputs": [
    {
     "data": {
      "text/plain": [
       "'badf'"
      ]
     },
     "execution_count": 58,
     "metadata": {},
     "output_type": "execute_result"
    }
   ],
   "source": [
    "stringConverter(\"abcg\")"
   ]
  },
  {
   "cell_type": "markdown",
   "id": "drawn-thumbnail",
   "metadata": {},
   "source": [
    "    11.Take as input S, a string. Write a function that toggles the case of all characters\n",
    "    in the string. Print the value returned.\n",
    "    Input: abcDEasW\n",
    "    Output: ABCdeASw\n",
    "\n",
    "\n",
    "    Hint:\n",
    "    capitalize: is used to convert it into lowercase to uppercase\n",
    "    casefold: is used to convert it into uppercase to lowercase\n",
    "    isupper: to check wheather it is in uppercase.\n",
    "    isalpha :to check whether all the char in string is alphabet.\n",
    "    isalnum: to check whether all the character are alphanumeric.\n"
   ]
  },
  {
   "cell_type": "code",
   "execution_count": 68,
   "id": "increasing-frame",
   "metadata": {},
   "outputs": [],
   "source": [
    "def CapsLock(s: str):\n",
    "    solution = \"\"\n",
    "    for char in s:\n",
    "        if char.isupper():\n",
    "            solution += char.casefold()\n",
    "        else:\n",
    "            solution += char.capitalize()\n",
    "    return solution"
   ]
  },
  {
   "cell_type": "markdown",
   "id": "fresh-layer",
   "metadata": {},
   "source": [
    "Or"
   ]
  },
  {
   "cell_type": "code",
   "execution_count": 70,
   "id": "nasty-jesus",
   "metadata": {},
   "outputs": [],
   "source": [
    "def CaseSwap(s: str):\n",
    "    return s.swapcase()"
   ]
  },
  {
   "cell_type": "markdown",
   "id": "executive-amplifier",
   "metadata": {},
   "source": [
    "Or"
   ]
  },
  {
   "cell_type": "code",
   "execution_count": 3,
   "id": "knowing-scoop",
   "metadata": {},
   "outputs": [],
   "source": [
    "s = \"abcDEasW\"\n",
    "CaseSwap2 = lambda s: s.swapcase()\n"
   ]
  },
  {
   "cell_type": "code",
   "execution_count": 4,
   "id": "industrial-winter",
   "metadata": {},
   "outputs": [
    {
     "data": {
      "text/plain": [
       "'ABCdeASw'"
      ]
     },
     "execution_count": 4,
     "metadata": {},
     "output_type": "execute_result"
    }
   ],
   "source": [
    "CaseSwap2(s)"
   ]
  },
  {
   "cell_type": "code",
   "execution_count": 69,
   "id": "comprehensive-musician",
   "metadata": {},
   "outputs": [
    {
     "data": {
      "text/plain": [
       "'ABCdeASw'"
      ]
     },
     "execution_count": 69,
     "metadata": {},
     "output_type": "execute_result"
    }
   ],
   "source": [
    "CapsLock(\"abcDEasW\")"
   ]
  },
  {
   "cell_type": "markdown",
   "id": "destroyed-enlargement",
   "metadata": {},
   "source": [
    "    12.Take as input S, a string. Write a program that inserts between each pair of\n",
    "    characters the difference between their ascii codes and print the ans.\n",
    "    Input: acb\n",
    "    Output: a2c-1b"
   ]
  },
  {
   "cell_type": "code",
   "execution_count": 50,
   "id": "annual-extension",
   "metadata": {},
   "outputs": [],
   "source": [
    "def Asciidifference(s: str):\n",
    "    solution = \"\"\n",
    "    i = 0\n",
    "    while i < len(s) - 1:\n",
    "        solution += s[i] + str(ord(s[i + 1]) - ord(s[i]))\n",
    "        i += 1\n",
    "    solution += s[i] \n",
    "    return solution\n",
    "        \n",
    "        "
   ]
  },
  {
   "cell_type": "code",
   "execution_count": 51,
   "id": "departmental-maker",
   "metadata": {},
   "outputs": [
    {
     "data": {
      "text/plain": [
       "'a2c-1b'"
      ]
     },
     "execution_count": 51,
     "metadata": {},
     "output_type": "execute_result"
    }
   ],
   "source": [
    "Asciidifference(\"acb\")"
   ]
  },
  {
   "cell_type": "markdown",
   "id": "considered-white",
   "metadata": {},
   "source": [
    "        13. You are provided with a string consisting of only 'a' and 'b' as the characters.\n",
    "        You have to make it a perfect string. The perfectness of a string is defined as the\n",
    "        maximum length substring of the same characters. You are given a number ‘k’\n",
    "        which denotes the maximum number of characters you can change. Find the\n",
    "        maximum perfectness he can generate by changing not more than ‘k’ characters.\n",
    "        Input: 2 abba\n",
    "        Output: 4"
   ]
  },
  {
   "cell_type": "code",
   "execution_count": null,
   "id": "lesbian-disorder",
   "metadata": {},
   "outputs": [],
   "source": [
    "def PerfectString():\n",
    "    "
   ]
  },
  {
   "cell_type": "code",
   "execution_count": 66,
   "id": "greek-logistics",
   "metadata": {},
   "outputs": [
    {
     "data": {
      "text/plain": [
       "False"
      ]
     },
     "execution_count": 66,
     "metadata": {},
     "output_type": "execute_result"
    }
   ],
   "source": [
    "\"a\".isalnum()"
   ]
  },
  {
   "cell_type": "code",
   "execution_count": 67,
   "id": "fiscal-brook",
   "metadata": {},
   "outputs": [
    {
     "data": {
      "text/plain": [
       "'aBSAD'"
      ]
     },
     "execution_count": 67,
     "metadata": {},
     "output_type": "execute_result"
    }
   ],
   "source": [
    "\"Absad\".swapcase()"
   ]
  },
  {
   "cell_type": "raw",
   "id": "naval-control",
   "metadata": {},
   "source": [
    "3. Take as input N, an odd number (>=5) . Print the following pattern as given below\n",
    "for N = 7.\n",
    "*     * * * *      0\n",
    "*     *            1\n",
    "*     *            2 \n",
    "* * * * * * *      3 \n",
    "      *     *      4\n",
    "      *     *      5\n",
    "* * * *     *      6"
   ]
  },
  {
   "cell_type": "code",
   "execution_count": 34,
   "id": "registered-athens",
   "metadata": {},
   "outputs": [
    {
     "name": "stdout",
     "output_type": "stream",
     "text": [
      "* * * * * * * \n",
      "* * * * * * * \n",
      "* * * * * * * \n",
      "* * * * * * * \n",
      "* * * * * * * \n",
      "* * * * * * * \n",
      "* * * * * * * \n"
     ]
    }
   ],
   "source": []
  },
  {
   "cell_type": "markdown",
   "id": "refined-setup",
   "metadata": {},
   "source": [
    "    1252. Cells with Odd Values in a Matrix\n",
    "    Given n and m which are the dimensions of a matrix initialized by zeros and given an array \n",
    "    indices where indices[i] = [ri, ci]. For each pair of [ri, ci] you have to increment all cells in row ri and column ci by 1.\n",
    "\n",
    "    Return the number of cells with odd values in the matrix after applying the increment to all indices.\n",
    "    Input: n = 2, m = 3, indices = [[0,1],[1,1]]\n",
    "    Output: 6\n",
    "    Explanation: Initial matrix = [[0,0,0],[0,0,0]].\n",
    "    After applying first increment it becomes [[1,2,1],[0,1,0]].\n",
    "    The final matrix will be [[1,3,1],[1,3,1]] which contains 6 odd numbers.\n"
   ]
  },
  {
   "cell_type": "code",
   "execution_count": null,
   "id": "executed-preservation",
   "metadata": {},
   "outputs": [],
   "source": [
    "class Solution:\n",
    "    def oddCells(self, n: int, m: int, indices: list[list[int]]) -> int:\n",
    "        matrix = []\n",
    "        for _ in range(n):\n",
    "            matrix.append([0]*m)\n",
    "        \n",
    "        \n",
    "        "
   ]
  },
  {
   "cell_type": "code",
   "execution_count": null,
   "id": "middle-steal",
   "metadata": {},
   "outputs": [],
   "source": []
  },
  {
   "cell_type": "markdown",
   "id": "collaborative-nicholas",
   "metadata": {},
   "source": [
    "    1260. Shift 2D Grid\n",
    "    Given a 2D grid of size m x n and an integer k. You need to shift the grid k times.\n",
    "\n",
    "    In one shift operation:\n",
    "\n",
    "    Element at grid[i][j] moves to grid[i][j + 1].\n",
    "    Element at grid[i][n - 1] moves to grid[i + 1][0].\n",
    "    Element at grid[m - 1][n - 1] moves to grid[0][0].\n",
    "    Return the 2D grid after applying shift operation k times.\n",
    "    \n",
    "    \n",
    "    Input: grid = [[1,2,3],[4,5,6],[7,8,9]], k = 1\n",
    "    Output: [[9,1,2],[3,4,5],[6,7,8]]\n",
    " "
   ]
  },
  {
   "cell_type": "code",
   "execution_count": null,
   "id": "unnecessary-nature",
   "metadata": {},
   "outputs": [],
   "source": [
    "class Solution:\n",
    "    def shiftGrid(self, grid: list[list[int]], k: int) -> list[list[int]]:\n",
    "        n = len(grid) - 1\n",
    "        m = len(grid[0]) - 1\n",
    "        for i in range(n):\n",
    "            for j in range(m):\n",
    "                temp = grid[i][j]\n",
    "                grid[i][j] = grid[i][j + 1]\n",
    "                grid[i][j + 1] = temp\n",
    "        \n",
    "        \n",
    "                "
   ]
  },
  {
   "cell_type": "code",
   "execution_count": 35,
   "id": "emerging-maldives",
   "metadata": {},
   "outputs": [],
   "source": [
    "def matrix(grid):\n",
    "    n = len(grid) - 1\n",
    "    m = len(grid[0]) - 1\n",
    "    i = 0\n",
    "    while i < n:\n",
    "        for j in range(m):\n",
    "            grid[i][j], grid[i][j + 1] = grid[i][j + 1], grid[i][j]\n",
    "        i += 1\n",
    "    return grid"
   ]
  },
  {
   "cell_type": "code",
   "execution_count": 36,
   "id": "global-nitrogen",
   "metadata": {},
   "outputs": [],
   "source": [
    "mat = matrix([[1,2,3],[4,5,6],[7,8,9]])"
   ]
  },
  {
   "cell_type": "code",
   "execution_count": 37,
   "id": "rough-redhead",
   "metadata": {},
   "outputs": [
    {
     "name": "stdout",
     "output_type": "stream",
     "text": [
      "[2, 3, 1]\n",
      "[5, 6, 4]\n",
      "[7, 8, 9]\n"
     ]
    }
   ],
   "source": [
    "for row in mat:\n",
    "    print(row)\n"
   ]
  },
  {
   "cell_type": "code",
   "execution_count": 44,
   "id": "peripheral-starter",
   "metadata": {},
   "outputs": [],
   "source": [
    "a = [2, 3, 1]"
   ]
  },
  {
   "cell_type": "code",
   "execution_count": 45,
   "id": "worldwide-third",
   "metadata": {},
   "outputs": [
    {
     "data": {
      "text/plain": [
       "[1, 3, 2]"
      ]
     },
     "execution_count": 45,
     "metadata": {},
     "output_type": "execute_result"
    }
   ],
   "source": [
    "list(reversed(a))\n"
   ]
  },
  {
   "cell_type": "code",
   "execution_count": 49,
   "id": "fourth-glory",
   "metadata": {},
   "outputs": [],
   "source": [
    "s = [\"h\",\"e\",\"l\",\"l\",\"o\"]"
   ]
  },
  {
   "cell_type": "code",
   "execution_count": 47,
   "id": "changed-aging",
   "metadata": {},
   "outputs": [],
   "source": [
    "# s = list(reversed(s))"
   ]
  },
  {
   "cell_type": "code",
   "execution_count": 50,
   "id": "cooperative-special",
   "metadata": {},
   "outputs": [
    {
     "data": {
      "text/plain": [
       "['o', 'l', 'l', 'e', 'h']"
      ]
     },
     "execution_count": 50,
     "metadata": {},
     "output_type": "execute_result"
    }
   ],
   "source": [
    "s[::-1]"
   ]
  },
  {
   "cell_type": "markdown",
   "id": "regional-heading",
   "metadata": {},
   "source": [
    "    1446. Consecutive Characters\n",
    "    Given a string s, the power of the string is the maximum length of a non-empty substring that contains only one unique character.\n",
    "    Return the power of the string.\n",
    "    Example 1:\n",
    "\n",
    "    Input: s = \"leetcode\"\n",
    "    Output: 2\n",
    "    Explanation: The substring \"ee\" is of length 2 with the character 'e' only.\n",
    "    Example 2:\n",
    "\n",
    "    Input: s = \"abbcccddddeeeeedcba\"\n",
    "    Output: 5\n",
    "    Explanation: The substring \"eeeee\" is of length 5 with the character 'e' only.\n",
    "    \n",
    "    ccbccbb"
   ]
  },
  {
   "cell_type": "code",
   "execution_count": 2,
   "id": "brazilian-tractor",
   "metadata": {},
   "outputs": [
    {
     "name": "stdout",
     "output_type": "stream",
     "text": [
      "1\n"
     ]
    }
   ],
   "source": [
    "class Solution:\n",
    "    def maxPower(self, s: str) -> int:\n",
    "        result = 1\n",
    "        consecutive = 1\n",
    " \n",
    "        for i in range(len(s) - 1):        \n",
    "            \n",
    "            if s[i] == s[i + 1]:\n",
    "                consecutive += 1\n",
    "            else:\n",
    "                if result < consecutive:\n",
    "                    result = consecutive\n",
    "                consecutive = 1\n",
    "        \n",
    "        return print(result)\n",
    "\n",
    "ans = Solution().maxPower(\"cc\")\n",
    "                \n",
    "                "
   ]
  },
  {
   "cell_type": "code",
   "execution_count": 2,
   "id": "printable-experience",
   "metadata": {},
   "outputs": [
    {
     "name": "stdout",
     "output_type": "stream",
     "text": [
      "[[8, 2]]\n"
     ]
    }
   ],
   "source": [
    "class Solution:\n",
    "    def canArrange(self, arr: list[int], k: int):\n",
    "        \n",
    "        solution = []\n",
    "        for i in range(len(arr)//2):\n",
    "            for j in range(len(arr)//2, len(arr)):\n",
    "                if (arr[i] + arr[j]) % k == 0:\n",
    "                    solution.append([arr[i],arr[j]])\n",
    "        return print(solution)\n",
    "    \n",
    "ans = Solution().canArrange([3,8,17,2,5,6],10)"
   ]
  },
  {
   "cell_type": "markdown",
   "id": "requested-lesbian",
   "metadata": {},
   "source": [
    "    917. Reverse Only Letters\n",
    "\n",
    "    Given a string S, return the \"reversed\" string where all characters that are not a letter stay in the same place, \n",
    "    and all letters reverse their positions.\n",
    "     \n",
    "\n",
    "    Example 1:\n",
    "\n",
    "    Input: \"ab-cd\"\n",
    "    Output: \"dc-ba\"\n",
    "    \n",
    "    Example 2:\n",
    "\n",
    "    Input: \"a-bC-dEf-ghIj\"\n",
    "    Output: \"j-Ih-gfE-dCba\""
   ]
  },
  {
   "cell_type": "code",
   "execution_count": 7,
   "id": "about-width",
   "metadata": {},
   "outputs": [
    {
     "name": "stdout",
     "output_type": "stream",
     "text": [
      "j-Ih-gfE-dCba\n"
     ]
    }
   ],
   "source": [
    "class Solution:\n",
    "    def reverseOnlyLetters(self, S: str) -> str:\n",
    "        S = list(S)\n",
    "        start, end = 0, len(S) - 1 \n",
    "        while start < end:\n",
    "            \n",
    "            if not S[start].isalpha():\n",
    "                start += 1\n",
    "\n",
    "            \n",
    "            if not S[end].isalpha():\n",
    "                end -= 1\n",
    "       \n",
    "                \n",
    "            S[start], S[end] = S[end], S[start]\n",
    "            start += 1\n",
    "            end -= 1\n",
    "            \n",
    "        return print(\"\".join(S))\n",
    "    \n",
    "ans = Solution().reverseOnlyLetters(\"a-bC-dEf-ghIj\")\n",
    "                 "
   ]
  },
  {
   "cell_type": "code",
   "execution_count": 8,
   "id": "clean-participation",
   "metadata": {},
   "outputs": [],
   "source": [
    "s = \"ABCABC\"\n",
    "s = list(s)"
   ]
  },
  {
   "cell_type": "code",
   "execution_count": 9,
   "id": "explicit-complement",
   "metadata": {},
   "outputs": [
    {
     "data": {
      "text/plain": [
       "['A', 'B', 'C', 'A', 'B', 'C']"
      ]
     },
     "execution_count": 9,
     "metadata": {},
     "output_type": "execute_result"
    }
   ],
   "source": [
    "s"
   ]
  },
  {
   "cell_type": "code",
   "execution_count": null,
   "id": "linear-addiction",
   "metadata": {},
   "outputs": [],
   "source": []
  },
  {
   "cell_type": "markdown",
   "id": "spanish-dance",
   "metadata": {},
   "source": [
    "    13. You are provided with a string consisting of only 'a' and 'b' as the characters.\n",
    "    You have to make it a perfect string. The perfectness of a string is defined as the\n",
    "    maximum length substring of the same characters. You are given a number ‘k’\n",
    "    which denotes the maximum number of characters you can change. Find the\n",
    "    maximum perfectness he can generate by changing not more than ‘k’ characters.\n",
    "    Input: 2 abba\n",
    "    Output: 4\n"
   ]
  },
  {
   "cell_type": "code",
   "execution_count": 3,
   "id": "prostate-consciousness",
   "metadata": {},
   "outputs": [],
   "source": [
    "def PerfectString(k: int, S: str):\n",
    "    pass\n",
    "    \n",
    "    \n",
    "    "
   ]
  },
  {
   "cell_type": "markdown",
   "id": "quantitative-gospel",
   "metadata": {},
   "source": [
    "    9. Take an array as input (can have both positive and negative integers), the task is\n",
    "    to compute the sum of minimum and maximum elements of all sub-array of size\n",
    "    ‘k’.\n",
    "    Input: 7 4\n",
    "    2 5 -1 7 -3 -1 -2\n",
    "    Output: 18\n",
    "    Hint: Subarrays of size 4 are :\n",
    "    {2, 5, -1, 7}, min + max = -1 + 7 = 6\n",
    "    {5, -1, 7, -3}, min + max = -3 + 7 = 4\n",
    "    {-1, 7, -3, -1}, min + max = -3 + 7 = 4\n",
    "    {7, -3, -1, -2}, min + max = -3 + 7 = 4\n",
    "    Sum of all min & max = 6 + 4 + 4 + 4 = 18"
   ]
  },
  {
   "cell_type": "code",
   "execution_count": 53,
   "id": "portable-arbitration",
   "metadata": {},
   "outputs": [],
   "source": [
    "def SubArrayMaxMin():\n",
    "    \n",
    "    N, subSIZE = input().split()\n",
    "    \n",
    "    Arr = [int(item) for item in input().split()]\n",
    "    index, Min_Max = 0, 0\n",
    "    \n",
    "    while index <= int(N) // 2:\n",
    "        Min_Max += min(Arr[index:index + int(subSIZE)])+ max(Arr[index:index + int(subSIZE)])\n",
    "        index += 1\n",
    "    \n",
    "    return Min_Max\n",
    "        "
   ]
  },
  {
   "cell_type": "code",
   "execution_count": 55,
   "id": "ignored-sunset",
   "metadata": {},
   "outputs": [
    {
     "name": "stdin",
     "output_type": "stream",
     "text": [
      " 7 4\n",
      " 2 5 -1 7 -3 -1 -2\n"
     ]
    },
    {
     "data": {
      "text/plain": [
       "18"
      ]
     },
     "execution_count": 55,
     "metadata": {},
     "output_type": "execute_result"
    }
   ],
   "source": [
    "SubArrayMaxMin()"
   ]
  },
  {
   "cell_type": "code",
   "execution_count": null,
   "id": "representative-officer",
   "metadata": {},
   "outputs": [],
   "source": []
  },
  {
   "cell_type": "code",
   "execution_count": null,
   "id": "close-greene",
   "metadata": {},
   "outputs": [],
   "source": []
  },
  {
   "cell_type": "code",
   "execution_count": null,
   "id": "eligible-upgrade",
   "metadata": {},
   "outputs": [],
   "source": []
  },
  {
   "cell_type": "code",
   "execution_count": null,
   "id": "modified-rescue",
   "metadata": {},
   "outputs": [],
   "source": []
  }
 ],
 "metadata": {
  "kernelspec": {
   "display_name": "Python 3",
   "language": "python",
   "name": "python3"
  },
  "language_info": {
   "codemirror_mode": {
    "name": "ipython",
    "version": 3
   },
   "file_extension": ".py",
   "mimetype": "text/x-python",
   "name": "python",
   "nbconvert_exporter": "python",
   "pygments_lexer": "ipython3",
   "version": "3.9.1"
  }
 },
 "nbformat": 4,
 "nbformat_minor": 5
}
