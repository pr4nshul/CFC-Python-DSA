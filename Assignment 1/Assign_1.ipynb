{
 "cells": [
  {
   "cell_type": "code",
   "execution_count": 1,
   "id": "white-northern",
   "metadata": {},
   "outputs": [
    {
     "name": "stdout",
     "output_type": "stream",
     "text": [
      "* \n",
      "* * \n",
      "* * * \n",
      "* * * * \n",
      "* * * * * \n"
     ]
    }
   ],
   "source": [
    "n = 5\n",
    "row = 0\n",
    "while row < n:\n",
    "    col = 0\n",
    "    while  col <= row  :\n",
    "        print(\"*\", end =\" \")\n",
    "        col += 1\n",
    "    print()\n",
    "    row += 1"
   ]
  },
  {
   "cell_type": "code",
   "execution_count": 2,
   "id": "honey-montreal",
   "metadata": {},
   "outputs": [
    {
     "name": "stdout",
     "output_type": "stream",
     "text": [
      "1 \n",
      "1 2 \n",
      "1 2 3 \n",
      "1 2 3 4 \n",
      "1 2 3 4 5 \n"
     ]
    }
   ],
   "source": [
    "n = 5\n",
    "row = 0\n",
    "while row < n:\n",
    "    col = 0\n",
    "    while  col <= row  :\n",
    "        print(col + 1, end =\" \")\n",
    "        col += 1\n",
    "    print()\n",
    "    row += 1"
   ]
  },
  {
   "cell_type": "code",
   "execution_count": 3,
   "id": "urban-september",
   "metadata": {},
   "outputs": [
    {
     "name": "stdout",
     "output_type": "stream",
     "text": [
      "? ? ? ? ? \n",
      "? ? ? ? \n",
      "? ? ? \n",
      "? ? \n",
      "? \n"
     ]
    }
   ],
   "source": [
    "n = 5\n",
    "\n",
    "row = 0\n",
    "while row < n:\n",
    "    col = 0\n",
    "    while  col < n - row  :\n",
    "        print(\"?\", end =\" \")\n",
    "        col += 1\n",
    "    print()\n",
    "    row += 1"
   ]
  },
  {
   "cell_type": "code",
   "execution_count": 4,
   "id": "complete-costs",
   "metadata": {},
   "outputs": [
    {
     "data": {
      "text/plain": [
       "[1, 2, 3, 4, 5]"
      ]
     },
     "execution_count": 4,
     "metadata": {},
     "output_type": "execute_result"
    }
   ],
   "source": [
    "a = [*range(1, 6)]\n",
    "a"
   ]
  },
  {
   "cell_type": "code",
   "execution_count": 7,
   "id": "biological-variable",
   "metadata": {},
   "outputs": [
    {
     "name": "stdout",
     "output_type": "stream",
     "text": [
      "        1 \n",
      "      1 2 \n",
      "    1 2 3 \n",
      "  1 2 3 4 \n",
      "1 2 3 4 5 \n"
     ]
    }
   ],
   "source": [
    "n = 5\n",
    "a = [*range(1, 6)]\n",
    "row = 0\n",
    "while row < n:\n",
    "    col = 0\n",
    "    x = 0\n",
    "    while  col < n :\n",
    "        if col < n - row -1 : \n",
    "            print(\" \", end =\" \")\n",
    "        else:\n",
    "            print(a[x] , end=\" \")\n",
    "            x += 1\n",
    "        col += 1\n",
    "    print()\n",
    "    row += 1"
   ]
  },
  {
   "cell_type": "code",
   "execution_count": 32,
   "id": "hearing-drawing",
   "metadata": {},
   "outputs": [
    {
     "name": "stdout",
     "output_type": "stream",
     "text": [
      "        1         \n",
      "      1 2 1       \n",
      "    1 2 3 2 1     \n",
      "  1 2 3 4 3 2 1   \n",
      "1 2 3 4 5 4 3 2 1 \n"
     ]
    }
   ],
   "source": [
    "n = 5\n",
    "row = 0\n",
    "while row < n:\n",
    "    col = 0\n",
    "    col_mirror = 0\n",
    "    x = 0\n",
    "    while  col_mirror < 2*n - 1 :\n",
    "        if col < n - row - 1: \n",
    "            print(\" \", end =\" \")\n",
    "        else:\n",
    "            print(x + 1, end=\" \")\n",
    "            if col_mirror < n - 1:\n",
    "                x += 1\n",
    "            else:\n",
    "                x -= 1\n",
    "           \n",
    "        if col_mirror < n - 1:\n",
    "            col += 1\n",
    "        else:\n",
    "            col -= 1\n",
    "        col_mirror += 1\n",
    "    print()\n",
    "    row += 1"
   ]
  },
  {
   "cell_type": "code",
   "execution_count": 30,
   "id": "consecutive-forest",
   "metadata": {},
   "outputs": [
    {
     "name": "stdout",
     "output_type": "stream",
     "text": [
      "        1         \n",
      "      1 2 1       \n",
      "    1 2 3 2 1     \n",
      "  1 2 3 4 3 2 1   \n",
      "1 2 3 4 5 4 3 2 1 \n"
     ]
    }
   ],
   "source": [
    "n = 5\n",
    "a = [*range(1, 6)]\n",
    "row = 0\n",
    "\n",
    "while row < n:\n",
    "    col = 0\n",
    "    col_mirror = 0\n",
    "    x = 0\n",
    "    while  col_mirror < 2*n - 1 :\n",
    "        if col < n - row - 1: \n",
    "            print(\" \", end =\" \")\n",
    "        else:\n",
    "            print(x +1, end=\" \")\n",
    "            if col_mirror < n - 1:\n",
    "                x += 1\n",
    "            else:\n",
    "                x -= 1\n",
    "           \n",
    "        if col_mirror < n - 1:\n",
    "            col += 1\n",
    "        else:\n",
    "            col -= 1\n",
    "        col_mirror += 1\n",
    "    print()\n",
    "    row += 1"
   ]
  },
  {
   "cell_type": "code",
   "execution_count": 36,
   "id": "healthy-innocent",
   "metadata": {},
   "outputs": [
    {
     "name": "stdout",
     "output_type": "stream",
     "text": [
      "        1         \n",
      "      1 2 1       \n",
      "    1 2 3 2 1     \n",
      "  1 2 3 4 3 2 1   \n",
      "1 2 3 4 5 4 3 2 1 \n"
     ]
    }
   ],
   "source": [
    "# using list\n",
    "n = 5\n",
    "a = [*range(1,6)]\n",
    "row = 0\n",
    "while row < n:\n",
    "    col = 0\n",
    "    col_mirror = 0\n",
    "    x = 0\n",
    "    while  col_mirror < 2*n - 1 :\n",
    "        if col < n - row - 1: \n",
    "            print(\" \", end =\" \")\n",
    "        else:\n",
    "            print(a[x], end=\" \")\n",
    "            if col_mirror < n - 1:\n",
    "                x += 1\n",
    "            else:\n",
    "                x -= 1\n",
    "           \n",
    "        if col_mirror < n - 1:\n",
    "            col += 1\n",
    "        else:\n",
    "            col -= 1\n",
    "        col_mirror += 1\n",
    "    print()\n",
    "    row += 1"
   ]
  },
  {
   "cell_type": "code",
   "execution_count": 37,
   "id": "rational-gamma",
   "metadata": {},
   "outputs": [
    {
     "name": "stdout",
     "output_type": "stream",
     "text": [
      "        1         \n",
      "      1 2 1       \n",
      "    1 2 3 2 1     \n",
      "  1 2 3 4 3 2 1   \n",
      "1 2 3 4 5 4 3 2 1 \n"
     ]
    }
   ],
   "source": [
    "n = 5\n",
    "row = 0\n",
    "while row < n:\n",
    "    col = 0\n",
    "    col_mirror = 0\n",
    "    x = 0\n",
    "    while  col_mirror < 2*n - 1 :\n",
    "        if col < n - row - 1: \n",
    "            print(\" \", end =\" \")\n",
    "        else:\n",
    "            print(x +1, end=\" \")\n",
    "            if col_mirror < n - 1:\n",
    "                x += 1\n",
    "            else:\n",
    "                x -= 1\n",
    "           \n",
    "        if col_mirror < n - 1:\n",
    "            col += 1\n",
    "        else:\n",
    "            col -= 1\n",
    "        col_mirror += 1\n",
    "    print()\n",
    "    row += 1"
   ]
  },
  {
   "cell_type": "code",
   "execution_count": 44,
   "id": "reflected-superior",
   "metadata": {},
   "outputs": [
    {
     "name": "stdout",
     "output_type": "stream",
     "text": [
      ". . . . . . . . . \n",
      ". . . .   . . . . \n",
      ". . .       . . . \n",
      ". .           . . \n",
      ".               . \n",
      ". .           . . \n",
      ". . .       . . . \n",
      ". . . .   . . . . \n",
      ". . . . . . . . . \n"
     ]
    }
   ],
   "source": [
    "n = 5\n",
    "row = 0 \n",
    "row_mirror = 0\n",
    "while row_mirror < 2*n -1 :\n",
    "    col = 0\n",
    "    col_mirror = 0\n",
    "    while col_mirror < 2*n - 1 :\n",
    "        if col < n - row :\n",
    "            print(\".\", end=\" \")\n",
    "        else:\n",
    "            print(\" \", end=\" \")\n",
    "        if col_mirror < n - 1:\n",
    "            col += 1\n",
    "        else:\n",
    "            col -= 1\n",
    "        col_mirror += 1\n",
    "    print()\n",
    "    if row_mirror < n - 1:\n",
    "        row += 1\n",
    "    else:\n",
    "        row -= 1\n",
    "    \n",
    "    row_mirror += 1"
   ]
  },
  {
   "cell_type": "code",
   "execution_count": 52,
   "id": "banner-force",
   "metadata": {},
   "outputs": [
    {
     "name": "stdout",
     "output_type": "stream",
     "text": [
      "        *         \n",
      "      * * *       \n",
      "    * * * * *     \n",
      "  * * * * * * *   \n",
      "* * * * * * * * * \n",
      "  * * * * * * *   \n",
      "    * * * * *     \n",
      "      * * *       \n",
      "        *         \n"
     ]
    }
   ],
   "source": [
    "n = 5 \n",
    "row = 0\n",
    "row_mirror = 0\n",
    "while row_mirror < 2*n - 1:\n",
    "    col = 0 \n",
    "    col_mirror = 0\n",
    "    while col_mirror < 2*n -1:\n",
    "        if col < n - row - 1:\n",
    "            print(\" \", end=\" \")\n",
    "        else:\n",
    "            print(\"*\", end=\" \")\n",
    "        if col_mirror < n -1:\n",
    "            col+= 1\n",
    "        else:\n",
    "            col -= 1\n",
    "        col_mirror += 1\n",
    "    print()\n",
    "    if row_mirror < n - 1:\n",
    "        row  += 1 \n",
    "    else:\n",
    "        row -= 1 \n",
    "    row_mirror += 1"
   ]
  },
  {
   "cell_type": "code",
   "execution_count": 65,
   "id": "union-draft",
   "metadata": {},
   "outputs": [
    {
     "name": "stdout",
     "output_type": "stream",
     "text": [
      "*               * \n",
      "* *           * * \n",
      "* * *       * * * \n",
      "* * * *   * * * * \n",
      "* * * * * * * * * \n",
      "* * * *   * * * * \n",
      "* * *       * * * \n",
      "* *           * * \n",
      "*               * \n"
     ]
    }
   ],
   "source": [
    "n = 5\n",
    "row = 0\n",
    "row_mirror = 0\n",
    "while row_mirror < 2*n - 1 :\n",
    "    col = 0 \n",
    "    col_mirror = 0\n",
    "    while col_mirror < 2*n - 1 :\n",
    "        if col <= row:\n",
    "            print(\"*\", end=\" \")\n",
    "        else:\n",
    "            print(\" \", end=\" \")\n",
    "        if col_mirror < n -1:\n",
    "            col += 1\n",
    "        else:\n",
    "            col -= 1\n",
    "        col_mirror += 1\n",
    "    print()\n",
    "    if row_mirror < n - 1:\n",
    "        row += 1\n",
    "    else:\n",
    "        row -= 1\n",
    "    row_mirror += 1 "
   ]
  },
  {
   "cell_type": "code",
   "execution_count": 180,
   "id": "stylish-consequence",
   "metadata": {},
   "outputs": [
    {
     "name": "stdout",
     "output_type": "stream",
     "text": [
      " 5   5   5   5   5   5   5   5   5  \n",
      " 5   4   4   4   4   4   4   4   5  \n",
      " 5   4   3   3   3   3   3   4   5  \n",
      " 5   4   3   2   2   2   3   4   5  \n",
      " 5   4   3   2   1   2   3   4   5  \n",
      " 5   4   3   2   2   2   3   4   5  \n",
      " 5   4   3   3   3   3   3   4   5  \n",
      " 5   4   4   4   4   4   4   4   5  \n",
      " 5   5   5   5   5   5   5   5   5  \n"
     ]
    }
   ],
   "source": [
    "#          0 1 2 3 4 3 2 1 0\n",
    "\n",
    "#0         5 5 5 5 5 5 5 5 5 \n",
    "#1         5 4 4 4 4 4 4 4 5 \n",
    "#2         5 4 3 3 3 3 3 4 5 \n",
    "#3         5 4 3 2 2 2 3 4 5\n",
    "#4         5 4 3 2 1 2 3 4 5 \n",
    "#3         5 4 3 2 2 2 3 4 5 \n",
    "#2         5 4 3 3 3 3 3 4 5 \n",
    "#1         5 4 4 4 4 4 4 4 5 \n",
    "#0         5 5 5 5 5 5 5 5 5\n",
    "n = 5 \n",
    "row = 0\n",
    "row_mirror = 0 \n",
    "while row_mirror < 2*n - 1:    \n",
    "    col = 0\n",
    "    col_mirror = 0\n",
    "    while col_mirror < 2*n -1:\n",
    "        if col == 0 or row == 0: \n",
    "            print(\" 5 \", end=\" \")\n",
    "        elif col == 1 or row == 1: \n",
    "            print(\" 4 \", end=\" \")\n",
    "        elif col == 2 or row == 2: \n",
    "            print(\" 3 \", end=\" \")\n",
    "        elif col == 3 or row == 3: \n",
    "            print(\" 2 \", end=\" \")\n",
    "        else:\n",
    "            print(\" 1 \", end=\" \")\n",
    "        if col_mirror < n - 1:\n",
    "            col += 1\n",
    "        else:\n",
    "            col -= 1\n",
    "        \n",
    "        col_mirror += 1\n",
    "        \n",
    "    print()\n",
    "    if row_mirror < n -1:\n",
    "        row += 1 \n",
    "    else:\n",
    "        row -= 1\n",
    "    row_mirror += 1\n",
    "\n",
    "\n",
    "\n",
    "\n"
   ]
  },
  {
   "cell_type": "code",
   "execution_count": 67,
   "id": "interesting-seattle",
   "metadata": {},
   "outputs": [],
   "source": [
    "#          0 1 2 3 4 3 2 1 0\n",
    "#0         5 5 5 5 5 \n",
    "#1         5 4 4 4 4 \n",
    "#2         5 4 3 3 3 \n",
    "#3         5 4 3 2 2 \n",
    "#4         5 4 3 2 1 \n",
    "#       "
   ]
  },
  {
   "cell_type": "code",
   "execution_count": 78,
   "id": "robust-mattress",
   "metadata": {},
   "outputs": [
    {
     "name": "stdout",
     "output_type": "stream",
     "text": [
      ". . . .   . . . . \n",
      ". . .   .   . . . \n",
      ". .   . . .   . . \n",
      ".   . . . . .   . \n",
      "  . . . . . . .   \n",
      ".   . . . . .   . \n",
      ". .   . . .   . . \n",
      ". . .   .   . . . \n",
      ". . . .   . . . . \n"
     ]
    }
   ],
   "source": [
    "n = 5 \n",
    "row = 0\n",
    "row_mirror = 0\n",
    "while row_mirror < 2*n - 1:\n",
    "    col = 0 \n",
    "    col_mirror = 0\n",
    "    while col_mirror < 2*n -1:\n",
    "        if col == (n - row - 1):\n",
    "            print(\" \", end=\" \")\n",
    "        else:\n",
    "            print(\".\", end=\" \")\n",
    "        if col_mirror < n -1:\n",
    "            col+= 1\n",
    "        else:\n",
    "            col -= 1\n",
    "        col_mirror += 1\n",
    "    print()\n",
    "    if row_mirror < n - 1:\n",
    "        row  += 1 \n",
    "    else:\n",
    "        row -= 1 \n",
    "    row_mirror += 1"
   ]
  },
  {
   "cell_type": "code",
   "execution_count": 89,
   "id": "lasting-nudist",
   "metadata": {},
   "outputs": [
    {
     "name": "stdout",
     "output_type": "stream",
     "text": [
      "        5         \n",
      "      5 4 5       \n",
      "    5 4 3 4 5     \n",
      "  5 4 3 2 3 4 5   \n",
      "5 4 3 2 1 2 3 4 5 \n",
      "  5 4 3 2 3 4 5   \n",
      "    5 4 3 4 5     \n",
      "      5 4 5       \n",
      "        5         \n"
     ]
    }
   ],
   "source": [
    "n = 5 \n",
    "row = 0\n",
    "row_mirror = 0\n",
    "while row_mirror < 2*n - 1:\n",
    "    col = 0 \n",
    "    col_mirror = 0\n",
    "    \n",
    "    while col_mirror < 2*n -1:\n",
    "        if col < n - row -1:\n",
    "            print(\" \", end=\" \")\n",
    "        else:\n",
    "            \n",
    "            if col == n - row -1:\n",
    "                print(\"5\", end=\" \")\n",
    "            elif col == n - row:\n",
    "                print(\"4\", end=\" \")\n",
    "            elif col == n - row +1:\n",
    "                print(\"3\", end=\" \")\n",
    "            elif col == n - row + 2:\n",
    "                print(\"2\", end=\" \")\n",
    "            else:\n",
    "                print(\"1\", end=\" \")\n",
    "                \n",
    "        if col_mirror < n -1:\n",
    "            col+= 1\n",
    "        else:\n",
    "            col -= 1\n",
    "        col_mirror += 1\n",
    "        \n",
    "    print()\n",
    "    if row_mirror < n - 1:\n",
    "        row  += 1 \n",
    "    else:\n",
    "        row -= 1 \n",
    "    row_mirror += 1"
   ]
  },
  {
   "cell_type": "code",
   "execution_count": 100,
   "id": "guilty-married",
   "metadata": {},
   "outputs": [],
   "source": [
    "# n = 5\n",
    "# row = 0\n",
    "# while row < n:\n",
    "#     col = 0 \n",
    "#     while col < n:\n",
    "#         if col ==  n - row - 1 :\n",
    "#             print(\".\", end=\" \")\n",
    "#         elif col ==  n - row :\n",
    "#             print(\"#\", end=\" \")\n",
    "#         elif col ==  n - row + 1 :\n",
    "#             print(\"%\", end=\" \")\n",
    "#         else:\n",
    "#             print(\"@\", end=\" \")\n",
    "#         col += 1\n",
    "#     print()\n",
    "#     row += 1"
   ]
  },
  {
   "cell_type": "code",
   "execution_count": 128,
   "id": "different-geology",
   "metadata": {},
   "outputs": [
    {
     "name": "stdout",
     "output_type": "stream",
     "text": [
      "5379\n",
      "4897\n"
     ]
    }
   ],
   "source": [
    "# Write a program to reverse a number (9735 -> 5379)\n",
    "number = 9735\n",
    "rev_number = 0\n",
    "while(number > 0):\n",
    "    rev_number = rev_number*10 + number%10\n",
    "    number //= 10\n",
    "print(rev_number)\n",
    "\n",
    "# similarly\n",
    "num = 7984\n",
    "rev = reversed(str(num))\n",
    "# but while accessing rev the number are separated by spaces?\n",
    "print(*rev, sep=\"\")"
   ]
  },
  {
   "cell_type": "code",
   "execution_count": 112,
   "id": "frozen-philosophy",
   "metadata": {},
   "outputs": [
    {
     "name": "stdout",
     "output_type": "stream",
     "text": [
      "4\n",
      "3\n"
     ]
    }
   ],
   "source": [
    "# Write a program to count the number of digits in a number.\n",
    "number = 9735\n",
    "count = 0\n",
    "while(number > 0):\n",
    "    number //= 10\n",
    "    count += 1\n",
    "print(count)\n",
    "\n",
    "# similarly\n",
    "num = 456\n",
    "print(len(str(num)))\n"
   ]
  },
  {
   "cell_type": "code",
   "execution_count": 140,
   "id": "nuclear-cosmetic",
   "metadata": {},
   "outputs": [
    {
     "name": "stdout",
     "output_type": "stream",
     "text": [
      "2 4 6 8 10 12 14 16 18 20 22 24 26 28 30 32 34 36 38 40 42 44 46 48 \n",
      "2 6 10 14 18 22 26 30 34 38 42 46 \n",
      "6 14 22 30 38 46 \n",
      "14 26 38 "
     ]
    }
   ],
   "source": [
    "# 4. Write a program to print even numbers after odd times jump.\n",
    "#         E.g: 2, 6, 14, 26, …\n",
    "#         2 (then jump 1 even number 4) -> 6\n",
    "#         6 (then jump 3 even numbers 8, 10, 12) -> 14\n",
    "#         14 (then jump 5 even numbers 16,18,20,22,24) -> 26\n",
    "for i in range(2, 50, 2):\n",
    "    print(i, end=\" \")\n",
    "print()\n",
    "for i in range(2, 50, 4):\n",
    "    print(i, end=\" \")\n",
    "print()\n",
    "for i in range(6, 50, 8):\n",
    "    print(i, end=\" \")\n",
    "print()\n",
    "for i in range(14, 50, 12):\n",
    "    print(i, end=\" \")"
   ]
  },
  {
   "cell_type": "code",
   "execution_count": 3,
   "id": "experimental-extent",
   "metadata": {},
   "outputs": [],
   "source": [
    "# 3. Write the pseudocode & the program to calculate GCD of two numbers\n",
    "def gcd(num_1: int, num_2: int):\n",
    "    if(num_2 < num_1):\n",
    "        if (num_1 % num_2 != 0):\n",
    "            return gcd(num_2, num_1 % num_2)\n",
    "        else:\n",
    "            return num_2\n",
    "    else:\n",
    "        num_1, num_2 = num_2, num_1\n",
    "        if (num_1 % num_2 != 0):\n",
    "            return gcd(num_2, num_1 % num_2)\n",
    "        else:\n",
    "            return num_2\n",
    "gcd(5, 2)\n",
    "\n",
    "# or \n",
    "def gcd(a, b):\n",
    "    while n:\n",
    "        a , b = b , a % b\n",
    "    return a"
   ]
  },
  {
   "cell_type": "code",
   "execution_count": 158,
   "id": "endless-representative",
   "metadata": {},
   "outputs": [
    {
     "name": "stdin",
     "output_type": "stream",
     "text": [
      "Time Duration: 4\n",
      "principle: 200\n",
      "Rate of interest: 5\n"
     ]
    },
    {
     "name": "stdout",
     "output_type": "stream",
     "text": [
      "Simple Interest: 40.0\n"
     ]
    }
   ],
   "source": [
    "# 2. Write the pseudocode & a program to calculate the simple interest\n",
    "# based on the inputs(amount, rate, time) provided by the user.\n",
    "\n",
    "time = int(input(\"Time Duration:\"))\n",
    "pr = int(input(\"principle:\"))\n",
    "interest_rate = int(input(\"Rate of interest:\"))\n",
    "sim_int = (pr*time*interest_rate)/100\n",
    "print(f'Simple Interest: {sim_int}')"
   ]
  },
  {
   "cell_type": "code",
   "execution_count": 159,
   "id": "informal-armenia",
   "metadata": {},
   "outputs": [
    {
     "data": {
      "text/plain": [
       "\u001b[1;31mSignature:\u001b[0m \u001b[0minput\u001b[0m\u001b[1;33m(\u001b[0m\u001b[0mprompt\u001b[0m\u001b[1;33m=\u001b[0m\u001b[1;34m''\u001b[0m\u001b[1;33m)\u001b[0m\u001b[1;33m\u001b[0m\u001b[1;33m\u001b[0m\u001b[0m\n",
       "\u001b[1;31mDocstring:\u001b[0m\n",
       "Forward raw_input to frontends\n",
       "\n",
       "Raises\n",
       "------\n",
       "StdinNotImplentedError if active frontend doesn't support stdin.\n",
       "\u001b[1;31mFile:\u001b[0m      c:\\python39\\lib\\site-packages\\ipykernel\\kernelbase.py\n",
       "\u001b[1;31mType:\u001b[0m      method\n"
      ]
     },
     "metadata": {},
     "output_type": "display_data"
    }
   ],
   "source": [
    "input?"
   ]
  },
  {
   "cell_type": "code",
   "execution_count": 181,
   "id": "modular-generic",
   "metadata": {},
   "outputs": [],
   "source": [
    "# Pascal's Triangle\n",
    "#          0  1  2  3  4  5\n",
    "# 0        1\n",
    "# 1        1  1\n",
    "# 2        1  2  1\n",
    "# 3        1  3  3  1\n",
    "# 4        1  4  6  4  1\n",
    "# 5        1  5  10 10 5 1\n",
    "\n"
   ]
  },
  {
   "cell_type": "code",
   "execution_count": 190,
   "id": "arbitrary-ability",
   "metadata": {},
   "outputs": [
    {
     "name": "stdout",
     "output_type": "stream",
     "text": [
      "        1         \n",
      "      2 3 2       \n",
      "    3 4 5 4 3     \n",
      "  4 5 6 7 6 5 4   \n",
      "5 6 7 8 9 8 7 6 5 \n"
     ]
    }
   ],
   "source": [
    "#             1 \n",
    "#           2 3 2\n",
    "#         3 4 5 4 3 \n",
    "#       4 5 6 7 6 5 4\n",
    "#     5 6 7 8 9 8 7 6 5\n",
    "\n",
    "n = 5\n",
    "\n",
    "row = 0\n",
    "while row < n:\n",
    "    col = 0\n",
    "    col_mirror = 0\n",
    "    x = 0\n",
    "    while  col_mirror < 2*n - 1 :\n",
    "        if col < n - row - 1: \n",
    "            print(\" \", end =\" \")\n",
    "        else:\n",
    "            print(row + x + 1 , end=\" \")\n",
    "            if col_mirror < n - 1:\n",
    "                x += 1\n",
    "            else:\n",
    "                x -= 1\n",
    "           \n",
    "        if col_mirror < n - 1:\n",
    "            col += 1\n",
    "        else:\n",
    "            col -= 1\n",
    "        col_mirror += 1\n",
    "    print()\n",
    "    row += 1"
   ]
  },
  {
   "cell_type": "code",
   "execution_count": 191,
   "id": "induced-experience",
   "metadata": {},
   "outputs": [
    {
     "name": "stdin",
     "output_type": "stream",
     "text": [
      "Enter Credits:  5000\n"
     ]
    },
    {
     "name": "stdout",
     "output_type": "stream",
     "text": [
      "Mega leader\n"
     ]
    }
   ],
   "source": [
    "# 1. Write the pseudocode & a program to input credits of a Code for Cause\n",
    "# Campus leader and then output the badge of the lead on the basis of\n",
    "# the following criteria:\n",
    "# a. 7500 <= credits : Tera leader\n",
    "# b. 6000 <= credits < 7500 : Gega leader\n",
    "# c. 4500 <= credits < 6000 : Mega leader\n",
    "# d. Credits < 4500 : Rising Star\n",
    "\n",
    "credits = int(input(\"Enter Credits: \"))\n",
    "if credits >= 7500:\n",
    "    print(\"Tera leader\")\n",
    "elif 6000 <= credits < 7500:\n",
    "    print(\"Gega leader\")\n",
    "elif 4500 <= credits < 6000 :\n",
    "    print(\"Mega leader\")\n",
    "else:\n",
    "    print(\"Rising Star\")"
   ]
  },
  {
   "cell_type": "code",
   "execution_count": 12,
   "id": "considered-relative",
   "metadata": {},
   "outputs": [
    {
     "name": "stdout",
     "output_type": "stream",
     "text": [
      "* * * * * * * * * \n",
      "*     *   *     * \n",
      "*   *       *   * \n",
      "* *           * * \n",
      "*               * \n",
      "* *           * * \n",
      "*   *       *   * \n",
      "*     *   *     * \n",
      "* * * * * * * * * \n"
     ]
    }
   ],
   "source": [
    "n = 5\n",
    "row = 0 \n",
    "row_mirror = 0 \n",
    "while row_mirror < 2*n - 1:\n",
    "    col_mirror = 0\n",
    "    col = 0\n",
    "    while col_mirror < 2*n - 1:\n",
    "        if col == 0 or row == 0:\n",
    "            print(\"*\", end=\" \")\n",
    "        elif col == n - row -1: \n",
    "            print(\"*\", end=\" \")\n",
    "        else:\n",
    "            print(\" \", end=\" \")\n",
    "        if col_mirror < n - 1:\n",
    "            col += 1\n",
    "        else:\n",
    "            col -= 1\n",
    "        col_mirror += 1\n",
    "    print()\n",
    "    if row_mirror < n - 1:\n",
    "        row += 1\n",
    "    else:\n",
    "        row -= 1\n",
    "    row_mirror += 1"
   ]
  },
  {
   "cell_type": "code",
   "execution_count": 56,
   "id": "above-battery",
   "metadata": {},
   "outputs": [
    {
     "name": "stdout",
     "output_type": "stream",
     "text": [
      "A         \n",
      "A B       \n",
      "A B B     \n",
      "A B B B   \n",
      "A B B B B \n"
     ]
    }
   ],
   "source": [
    "n = 5\n",
    "row = 1\n",
    "while row <= n:\n",
    "    col = 1 \n",
    "    x = 1\n",
    "    while col <= n:\n",
    "        if col <= row :\n",
    "            if col == 2*x - 1:\n",
    "                print(\"A\", end=\" \")\n",
    "            else:\n",
    "                print(\"B\", end=\" \")\n",
    "        else:\n",
    "            print(\" \" , end=\" \")\n",
    "        col += 1\n",
    "    x += 1  \n",
    "    print()\n",
    "    row += 1\n"
   ]
  },
  {
   "cell_type": "code",
   "execution_count": 53,
   "id": "corrected-italian",
   "metadata": {},
   "outputs": [],
   "source": [
    "#          0 1 2 3 4      \n",
    "#  0       A         \n",
    "#  1       A A       \n",
    "#  2       A A A     \n",
    "#  3       A A A A   \n",
    "#  4       A A A A A "
   ]
  },
  {
   "cell_type": "code",
   "execution_count": null,
   "id": "amended-compatibility",
   "metadata": {},
   "outputs": [],
   "source": []
  }
 ],
 "metadata": {
  "kernelspec": {
   "display_name": "Python 3",
   "language": "python",
   "name": "python3"
  },
  "language_info": {
   "codemirror_mode": {
    "name": "ipython",
    "version": 3
   },
   "file_extension": ".py",
   "mimetype": "text/x-python",
   "name": "python",
   "nbconvert_exporter": "python",
   "pygments_lexer": "ipython3",
   "version": "3.9.1"
  }
 },
 "nbformat": 4,
 "nbformat_minor": 5
}
