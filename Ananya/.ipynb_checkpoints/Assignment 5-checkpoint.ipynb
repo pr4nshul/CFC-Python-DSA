{
 "cells": [
  {
   "cell_type": "markdown",
   "metadata": {},
   "source": [
    "1. Take as input str, a string. Write a recursive function which moves all ‘x’ from the\n",
    "string to its end. Print the value returned\n",
    "E.g. for “abexexdexed” return “abeedeedxxx”."
   ]
  },
  {
   "cell_type": "code",
   "execution_count": 41,
   "metadata": {},
   "outputs": [],
   "source": [
    "def remove_x(string, taken=[], discarded=[]):\n",
    "    if string == \"\":\n",
    "        return \"\".join(taken)+\"\".join(discarded)\n",
    "    char = string[0]\n",
    "    \n",
    "    if(char == 'x'):\n",
    "        discarded.append(char)\n",
    "    else:\n",
    "        taken.append(char)\n",
    "    string = remove_x(string[1:], taken, discarded)\n",
    "    \n",
    "    return string"
   ]
  },
  {
   "cell_type": "code",
   "execution_count": 42,
   "metadata": {},
   "outputs": [
    {
     "data": {
      "text/plain": [
       "'abeedeedxxx'"
      ]
     },
     "execution_count": 42,
     "metadata": {},
     "output_type": "execute_result"
    }
   ],
   "source": [
    "remove_x(\"abexexdexed\")"
   ]
  },
  {
   "cell_type": "markdown",
   "metadata": {},
   "source": [
    "2. Take as input row and column of a rectangular board. The rat starts its journey\n",
    "from the top left corner and must reach the bottom-right corner to get the cheese.\n",
    "In one move the rat can move 1 step horizontally (right) or 1 step vertically\n",
    "(down).\n",
    "a. Write a recursive function which returns an ArrayList of moves for all valid\n",
    "paths across the board. Print the value returned.\n",
    "E.g. for a board of size 3,3; a few valid paths will be “HHVV”, “VVHH”,\n",
    "“VHHV” etc"
   ]
  },
  {
   "cell_type": "code",
   "execution_count": 3,
   "metadata": {},
   "outputs": [
    {
     "name": "stdin",
     "output_type": "stream",
     "text": [
      " 3 3\n"
     ]
    },
    {
     "name": "stdout",
     "output_type": "stream",
     "text": [
      "['VVHH', 'VHVH', 'VHHV', 'HVVH', 'HVHV', 'HHVV']\n"
     ]
    }
   ],
   "source": [
    "def mouse_path(pos_r=0, pos_c=0, path=\"\", result=[]):\n",
    "    if(pos_r == row-1 and pos_c == col-1):\n",
    "        result.append(path)\n",
    "        return result\n",
    "    \n",
    "    if(pos_r < row-1):\n",
    "        result = mouse_path(pos_r+1, pos_c, path+\"V\", result)\n",
    "    if(pos_c < col-1):\n",
    "        result = mouse_path(pos_r, pos_c+1, path+\"H\", result)\n",
    "    \n",
    "    return result\n",
    "\n",
    "if __name__ == \"__main__\":\n",
    "    row, col = list(map(int,input().split(\" \")))\n",
    "    print(mouse_path())"
   ]
  },
  {
   "cell_type": "markdown",
   "metadata": {},
   "source": [
    "3. Take as input row and column of a rectangular board. The rat starts its journey\n",
    "from the top left corner and must reach the bottom-right corner to get the cheese.\n",
    "In one move the rat can move 1 step horizontally (right) or 1 step vertically\n",
    "(down) or 1 step diagonally (south-east).\n",
    "a. Write a recursive function which returns an ArrayList of moves for all valid\n",
    "paths across the board. Print the value returned. e.g. for a board of size\n",
    "3,3; a few valid paths will be “HHVV”, “VVHH”, “VHHV”, “DD”, “VDH”,\n",
    "“HVD” etc.\n"
   ]
  },
  {
   "cell_type": "code",
   "execution_count": 4,
   "metadata": {},
   "outputs": [
    {
     "name": "stdin",
     "output_type": "stream",
     "text": [
      " 3 3\n"
     ]
    },
    {
     "name": "stdout",
     "output_type": "stream",
     "text": [
      "['VVHH', 'VHVH', 'VHHV', 'VHD', 'VDH', 'HVVH', 'HVHV', 'HVD', 'HHVV', 'HDV', 'DVH', 'DHV', 'DD']\n"
     ]
    }
   ],
   "source": [
    "def mouse_path(pos_r=0, pos_c=0, path=\"\", result=[]):\n",
    "    if(pos_r == row-1 and pos_c == col-1):\n",
    "        result.append(path)\n",
    "        return result\n",
    "    \n",
    "    if(pos_r < row-1):\n",
    "        result = mouse_path(pos_r+1, pos_c, path+\"V\", result)\n",
    "    if(pos_c < col-1):\n",
    "        result = mouse_path(pos_r, pos_c+1, path+\"H\", result)\n",
    "    if(pos_r < row-1 and pos_c < col-1):\n",
    "        result = mouse_path(pos_r+1, pos_c+1, path+\"D\", result)\n",
    "    \n",
    "    return result\n",
    "\n",
    "if __name__ == \"__main__\":\n",
    "    row, col = list(map(int,input().split(\" \")))\n",
    "    print(mouse_path())"
   ]
  },
  {
   "cell_type": "markdown",
   "metadata": {},
   "source": [
    "4. You are given an N*M grid. Each cell (i,j) in the grid is either blocked, or empty.\n",
    "The rat can move from position (i,j), down or right on the grid. Initially rat is on the\n",
    "position (1,1). It wants to reach position (N,M). Find the rightmost path through\n",
    "which, rat can reach this position. A path is rightmost, if the rat is at position (i,j),\n",
    "it will always move to (i,j+1), if there exists a path from (i,j+1) to (N,M).\n",
    "Eg: 5 4 Output: 1 0 0 0\n",
    "OXOO 1 1 0 0\n",
    "OOOX 0 1 0 0\n",
    "OOXO 0 1 1 1\n",
    "XOOO 0 0 0 1\n",
    "XXOO"
   ]
  },
  {
   "cell_type": "code",
   "execution_count": null,
   "metadata": {},
   "outputs": [],
   "source": []
  },
  {
   "cell_type": "markdown",
   "metadata": {},
   "source": [
    "5. Take as input str, a string. Assume that value of a=1, b=2, c=3, d=4, .... z=26.\n",
    "Write a recursive function (return type void) to print all possible codes for the\n",
    "string. E.g: “1123” -> possible codes are aabc, kbc, alc, aaw, kw."
   ]
  },
  {
   "cell_type": "code",
   "execution_count": 22,
   "metadata": {},
   "outputs": [],
   "source": [
    "def possible_codes(string, arr=[]):\n",
    "    if(len(string) == 0):\n",
    "        result = \"\"\n",
    "        for x in arr:\n",
    "            result += chr(96+int(x))\n",
    "        print(result)\n",
    "        \n",
    "    if(len(string) >= 1):\n",
    "        ch = string[0]\n",
    "        arr.append(ch)\n",
    "        possible_codes(string[1:], arr)\n",
    "        arr.pop()\n",
    "        \n",
    "    if(len(string) >= 2):\n",
    "        ch = string[0:2]\n",
    "        if(int(ch) <= 26):\n",
    "            arr.append(ch)\n",
    "            possible_codes(string[2:], arr)\n",
    "            arr.pop()\n",
    "        \n",
    "    return"
   ]
  },
  {
   "cell_type": "code",
   "execution_count": 23,
   "metadata": {},
   "outputs": [
    {
     "name": "stdout",
     "output_type": "stream",
     "text": [
      "aabc\n",
      "aaw\n",
      "alc\n",
      "kbc\n",
      "kw\n"
     ]
    }
   ],
   "source": [
    "possible_codes(\"1123\")"
   ]
  },
  {
   "cell_type": "markdown",
   "metadata": {},
   "source": [
    "6. Take as input str, a string. str represents keys pressed on a nokia phone keypad.\n",
    "We are concerned with all possible words that can be written with the pressed\n",
    "keys.\n",
    "E.g: “12” can produce following words “ad”, “ae”, “af”, “bd”, “be”, “bf”, “cd”, “ce”,\n",
    "“cf”\n",
    "\n",
    "a. Write a recursive function which returns the count of words for a given\n",
    "keypad string. Print the value returned.\n",
    "\n",
    "b. Write a recursive function which returns an ArrayList of words for a given\n",
    "keypad string. Print the value returned.\n",
    "\n",
    "c. Write a recursive function which prints all possible words for a given\n",
    "keypad string (void is the return type for function).\n"
   ]
  },
  {
   "cell_type": "code",
   "execution_count": null,
   "metadata": {},
   "outputs": [],
   "source": []
  },
  {
   "cell_type": "code",
   "execution_count": null,
   "metadata": {},
   "outputs": [],
   "source": []
  },
  {
   "cell_type": "code",
   "execution_count": null,
   "metadata": {},
   "outputs": [],
   "source": []
  },
  {
   "cell_type": "code",
   "execution_count": null,
   "metadata": {},
   "outputs": [],
   "source": []
  },
  {
   "cell_type": "markdown",
   "metadata": {},
   "source": [
    "7. Take as input str, a string. We are concerned with all possible permutations of\n",
    "characters in str.\n",
    "E.g. “abc” can produce following words “abc”, “acb”, “bac”, “bca”, “cab”, “cba”\n",
    "\n",
    "a. Write a recursive function which returns the count of different permutations for a given string. Print the value returned.\n",
    "\n",
    "b. Write a recursive function which returns an ArrayList of permutations for a given string. Print the value returned.\n",
    "\n",
    "c. Write a recursive function which prints all possible permutations for a given string (void is the return type for function).\n"
   ]
  },
  {
   "cell_type": "code",
   "execution_count": 30,
   "metadata": {},
   "outputs": [],
   "source": [
    "def permutation_print(string, taken=\"\"):\n",
    "    if(not string):\n",
    "        print(taken)\n",
    "        return\n",
    "    \n",
    "    for i,x in enumerate(string):\n",
    "        permutation_print(string[0:i]+string[i+1:], taken+x)\n",
    "        \n",
    "    return"
   ]
  },
  {
   "cell_type": "code",
   "execution_count": 31,
   "metadata": {},
   "outputs": [
    {
     "name": "stdout",
     "output_type": "stream",
     "text": [
      "abc\n",
      "acb\n",
      "bac\n",
      "bca\n",
      "cab\n",
      "cba\n"
     ]
    }
   ],
   "source": [
    "permutation_print(\"abc\")"
   ]
  },
  {
   "cell_type": "code",
   "execution_count": 34,
   "metadata": {},
   "outputs": [],
   "source": [
    "def permutation_list(string, taken=\"\", arr=[]):\n",
    "    if(not string):\n",
    "        arr.append(taken)\n",
    "    \n",
    "    for i,x in enumerate(string):\n",
    "        permutation_list(string[0:i]+string[i+1:], taken+x)\n",
    "        \n",
    "    return arr"
   ]
  },
  {
   "cell_type": "code",
   "execution_count": 35,
   "metadata": {},
   "outputs": [
    {
     "data": {
      "text/plain": [
       "['abc', 'acb', 'bac', 'bca', 'cab', 'cba']"
      ]
     },
     "execution_count": 35,
     "metadata": {},
     "output_type": "execute_result"
    }
   ],
   "source": [
    "permutation_list(\"abc\")"
   ]
  },
  {
   "cell_type": "code",
   "execution_count": 37,
   "metadata": {},
   "outputs": [],
   "source": [
    "def permutation_count(string, count=0):\n",
    "    if(not string):\n",
    "        count += 1\n",
    "    \n",
    "    for i,x in enumerate(string):\n",
    "        count += permutation_count(string[0:i]+string[i+1:])\n",
    "        \n",
    "    return count"
   ]
  },
  {
   "cell_type": "code",
   "execution_count": 39,
   "metadata": {},
   "outputs": [
    {
     "data": {
      "text/plain": [
       "24"
      ]
     },
     "execution_count": 39,
     "metadata": {},
     "output_type": "execute_result"
    }
   ],
   "source": [
    "permutation_count(\"abcd\")"
   ]
  },
  {
   "cell_type": "markdown",
   "metadata": {},
   "source": [
    "8. Take an array as input and write recursive functions for the following:\n",
    "\n",
    "a. Count the number of ways in which you can divide the array in two parts\n",
    "such that the sum of elements of both the parts will be equal. Each\n",
    "number in the array must belong to one of the two parts.\n",
    "\n",
    "b. Print the two parts in the form of arraylist. All possible answers should be\n",
    "printed. Eg: for {-1,3,7,4,2,1} answers will be\n",
    "\n",
    "[-1, 3, 4, 2] : [7, 1]\n",
    "\n",
    "[-1, 7, 2] : [3, 4, 1]\n",
    "\n",
    "[3, 4, 1] : [-1, 7, 2]\n",
    "\n",
    "[7, 1] : [-1, 3, 4, 2]\n"
   ]
  },
  {
   "cell_type": "code",
   "execution_count": 11,
   "metadata": {},
   "outputs": [],
   "source": [
    "def equal_divide(arr, cap, selected=[], rejected=[]):\n",
    "    if(len(arr) == 0):\n",
    "        if(cap == 0):\n",
    "            print(selected, ':', rejected)\n",
    "        return\n",
    "    num = arr[0]\n",
    "    selected.append(num)\n",
    "    equal_divide(arr[1:], cap-num, selected, rejected)\n",
    "    selected.pop()\n",
    "    \n",
    "    rejected.append(num)\n",
    "    equal_divide(arr[1:], cap, selected, rejected)\n",
    "    rejected.pop()\n",
    "    \n",
    "    return "
   ]
  },
  {
   "cell_type": "code",
   "execution_count": 12,
   "metadata": {},
   "outputs": [
    {
     "name": "stdout",
     "output_type": "stream",
     "text": [
      "[-1, 3, 4, 2] : [7, 1]\n",
      "[-1, 7, 2] : [3, 4, 1]\n",
      "[3, 4, 1] : [-1, 7, 2]\n",
      "[7, 1] : [-1, 3, 4, 2]\n"
     ]
    }
   ],
   "source": [
    "equal_divide([-1,3,7,4,2,1], sum([-1,3,7,4,2,1])//2)"
   ]
  },
  {
   "cell_type": "code",
   "execution_count": 16,
   "metadata": {},
   "outputs": [],
   "source": [
    "def equal_divide_count(arr, cap, selected=[], rejected=[], count=0):\n",
    "    if(len(arr) == 0):\n",
    "        if(cap == 0):\n",
    "            return 1\n",
    "        return 0\n",
    "    num = arr[0]\n",
    "    selected.append(num)\n",
    "    count += equal_divide_count(arr[1:], cap-num, selected, rejected)\n",
    "    selected.pop()\n",
    "    \n",
    "    rejected.append(num)\n",
    "    count += equal_divide_count(arr[1:], cap, selected, rejected)\n",
    "    rejected.pop()\n",
    "    \n",
    "    return count"
   ]
  },
  {
   "cell_type": "code",
   "execution_count": 17,
   "metadata": {},
   "outputs": [
    {
     "data": {
      "text/plain": [
       "4"
      ]
     },
     "execution_count": 17,
     "metadata": {},
     "output_type": "execute_result"
    }
   ],
   "source": [
    "equal_divide_count([-1,3,7,4,2,1], sum([-1,3,7,4,2,1])//2)"
   ]
  },
  {
   "cell_type": "markdown",
   "metadata": {},
   "source": [
    "9. Take an array as input & a target value. Then, write a recursive function which\n",
    "returns the subsets of the array which sum to target. Return type of the function\n",
    "should be ArrayList<ArrayList<Integer>>. Print the value returned.\n"
   ]
  },
  {
   "cell_type": "code",
   "execution_count": 70,
   "metadata": {},
   "outputs": [],
   "source": [
    "def target_subset(arr, target, selected=[], result=[], string=\"\"):\n",
    "    print(arr, target, selected, result, string)\n",
    "    if(len(arr) == 0):\n",
    "        if(target == 0):\n",
    "            result.append(selected)\n",
    "            \n",
    "        print(result)\n",
    "        return result\n",
    "    \n",
    "    if(arr[0]<=target):\n",
    "        selected.append(arr[0])\n",
    "        result = target_subset(arr[1:], target-arr[0], selected, result, string+\"L\")\n",
    "        selected.pop()\n",
    "    \n",
    "    result = target_subset(arr[1:], target, selected, result, string+\"R\")\n",
    "    \n",
    "    return result"
   ]
  },
  {
   "cell_type": "code",
   "execution_count": 71,
   "metadata": {},
   "outputs": [
    {
     "name": "stdout",
     "output_type": "stream",
     "text": [
      "[5, 9, 4] 9 [] [] \n",
      "[9, 4] 4 [5] [] L\n",
      "[4] 4 [5] [] LR\n",
      "[] 0 [5, 4] [] LRL\n",
      "[[5, 4]]\n",
      "[] 4 [5] [[5]] LRR\n",
      "[[5]]\n",
      "[9, 4] 9 [] [[]] R\n",
      "[4] 0 [9] [[9]] RL\n",
      "[] 0 [9] [[9]] RLR\n",
      "[[9], [9]]\n",
      "[4] 9 [] [[], []] RR\n",
      "[] 5 [4] [[4], [4]] RRL\n",
      "[[4], [4]]\n",
      "[] 9 [] [[], []] RRR\n",
      "[[], []]\n"
     ]
    },
    {
     "data": {
      "text/plain": [
       "[[], []]"
      ]
     },
     "execution_count": 71,
     "metadata": {},
     "output_type": "execute_result"
    }
   ],
   "source": [
    "target_subset([5,9,4], 9)"
   ]
  },
  {
   "cell_type": "code",
   "execution_count": null,
   "metadata": {},
   "outputs": [],
   "source": []
  }
 ],
 "metadata": {
  "kernelspec": {
   "display_name": "Python 3",
   "language": "python",
   "name": "python3"
  },
  "language_info": {
   "codemirror_mode": {
    "name": "ipython",
    "version": 3
   },
   "file_extension": ".py",
   "mimetype": "text/x-python",
   "name": "python",
   "nbconvert_exporter": "python",
   "pygments_lexer": "ipython3",
   "version": "3.8.3"
  }
 },
 "nbformat": 4,
 "nbformat_minor": 4
}
