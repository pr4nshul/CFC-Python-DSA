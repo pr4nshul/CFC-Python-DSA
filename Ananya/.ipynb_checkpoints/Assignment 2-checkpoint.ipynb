{
 "cells": [
  {
   "cell_type": "code",
   "execution_count": 8,
   "metadata": {},
   "outputs": [],
   "source": [
    "# 1 decimal to octal\n",
    "def d2oct(num):\n",
    "    result = []\n",
    "    while(num):\n",
    "        result.append(str(num%8))\n",
    "        num = num//8\n",
    "    result.reverse()\n",
    "    result = int(\"\".join(result))\n",
    "    return result"
   ]
  },
  {
   "cell_type": "code",
   "execution_count": 10,
   "metadata": {},
   "outputs": [
    {
     "data": {
      "text/plain": [
       "142"
      ]
     },
     "execution_count": 10,
     "metadata": {},
     "output_type": "execute_result"
    }
   ],
   "source": [
    "d2oct(98)"
   ]
  },
  {
   "cell_type": "code",
   "execution_count": 12,
   "metadata": {},
   "outputs": [],
   "source": [
    "# 2\n",
    "def operation(num1,num2,ch):\n",
    "    if(ch == \"*\"):\n",
    "        return num1*num2\n",
    "    if(ch == \"/\"):\n",
    "        return num1/num2\n",
    "    if(ch == \"%\"):\n",
    "        return num1%num2\n",
    "    if(ch == \"+\"):\n",
    "        return num1+num2\n",
    "    if(ch == \"-\"):\n",
    "        return num1-num2"
   ]
  },
  {
   "cell_type": "code",
   "execution_count": 15,
   "metadata": {},
   "outputs": [
    {
     "name": "stdin",
     "output_type": "stream",
     "text": [
      "Enter an operation: +\n"
     ]
    },
    {
     "data": {
      "text/plain": [
       "6"
      ]
     },
     "execution_count": 15,
     "metadata": {},
     "output_type": "execute_result"
    }
   ],
   "source": [
    "operation(4,2,input(\"Enter an operation:\"))"
   ]
  },
  {
   "cell_type": "code",
   "execution_count": 23,
   "metadata": {},
   "outputs": [],
   "source": [
    "# 3 finding case of a letter\n",
    "def findCase(ch):\n",
    "    if(ord(ch)>=65 and ord(ch)<=90):\n",
    "        print(\"It is an uppercase letter\")\n",
    "    else:\n",
    "        print(\"It is a lowercase letter\")"
   ]
  },
  {
   "cell_type": "code",
   "execution_count": 27,
   "metadata": {},
   "outputs": [
    {
     "name": "stdin",
     "output_type": "stream",
     "text": [
      "Enter an english alphabet: e\n"
     ]
    },
    {
     "name": "stdout",
     "output_type": "stream",
     "text": [
      "It is a lowercase letter\n"
     ]
    }
   ],
   "source": [
    "findCase(input(\"Enter an english alphabet:\"))"
   ]
  },
  {
   "cell_type": "code",
   "execution_count": 28,
   "metadata": {},
   "outputs": [],
   "source": [
    "# 4 reversing a number\n",
    "def reverse(num):\n",
    "    result = 0\n",
    "    while(num):\n",
    "        rem = num%10\n",
    "        result = result*10 + rem\n",
    "        num //=10\n",
    "    return result"
   ]
  },
  {
   "cell_type": "code",
   "execution_count": 29,
   "metadata": {},
   "outputs": [
    {
     "data": {
      "text/plain": [
       "9278392"
      ]
     },
     "execution_count": 29,
     "metadata": {},
     "output_type": "execute_result"
    }
   ],
   "source": [
    "reverse(2938729)"
   ]
  },
  {
   "cell_type": "code",
   "execution_count": 32,
   "metadata": {},
   "outputs": [],
   "source": [
    "# length of a digit\n",
    "def lengthDig(num):\n",
    "    result = 0\n",
    "    while(num):\n",
    "        num = num//10\n",
    "        result += 1\n",
    "    return result"
   ]
  },
  {
   "cell_type": "code",
   "execution_count": 49,
   "metadata": {},
   "outputs": [],
   "source": [
    "# 5 inverse of a number\n",
    "def posInverse(num):\n",
    "    result = 0\n",
    "    l = lengthDig(num)\n",
    "    for i in range(l,0,-1):\n",
    "        pos = num%10\n",
    "        result = result + i*(10**(l-pos))\n",
    "        num = num//10\n",
    "    return result"
   ]
  },
  {
   "cell_type": "code",
   "execution_count": 50,
   "metadata": {},
   "outputs": [
    {
     "data": {
      "text/plain": [
       "41532"
      ]
     },
     "execution_count": 50,
     "metadata": {},
     "output_type": "execute_result"
    }
   ],
   "source": [
    "posInverse(25413)"
   ]
  },
  {
   "cell_type": "code",
   "execution_count": 57,
   "metadata": {},
   "outputs": [],
   "source": [
    "# 6 gcd\n",
    "def gcd(num1,num2):\n",
    "    if(num2==0):\n",
    "        return num1\n",
    "    return gcd(num2, num2%num1)"
   ]
  },
  {
   "cell_type": "code",
   "execution_count": 60,
   "metadata": {},
   "outputs": [
    {
     "data": {
      "text/plain": [
       "6"
      ]
     },
     "execution_count": 60,
     "metadata": {},
     "output_type": "execute_result"
    }
   ],
   "source": [
    "gcd(36,6)"
   ]
  },
  {
   "cell_type": "code",
   "execution_count": 61,
   "metadata": {},
   "outputs": [],
   "source": [
    "# 7 lcm\n",
    "def lcm(num1,num2):\n",
    "    return (num1*num2)//gcd(num1,num2)"
   ]
  },
  {
   "cell_type": "code",
   "execution_count": 62,
   "metadata": {},
   "outputs": [
    {
     "data": {
      "text/plain": [
       "6"
      ]
     },
     "execution_count": 62,
     "metadata": {},
     "output_type": "execute_result"
    }
   ],
   "source": [
    "lcm(6,36)"
   ]
  },
  {
   "cell_type": "code",
   "execution_count": 66,
   "metadata": {},
   "outputs": [],
   "source": [
    "def isPrime(num):\n",
    "    for i in range(2,int(num**0.5)+1):\n",
    "        if(num%i == 0):\n",
    "            return False\n",
    "    return True"
   ]
  },
  {
   "cell_type": "code",
   "execution_count": 68,
   "metadata": {},
   "outputs": [],
   "source": [
    "# 9\n",
    "def countPrime(arr):\n",
    "    count = 0\n",
    "    for x in arr:\n",
    "        if(not isPrime(x)):\n",
    "            count += 1\n",
    "    return count"
   ]
  },
  {
   "cell_type": "code",
   "execution_count": 69,
   "metadata": {},
   "outputs": [
    {
     "data": {
      "text/plain": [
       "4"
      ]
     },
     "execution_count": 69,
     "metadata": {},
     "output_type": "execute_result"
    }
   ],
   "source": [
    "countPrime([2,3,4,5,6,7,8,9])"
   ]
  },
  {
   "cell_type": "code",
   "execution_count": 70,
   "metadata": {},
   "outputs": [],
   "source": [
    "# 10: check an array is sorted or not\n",
    "def isSorted(arr):\n",
    "    for i in range(0,len(arr)-1):\n",
    "        if(not arr[i]<=arr[i+1]):\n",
    "            return False\n",
    "    return True"
   ]
  },
  {
   "cell_type": "code",
   "execution_count": 72,
   "metadata": {},
   "outputs": [
    {
     "data": {
      "text/plain": [
       "False"
      ]
     },
     "execution_count": 72,
     "metadata": {},
     "output_type": "execute_result"
    }
   ],
   "source": [
    "isSorted([1,2,3,4,6,5])"
   ]
  },
  {
   "cell_type": "code",
   "execution_count": 11,
   "metadata": {},
   "outputs": [],
   "source": [
    "# 11: sort array that contains only 0's and 1's\n",
    "def srt(arr):\n",
    "    d = {0:0,1:1}\n",
    "    for x in arr:\n",
    "        d[x] += 1\n",
    "    result = [0 for x in range(d[0])] + [1 for x in range(d[1])]\n",
    "    return result"
   ]
  },
  {
   "cell_type": "code",
   "execution_count": 12,
   "metadata": {},
   "outputs": [
    {
     "data": {
      "text/plain": [
       "[0, 0, 1, 1, 1, 1]"
      ]
     },
     "execution_count": 12,
     "metadata": {},
     "output_type": "execute_result"
    }
   ],
   "source": [
    "srt([1,1,0,1,0])"
   ]
  },
  {
   "cell_type": "code",
   "execution_count": 1,
   "metadata": {},
   "outputs": [],
   "source": [
    "# 12: place even numbers first then all the odd numbers\n",
    "def srt_evenodd(arr):\n",
    "    i,j = 0,0\n",
    "    while(i<len(arr) and j<len(arr)):\n",
    "        # if we get a value even then swap it with odd value\n",
    "        if(arr[j]%2 == 0):\n",
    "            arr[i],arr[j] = arr[j],arr[i]\n",
    "            i += 1\n",
    "        j += 1"
   ]
  },
  {
   "cell_type": "code",
   "execution_count": 2,
   "metadata": {},
   "outputs": [
    {
     "data": {
      "text/plain": [
       "[2, 4, 6, 8, 5, 3, 7, 1]"
      ]
     },
     "execution_count": 2,
     "metadata": {},
     "output_type": "execute_result"
    }
   ],
   "source": [
    "arr = [1,2,3,4,5,6,7,8]\n",
    "srt_evenodd(arr)\n",
    "arr"
   ]
  },
  {
   "cell_type": "code",
   "execution_count": 3,
   "metadata": {},
   "outputs": [],
   "source": [
    "# 13: reverse an array without taking extra space\n",
    "def rev_arr(arr):\n",
    "    for i in range(len(arr)//2):\n",
    "        arr[i],arr[len(arr)-1-i] = arr[len(arr)-1-i],arr[i]"
   ]
  },
  {
   "cell_type": "code",
   "execution_count": 5,
   "metadata": {},
   "outputs": [
    {
     "data": {
      "text/plain": [
       "[5, 4, 3, 2, 1]"
      ]
     },
     "execution_count": 5,
     "metadata": {},
     "output_type": "execute_result"
    }
   ],
   "source": [
    "arr = [1,2,3,4,5]\n",
    "rev_arr(arr)\n",
    "arr"
   ]
  },
  {
   "cell_type": "code",
   "execution_count": 25,
   "metadata": {},
   "outputs": [],
   "source": [
    "# 14\n",
    "# 14\n",
    "def pairsToTarget(arr, target, pairs=[], overall=[]):\n",
    "    if(len(pairs) == 2):\n",
    "        overall.append(pairs)\n",
    "        if(sum(pairs) == target):\n",
    "            print(pairs)\n",
    "        return\n",
    "    \n",
    "    if(arr == []):\n",
    "        return \n",
    "    \n",
    "    pairsToTarget(arr[1:], target, pairs+[arr[0]], overall)\n",
    "    pairsToTarget(arr[1:], target, pairs, overall)\n",
    "    \n",
    "    return "
   ]
  },
  {
   "cell_type": "code",
   "execution_count": 26,
   "metadata": {},
   "outputs": [
    {
     "name": "stdout",
     "output_type": "stream",
     "text": [
      "[3, 5]\n",
      "[1, 7]\n",
      "[2, 6]\n",
      "[9, -1]\n"
     ]
    }
   ],
   "source": [
    "pairsToTarget([3, 1, 11, 2, 9, 7, 4, 5, -1, 13, 6], 8)"
   ]
  },
  {
   "cell_type": "code",
   "execution_count": 30,
   "metadata": {},
   "outputs": [],
   "source": [
    "# 15\n",
    "def threePairsToTarget(arr, target, pairs=[]):\n",
    "    if(len(pairs) == 3):\n",
    "        if(sum(pairs) == target):\n",
    "            print(pairs)\n",
    "        return\n",
    "    \n",
    "    if(arr == []):\n",
    "        return \n",
    "    \n",
    "    threePairsToTarget(arr[1:], target, pairs+[arr[0]])\n",
    "    threePairsToTarget(arr[1:], target, pairs)\n",
    "    \n",
    "    return "
   ]
  },
  {
   "cell_type": "code",
   "execution_count": 31,
   "metadata": {},
   "outputs": [
    {
     "name": "stdout",
     "output_type": "stream",
     "text": [
      "[3, 1, 5]\n",
      "[3, 7, -1]\n",
      "[1, 2, 6]\n",
      "[1, 9, -1]\n"
     ]
    }
   ],
   "source": [
    "threePairsToTarget([3, 1, 2, 9, 7, 5, -1, 6], 9)"
   ]
  },
  {
   "cell_type": "code",
   "execution_count": 34,
   "metadata": {},
   "outputs": [],
   "source": [
    "# 16 subseq of array\n",
    "def subseq_arr(unchosen,chosen=[]):\n",
    "    if(not unchosen):\n",
    "        print(chosen)\n",
    "        return\n",
    "    num = unchosen[0]\n",
    "    subseq_arr(unchosen[1:],chosen+[num])\n",
    "    subseq_arr(unchosen[1:],chosen)\n",
    "    \n",
    "    return"
   ]
  },
  {
   "cell_type": "code",
   "execution_count": 35,
   "metadata": {},
   "outputs": [
    {
     "name": "stdout",
     "output_type": "stream",
     "text": [
      "[7, 2, 6]\n",
      "[7, 2]\n",
      "[7, 6]\n",
      "[7]\n",
      "[2, 6]\n",
      "[2]\n",
      "[6]\n",
      "[]\n"
     ]
    }
   ],
   "source": [
    "subseq_arr([7,2,6])"
   ]
  },
  {
   "cell_type": "code",
   "execution_count": 36,
   "metadata": {},
   "outputs": [],
   "source": [
    "# 17 permutations of array\n",
    "def permute_arr(unchosen, chosen=[]):\n",
    "    if(not unchosen):\n",
    "        print(chosen)\n",
    "        return\n",
    "    \n",
    "    for i in range(len(unchosen)):\n",
    "        permute_arr(unchosen[:i]+unchosen[i+1:],chosen+[unchosen[i]])\n",
    "        \n",
    "    return"
   ]
  },
  {
   "cell_type": "code",
   "execution_count": 37,
   "metadata": {},
   "outputs": [
    {
     "name": "stdout",
     "output_type": "stream",
     "text": [
      "[7, 2, 6]\n",
      "[7, 6, 2]\n",
      "[2, 7, 6]\n",
      "[2, 6, 7]\n",
      "[6, 7, 2]\n",
      "[6, 2, 7]\n"
     ]
    }
   ],
   "source": [
    "permute_arr([7,2,6])"
   ]
  },
  {
   "cell_type": "code",
   "execution_count": 56,
   "metadata": {},
   "outputs": [],
   "source": [
    "def sumOddLengthSubarrays(arr, subarr=[], s=0):\n",
    "    print(subarr,arr)\n",
    "    if(len(subarr)%2 != 0):\n",
    "        s = s+len(subarr)\n",
    "            \n",
    "    if(len(arr) == 0):\n",
    "        return s\n",
    "    \n",
    "    subarr = subarr+[arr[0]]\n",
    "    s = sumOddLengthSubarrays(arr[1:], subarr, s)\n",
    "    s = sumOddLengthSubarrays(arr[1:], [], s)\n",
    "                              \n",
    "    return s   "
   ]
  },
  {
   "cell_type": "code",
   "execution_count": 57,
   "metadata": {},
   "outputs": [
    {
     "name": "stdout",
     "output_type": "stream",
     "text": [
      "[] [1, 4, 2, 5, 3]\n",
      "[1] [4, 2, 5, 3]\n",
      "[1, 4] [2, 5, 3]\n",
      "[1, 4, 2] [5, 3]\n",
      "[1, 4, 2, 5] [3]\n",
      "[1, 4, 2, 5, 3] []\n",
      "[] []\n",
      "[] [3]\n",
      "[3] []\n",
      "[] []\n",
      "[] [5, 3]\n",
      "[5] [3]\n",
      "[5, 3] []\n",
      "[] []\n",
      "[] [3]\n",
      "[3] []\n",
      "[] []\n",
      "[] [2, 5, 3]\n",
      "[2] [5, 3]\n",
      "[2, 5] [3]\n",
      "[2, 5, 3] []\n",
      "[] []\n",
      "[] [3]\n",
      "[3] []\n",
      "[] []\n",
      "[] [5, 3]\n",
      "[5] [3]\n",
      "[5, 3] []\n",
      "[] []\n",
      "[] [3]\n",
      "[3] []\n",
      "[] []\n",
      "[] [4, 2, 5, 3]\n",
      "[4] [2, 5, 3]\n",
      "[4, 2] [5, 3]\n",
      "[4, 2, 5] [3]\n",
      "[4, 2, 5, 3] []\n",
      "[] []\n",
      "[] [3]\n",
      "[3] []\n",
      "[] []\n",
      "[] [5, 3]\n",
      "[5] [3]\n",
      "[5, 3] []\n",
      "[] []\n",
      "[] [3]\n",
      "[3] []\n",
      "[] []\n",
      "[] [2, 5, 3]\n",
      "[2] [5, 3]\n",
      "[2, 5] [3]\n",
      "[2, 5, 3] []\n",
      "[] []\n",
      "[] [3]\n",
      "[3] []\n",
      "[] []\n",
      "[] [5, 3]\n",
      "[5] [3]\n",
      "[5, 3] []\n",
      "[] []\n",
      "[] [3]\n",
      "[3] []\n",
      "[] []\n"
     ]
    },
    {
     "data": {
      "text/plain": [
       "33"
      ]
     },
     "execution_count": 57,
     "metadata": {},
     "output_type": "execute_result"
    }
   ],
   "source": [
    "sumOddLengthSubarrays([1,4,2,5,3])"
   ]
  },
  {
   "cell_type": "code",
   "execution_count": null,
   "metadata": {},
   "outputs": [],
   "source": []
  }
 ],
 "metadata": {
  "kernelspec": {
   "display_name": "Python 3",
   "language": "python",
   "name": "python3"
  },
  "language_info": {
   "codemirror_mode": {
    "name": "ipython",
    "version": 3
   },
   "file_extension": ".py",
   "mimetype": "text/x-python",
   "name": "python",
   "nbconvert_exporter": "python",
   "pygments_lexer": "ipython3",
   "version": "3.8.3"
  }
 },
 "nbformat": 4,
 "nbformat_minor": 4
}
